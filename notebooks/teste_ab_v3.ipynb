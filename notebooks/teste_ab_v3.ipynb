{
 "cells": [
  {
   "cell_type": "markdown",
   "id": "6c43fc24",
   "metadata": {},
   "source": [
    "# 0.0 Imports"
   ]
  },
  {
   "cell_type": "code",
   "execution_count": 26,
   "id": "7a740ac5",
   "metadata": {
    "ExecuteTime": {
     "end_time": "2023-08-08T23:45:51.154162Z",
     "start_time": "2023-08-08T23:45:51.148169Z"
    }
   },
   "outputs": [],
   "source": [
    "import pandas as pd\n",
    "import numpy as np\n",
    "import math\n",
    "\n",
    "from statsmodels.stats import api as sms\n",
    "from scipy.stats import chi2_contingency"
   ]
  },
  {
   "cell_type": "markdown",
   "id": "421bc555",
   "metadata": {},
   "source": [
    "## 0.1 Loading"
   ]
  },
  {
   "cell_type": "code",
   "execution_count": 2,
   "id": "af53a893",
   "metadata": {
    "ExecuteTime": {
     "end_time": "2023-08-08T23:21:59.356273Z",
     "start_time": "2023-08-08T23:21:59.095034Z"
    }
   },
   "outputs": [],
   "source": [
    "path = 'C:/Users/edils/repos/teste_ab/data/'\n",
    "\n",
    "df_raw = pd.read_csv(path + 'ab_data.csv')"
   ]
  },
  {
   "cell_type": "code",
   "execution_count": 3,
   "id": "d28d78d7",
   "metadata": {
    "ExecuteTime": {
     "end_time": "2023-08-08T23:21:59.372322Z",
     "start_time": "2023-08-08T23:21:59.357849Z"
    }
   },
   "outputs": [
    {
     "data": {
      "text/html": [
       "<div>\n",
       "<style scoped>\n",
       "    .dataframe tbody tr th:only-of-type {\n",
       "        vertical-align: middle;\n",
       "    }\n",
       "\n",
       "    .dataframe tbody tr th {\n",
       "        vertical-align: top;\n",
       "    }\n",
       "\n",
       "    .dataframe thead th {\n",
       "        text-align: right;\n",
       "    }\n",
       "</style>\n",
       "<table border=\"1\" class=\"dataframe\">\n",
       "  <thead>\n",
       "    <tr style=\"text-align: right;\">\n",
       "      <th></th>\n",
       "      <th>user_id</th>\n",
       "      <th>timestamp</th>\n",
       "      <th>group</th>\n",
       "      <th>landing_page</th>\n",
       "      <th>converted</th>\n",
       "    </tr>\n",
       "  </thead>\n",
       "  <tbody>\n",
       "    <tr>\n",
       "      <th>0</th>\n",
       "      <td>851104</td>\n",
       "      <td>2017-01-21 22:11:48.556739</td>\n",
       "      <td>control</td>\n",
       "      <td>old_page</td>\n",
       "      <td>0</td>\n",
       "    </tr>\n",
       "    <tr>\n",
       "      <th>1</th>\n",
       "      <td>804228</td>\n",
       "      <td>2017-01-12 08:01:45.159739</td>\n",
       "      <td>control</td>\n",
       "      <td>old_page</td>\n",
       "      <td>0</td>\n",
       "    </tr>\n",
       "    <tr>\n",
       "      <th>2</th>\n",
       "      <td>661590</td>\n",
       "      <td>2017-01-11 16:55:06.154213</td>\n",
       "      <td>treatment</td>\n",
       "      <td>new_page</td>\n",
       "      <td>0</td>\n",
       "    </tr>\n",
       "    <tr>\n",
       "      <th>3</th>\n",
       "      <td>853541</td>\n",
       "      <td>2017-01-08 18:28:03.143765</td>\n",
       "      <td>treatment</td>\n",
       "      <td>new_page</td>\n",
       "      <td>0</td>\n",
       "    </tr>\n",
       "    <tr>\n",
       "      <th>4</th>\n",
       "      <td>864975</td>\n",
       "      <td>2017-01-21 01:52:26.210827</td>\n",
       "      <td>control</td>\n",
       "      <td>old_page</td>\n",
       "      <td>1</td>\n",
       "    </tr>\n",
       "  </tbody>\n",
       "</table>\n",
       "</div>"
      ],
      "text/plain": [
       "   user_id                   timestamp      group landing_page  converted\n",
       "0   851104  2017-01-21 22:11:48.556739    control     old_page          0\n",
       "1   804228  2017-01-12 08:01:45.159739    control     old_page          0\n",
       "2   661590  2017-01-11 16:55:06.154213  treatment     new_page          0\n",
       "3   853541  2017-01-08 18:28:03.143765  treatment     new_page          0\n",
       "4   864975  2017-01-21 01:52:26.210827    control     old_page          1"
      ]
     },
     "execution_count": 3,
     "metadata": {},
     "output_type": "execute_result"
    }
   ],
   "source": [
    "df_raw.head()"
   ]
  },
  {
   "cell_type": "markdown",
   "id": "42461002",
   "metadata": {},
   "source": [
    "# 1.0 Design do Experimento"
   ]
  },
  {
   "cell_type": "markdown",
   "id": "aef8e5de",
   "metadata": {},
   "source": [
    "## 1.1 Formulação das Hipóteses"
   ]
  },
  {
   "cell_type": "code",
   "execution_count": null,
   "id": "508136ce",
   "metadata": {},
   "outputs": [],
   "source": [
    "# H0 : A conversão da nova página é de 13%\n",
    "# H1 : A conversão da nova página é diferente de 15%"
   ]
  },
  {
   "cell_type": "markdown",
   "id": "8085782d",
   "metadata": {},
   "source": [
    "# 2.0 Parametros do Experimento"
   ]
  },
  {
   "cell_type": "code",
   "execution_count": 4,
   "id": "0c523861",
   "metadata": {
    "ExecuteTime": {
     "end_time": "2023-08-08T23:21:59.387738Z",
     "start_time": "2023-08-08T23:21:59.375276Z"
    }
   },
   "outputs": [],
   "source": [
    "#nivel de confiança\n",
    "confidence_level = 0.95\n",
    "\n",
    "#nivel de significancia\n",
    "significance_level = 0.05\n",
    "\n",
    "#conversoes da pagina atual e nova\n",
    "p1 = 0.13\n",
    "p2 = 0.15\n",
    "\n",
    "#tamanho do efeito\n",
    "effect_size = sms.proportion_effectsize(p1, p2)\n",
    "\n",
    "#poder Estatistico\n",
    "power = 0.80"
   ]
  },
  {
   "cell_type": "code",
   "execution_count": 5,
   "id": "17625344",
   "metadata": {
    "ExecuteTime": {
     "end_time": "2023-08-08T23:21:59.403069Z",
     "start_time": "2023-08-08T23:21:59.389075Z"
    }
   },
   "outputs": [],
   "source": [
    "#Tamanho da amostra\n",
    "sample_n = sms.NormalIndPower().solve_power(\n",
    "            effect_size,\n",
    "            power=power,\n",
    "            alpha=significance_level\n",
    ")\n",
    "\n",
    "sample_n = math.ceil(sample_n)"
   ]
  },
  {
   "cell_type": "code",
   "execution_count": 6,
   "id": "8816d41b",
   "metadata": {
    "ExecuteTime": {
     "end_time": "2023-08-08T23:21:59.419267Z",
     "start_time": "2023-08-08T23:21:59.404787Z"
    }
   },
   "outputs": [
    {
     "name": "stdout",
     "output_type": "stream",
     "text": [
      "O tamanho total da amostra é: 9440\n",
      "O tamanho da amostra do grupo de controle é: 4720\n",
      "O tamanho da amostra do grupo de tratamento é: 4720\n"
     ]
    }
   ],
   "source": [
    "print(f\"O tamanho total da amostra é: {2*sample_n}\")\n",
    "print(f\"O tamanho da amostra do grupo de controle é: {sample_n}\")\n",
    "print(f\"O tamanho da amostra do grupo de tratamento é: {sample_n}\")"
   ]
  },
  {
   "cell_type": "code",
   "execution_count": 30,
   "id": "59b23a63",
   "metadata": {
    "ExecuteTime": {
     "end_time": "2023-08-08T23:47:37.107147Z",
     "start_time": "2023-08-08T23:47:36.812138Z"
    }
   },
   "outputs": [
    {
     "name": "stdout",
     "output_type": "stream",
     "text": [
      "Size of control Group: 4720\n",
      "Size of treatment Group: 4720\n",
      "Control Convertion Rate: 0.11546610169491525\n",
      "Treatment Convertion Rate: 0.11313559322033899\n",
      "p-value: 0.78\n",
      "Falha em Rejeitar a Hipótese Nula\n"
     ]
    }
   ],
   "source": [
    "# Preparar dos dados\n",
    "# Divide duplicate users based on group and landing_page\n",
    "df_query1 = df2.loc[:, ['user_id', 'group', 'landing_page']].groupby('user_id').nunique().query('landing_page > 1 or group > 1').reset_index()\n",
    "\n",
    "# Filter only non_duplicate_users\n",
    "df3 = df2[~df2['user_id'].isin(df_query1['user_id'])]\n",
    "\n",
    "#Amostragem\n",
    "df_treatment = df3.loc[df3['group'] == 'treatment',:].sample(sample_n, random_state=42)\n",
    "df_control = df3.loc[df3['group'] == 'control',:].sample(sample_n, random_state=42)\n",
    "\n",
    "print(f'Size of control Group: {df_control.shape[0]}')\n",
    "print(f'Size of treatment Group: {df_treatment.shape[0]}')\n",
    "\n",
    "df_ab = pd.concat([df_control, df_treatment])\n",
    "\n",
    "#Taxa de conversão\n",
    "converted = df_control['converted'].sum()\n",
    "converted_ratio_control = converted/len(df_control)\n",
    "\n",
    "print(f'Control Convertion Rate: {converted_ratio_control}')\n",
    "\n",
    "converted = df_treatment['converted'].sum()\n",
    "converted_ratio_treatment = converted/len(df_treatment)\n",
    "\n",
    "print(f'Treatment Convertion Rate: {converted_ratio_treatment}')\n",
    "\n",
    "#Teste de Hipótese\n",
    "df_table = df_ab.loc[:,['group','converted']].groupby('group').agg({'converted':['sum','count']})\n",
    "df_table.columns = ['converted','non_converted']\n",
    "\n",
    "\n",
    "chi_val, pval, dof, expected = chi2_contingency(df_table)\n",
    "\n",
    "print(f'p-value: {pval:.2f}')\n",
    "\n",
    "\n",
    "#Conclusão\n",
    "if pval < significance_level:\n",
    "    print('Rejeita a Hipótese Nula')\n",
    "else:\n",
    "    print('Falha em Rejeitar a Hipótese Nula')"
   ]
  },
  {
   "cell_type": "code",
   "execution_count": null,
   "id": "d681dda8",
   "metadata": {},
   "outputs": [],
   "source": [
    "#Conversão de Resultado para R$\n",
    "pagina_atual = 13%\n",
    "pagina_nova = 15%"
   ]
  },
  {
   "cell_type": "code",
   "execution_count": null,
   "id": "85c47847",
   "metadata": {},
   "outputs": [],
   "source": [
    "compradores = numero_visitante * 0.13\n",
    "GMV = compradores*4500"
   ]
  },
  {
   "cell_type": "code",
   "execution_count": 36,
   "id": "2c46e5dc",
   "metadata": {
    "ExecuteTime": {
     "end_time": "2023-08-08T23:57:19.108544Z",
     "start_time": "2023-08-08T23:57:19.090430Z"
    }
   },
   "outputs": [
    {
     "data": {
      "text/html": [
       "<div>\n",
       "<style scoped>\n",
       "    .dataframe tbody tr th:only-of-type {\n",
       "        vertical-align: middle;\n",
       "    }\n",
       "\n",
       "    .dataframe tbody tr th {\n",
       "        vertical-align: top;\n",
       "    }\n",
       "\n",
       "    .dataframe thead th {\n",
       "        text-align: right;\n",
       "    }\n",
       "</style>\n",
       "<table border=\"1\" class=\"dataframe\">\n",
       "  <thead>\n",
       "    <tr style=\"text-align: right;\">\n",
       "      <th></th>\n",
       "      <th>user_id</th>\n",
       "      <th>timestamp</th>\n",
       "      <th>group</th>\n",
       "      <th>landing_page</th>\n",
       "      <th>converted</th>\n",
       "    </tr>\n",
       "  </thead>\n",
       "  <tbody>\n",
       "    <tr>\n",
       "      <th>0</th>\n",
       "      <td>851104</td>\n",
       "      <td>2017-01-21 22:11:48.556739</td>\n",
       "      <td>control</td>\n",
       "      <td>old_page</td>\n",
       "      <td>0</td>\n",
       "    </tr>\n",
       "    <tr>\n",
       "      <th>1</th>\n",
       "      <td>804228</td>\n",
       "      <td>2017-01-12 08:01:45.159739</td>\n",
       "      <td>control</td>\n",
       "      <td>old_page</td>\n",
       "      <td>0</td>\n",
       "    </tr>\n",
       "    <tr>\n",
       "      <th>2</th>\n",
       "      <td>661590</td>\n",
       "      <td>2017-01-11 16:55:06.154213</td>\n",
       "      <td>treatment</td>\n",
       "      <td>new_page</td>\n",
       "      <td>0</td>\n",
       "    </tr>\n",
       "    <tr>\n",
       "      <th>3</th>\n",
       "      <td>853541</td>\n",
       "      <td>2017-01-08 18:28:03.143765</td>\n",
       "      <td>treatment</td>\n",
       "      <td>new_page</td>\n",
       "      <td>0</td>\n",
       "    </tr>\n",
       "    <tr>\n",
       "      <th>4</th>\n",
       "      <td>864975</td>\n",
       "      <td>2017-01-21 01:52:26.210827</td>\n",
       "      <td>control</td>\n",
       "      <td>old_page</td>\n",
       "      <td>1</td>\n",
       "    </tr>\n",
       "  </tbody>\n",
       "</table>\n",
       "</div>"
      ],
      "text/plain": [
       "   user_id                  timestamp      group landing_page  converted\n",
       "0   851104 2017-01-21 22:11:48.556739    control     old_page          0\n",
       "1   804228 2017-01-12 08:01:45.159739    control     old_page          0\n",
       "2   661590 2017-01-11 16:55:06.154213  treatment     new_page          0\n",
       "3   853541 2017-01-08 18:28:03.143765  treatment     new_page          0\n",
       "4   864975 2017-01-21 01:52:26.210827    control     old_page          1"
      ]
     },
     "execution_count": 36,
     "metadata": {},
     "output_type": "execute_result"
    }
   ],
   "source": [
    "df4.head()"
   ]
  },
  {
   "cell_type": "code",
   "execution_count": 35,
   "id": "b09c39e7",
   "metadata": {
    "ExecuteTime": {
     "end_time": "2023-08-08T23:57:12.520407Z",
     "start_time": "2023-08-08T23:57:12.290480Z"
    }
   },
   "outputs": [],
   "source": [
    "df4 = df3.copy()\n",
    "\n",
    "df4['timestamp'] = pd.to_datetime(df4['timestamp']) \n",
    "\n"
   ]
  },
  {
   "cell_type": "markdown",
   "id": "226e8a9f",
   "metadata": {},
   "source": [
    "# 2.0 Análise Descritiva"
   ]
  },
  {
   "cell_type": "code",
   "execution_count": 7,
   "id": "cf10d3f7",
   "metadata": {
    "ExecuteTime": {
     "end_time": "2023-08-08T23:21:59.434963Z",
     "start_time": "2023-08-08T23:21:59.419994Z"
    }
   },
   "outputs": [],
   "source": [
    "df2 = df_raw.copy()"
   ]
  },
  {
   "cell_type": "markdown",
   "id": "24bc4bec",
   "metadata": {},
   "source": [
    "## 2.1 Tamanho"
   ]
  },
  {
   "cell_type": "code",
   "execution_count": 8,
   "id": "04c49622",
   "metadata": {
    "ExecuteTime": {
     "end_time": "2023-08-08T23:21:59.450438Z",
     "start_time": "2023-08-08T23:21:59.436471Z"
    }
   },
   "outputs": [
    {
     "data": {
      "text/plain": [
       "(294478, 5)"
      ]
     },
     "execution_count": 8,
     "metadata": {},
     "output_type": "execute_result"
    }
   ],
   "source": [
    "df2.shape"
   ]
  },
  {
   "cell_type": "markdown",
   "id": "16f04160",
   "metadata": {},
   "source": [
    "## 2.2 Check Na"
   ]
  },
  {
   "cell_type": "code",
   "execution_count": 9,
   "id": "53a3ab1f",
   "metadata": {
    "ExecuteTime": {
     "end_time": "2023-08-08T23:21:59.480939Z",
     "start_time": "2023-08-08T23:21:59.452126Z"
    }
   },
   "outputs": [
    {
     "data": {
      "text/plain": [
       "user_id         0\n",
       "timestamp       0\n",
       "group           0\n",
       "landing_page    0\n",
       "converted       0\n",
       "dtype: int64"
      ]
     },
     "execution_count": 9,
     "metadata": {},
     "output_type": "execute_result"
    }
   ],
   "source": [
    "df2.isna().sum()"
   ]
  },
  {
   "cell_type": "markdown",
   "id": "6eb253f1",
   "metadata": {},
   "source": [
    "## 2.3 Flags"
   ]
  },
  {
   "cell_type": "code",
   "execution_count": 10,
   "id": "95205347",
   "metadata": {
    "ExecuteTime": {
     "end_time": "2023-08-08T23:21:59.713860Z",
     "start_time": "2023-08-08T23:21:59.483926Z"
    }
   },
   "outputs": [
    {
     "data": {
      "text/html": [
       "<div>\n",
       "<style scoped>\n",
       "    .dataframe tbody tr th:only-of-type {\n",
       "        vertical-align: middle;\n",
       "    }\n",
       "\n",
       "    .dataframe tbody tr th {\n",
       "        vertical-align: top;\n",
       "    }\n",
       "\n",
       "    .dataframe thead th {\n",
       "        text-align: right;\n",
       "    }\n",
       "</style>\n",
       "<table border=\"1\" class=\"dataframe\">\n",
       "  <thead>\n",
       "    <tr style=\"text-align: right;\">\n",
       "      <th></th>\n",
       "      <th>user_id</th>\n",
       "      <th>landing_page</th>\n",
       "      <th>group</th>\n",
       "    </tr>\n",
       "  </thead>\n",
       "  <tbody>\n",
       "    <tr>\n",
       "      <th>0</th>\n",
       "      <td>630052</td>\n",
       "      <td>2</td>\n",
       "      <td>1</td>\n",
       "    </tr>\n",
       "    <tr>\n",
       "      <th>1</th>\n",
       "      <td>630126</td>\n",
       "      <td>2</td>\n",
       "      <td>1</td>\n",
       "    </tr>\n",
       "    <tr>\n",
       "      <th>2</th>\n",
       "      <td>630137</td>\n",
       "      <td>2</td>\n",
       "      <td>1</td>\n",
       "    </tr>\n",
       "    <tr>\n",
       "      <th>3</th>\n",
       "      <td>630320</td>\n",
       "      <td>1</td>\n",
       "      <td>2</td>\n",
       "    </tr>\n",
       "    <tr>\n",
       "      <th>4</th>\n",
       "      <td>630471</td>\n",
       "      <td>2</td>\n",
       "      <td>1</td>\n",
       "    </tr>\n",
       "    <tr>\n",
       "      <th>...</th>\n",
       "      <td>...</td>\n",
       "      <td>...</td>\n",
       "      <td>...</td>\n",
       "    </tr>\n",
       "    <tr>\n",
       "      <th>3888</th>\n",
       "      <td>945627</td>\n",
       "      <td>1</td>\n",
       "      <td>2</td>\n",
       "    </tr>\n",
       "    <tr>\n",
       "      <th>3889</th>\n",
       "      <td>945645</td>\n",
       "      <td>2</td>\n",
       "      <td>1</td>\n",
       "    </tr>\n",
       "    <tr>\n",
       "      <th>3890</th>\n",
       "      <td>945703</td>\n",
       "      <td>2</td>\n",
       "      <td>1</td>\n",
       "    </tr>\n",
       "    <tr>\n",
       "      <th>3891</th>\n",
       "      <td>945797</td>\n",
       "      <td>2</td>\n",
       "      <td>1</td>\n",
       "    </tr>\n",
       "    <tr>\n",
       "      <th>3892</th>\n",
       "      <td>945971</td>\n",
       "      <td>2</td>\n",
       "      <td>1</td>\n",
       "    </tr>\n",
       "  </tbody>\n",
       "</table>\n",
       "<p>3893 rows × 3 columns</p>\n",
       "</div>"
      ],
      "text/plain": [
       "      user_id  landing_page  group\n",
       "0      630052             2      1\n",
       "1      630126             2      1\n",
       "2      630137             2      1\n",
       "3      630320             1      2\n",
       "4      630471             2      1\n",
       "...       ...           ...    ...\n",
       "3888   945627             1      2\n",
       "3889   945645             2      1\n",
       "3890   945703             2      1\n",
       "3891   945797             2      1\n",
       "3892   945971             2      1\n",
       "\n",
       "[3893 rows x 3 columns]"
      ]
     },
     "execution_count": 10,
     "metadata": {},
     "output_type": "execute_result"
    }
   ],
   "source": [
    "#Check for duplicates\n",
    "df2.loc[:,['user_id','landing_page','group']].groupby(['user_id']).nunique().query('landing_page > 1 or group > 1').reset_index()"
   ]
  },
  {
   "cell_type": "code",
   "execution_count": 11,
   "id": "01821a84",
   "metadata": {
    "ExecuteTime": {
     "end_time": "2023-08-08T23:21:59.962168Z",
     "start_time": "2023-08-08T23:21:59.717389Z"
    }
   },
   "outputs": [],
   "source": []
  },
  {
   "cell_type": "code",
   "execution_count": 12,
   "id": "4c3ae9ac",
   "metadata": {
    "ExecuteTime": {
     "end_time": "2023-08-08T23:21:59.977697Z",
     "start_time": "2023-08-08T23:21:59.963165Z"
    }
   },
   "outputs": [
    {
     "data": {
      "text/plain": [
       "(286692, 5)"
      ]
     },
     "execution_count": 12,
     "metadata": {},
     "output_type": "execute_result"
    }
   ],
   "source": [
    "df3.shape"
   ]
  },
  {
   "cell_type": "markdown",
   "id": "cacfd0f9",
   "metadata": {},
   "source": [
    "# 3.0 Amostragem Aleatoria dos grupos de Controle e Tratamento"
   ]
  },
  {
   "cell_type": "code",
   "execution_count": 13,
   "id": "df859958",
   "metadata": {
    "ExecuteTime": {
     "end_time": "2023-08-08T23:22:00.070919Z",
     "start_time": "2023-08-08T23:21:59.980119Z"
    }
   },
   "outputs": [
    {
     "name": "stdout",
     "output_type": "stream",
     "text": [
      "Size of Control: 4720\n",
      "Size of Treatment: 4720\n"
     ]
    }
   ],
   "source": [
    "df_control = df3.loc[df3['group'] == 'control',:].sample(sample_n, random_state=42)\n",
    "\n",
    "df_treatment = df3.loc[df3['group'] == 'treatment',:].sample(sample_n, random_state=42)\n",
    "\n",
    "print(f'Size of Control: {df_control.shape[0]}')\n",
    "print(f'Size of Treatment: {df_control.shape[0]}')"
   ]
  },
  {
   "cell_type": "markdown",
   "id": "676ac69b",
   "metadata": {},
   "source": [
    "## 3.1 Cálculo da métrica de interesse entre os grupos(Conversão de cada página)"
   ]
  },
  {
   "cell_type": "code",
   "execution_count": 14,
   "id": "e40cc497",
   "metadata": {
    "ExecuteTime": {
     "end_time": "2023-08-08T23:22:00.086565Z",
     "start_time": "2023-08-08T23:22:00.071831Z"
    }
   },
   "outputs": [
    {
     "name": "stdout",
     "output_type": "stream",
     "text": [
      "Conversion rate - Control Group: 0.11546610169491525\n",
      "Conversion rate - Treament Group: 0.11313559322033899\n"
     ]
    }
   ],
   "source": [
    "#Control Group\n",
    "control_buyers = df_control['converted'].sum()\n",
    "\n",
    "control_visitors = len(df_control)\n",
    "\n",
    "print(f\"Conversion rate - Control Group: {control_buyers/control_visitors}\" )\n",
    "  \n",
    "#Treatment Group      \n",
    "treatment_buyers = df_treatment['converted'].sum()\n",
    "\n",
    "treatment_visitors = len(df_treatment)\n",
    "\n",
    "print(f\"Conversion rate - Treament Group: {treatment_buyers/treatment_visitors}\" )      "
   ]
  },
  {
   "cell_type": "code",
   "execution_count": null,
   "id": "9f2366a3",
   "metadata": {
    "ExecuteTime": {
     "end_time": "2023-08-02T10:24:03.397568Z",
     "start_time": "2023-08-02T10:24:03.389729Z"
    }
   },
   "outputs": [],
   "source": []
  },
  {
   "cell_type": "code",
   "execution_count": null,
   "id": "4f9b4041",
   "metadata": {},
   "outputs": [],
   "source": []
  },
  {
   "cell_type": "code",
   "execution_count": null,
   "id": "e7a4e378",
   "metadata": {},
   "outputs": [],
   "source": []
  }
 ],
 "metadata": {
  "kernelspec": {
   "display_name": "Python 3 (ipykernel)",
   "language": "python",
   "name": "python3"
  },
  "language_info": {
   "codemirror_mode": {
    "name": "ipython",
    "version": 3
   },
   "file_extension": ".py",
   "mimetype": "text/x-python",
   "name": "python",
   "nbconvert_exporter": "python",
   "pygments_lexer": "ipython3",
   "version": "3.10.12"
  }
 },
 "nbformat": 4,
 "nbformat_minor": 5
}
