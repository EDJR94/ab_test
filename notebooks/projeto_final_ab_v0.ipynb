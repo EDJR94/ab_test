{
 "cells": [
  {
   "cell_type": "markdown",
   "id": "8b14c8b6",
   "metadata": {},
   "source": [
    "---\n",
    "\n",
    "# A/B Test - Problem Description\n",
    "\n",
    "A Electronic House é um comercio online ( e-commerce ) de produtos de informática\n",
    "para casas e escritórios. Os clientes podem comprar mouses, monitores, teclados,\n",
    "computadores, laptops, cabos HDMI, fones de ouvido, cameras webcam, entre\n",
    "outros, através de um site online e recebem os produtos no conforto de suas casas\n",
    "\n",
    "O Diretor de Produtos Global pediu ao Head de Design que desenvolvesse uma\n",
    "nova forma de finalizar a compra com cartão de crédito, sem a necessidade do\n",
    "cliente preencher manualmente todas as informações do cartão e que funcionasse\n",
    "em todos os países.\n",
    "\n",
    "Depois de meses desenvolvendo esse dispositivo, o time de Desenvolvimento\n",
    "Backend entregou uma solução de pagamentos, na qual **90% das informações do\n",
    "formulário eram preenchido automaticamente.**\n",
    "\n",
    "O Head de Designer gostaria de medir a efetividade do novo dispositivo de\n",
    "preenchimento automático dos dados do cartão de crédito na página de vendas e\n",
    "reportar os resultados ao Diretor de Produtos Global, para concluir se a nova forma\n",
    "de pagamento é realmente melhor do que a antiga.\n",
    "\n",
    "As duas páginas foram colocadas no ar e durante alguns meses e o time de FrontEnd desenvolveu uma automação que atribui um rótulo para cada cliente,\n",
    "mostrando qual a página de vendas aquele determinado cliente estava visualizando.\n",
    "Todos esses dados foram armazenados em um banco de dados e podem ser\n",
    "acessados pelos times da Electronic House.\n",
    "\n",
    "Depois de alguns meses de experimento, o time de Designers da Electronic House,\n",
    "precisa avaliar os resultados do experimento realizado, a fim de concluir qual era a\n",
    "forma de pagamento mais eficaz.\n",
    "\n",
    "Porém, o time não possui as habilidades necessárias para avaliar os dados e\n",
    "concluir o experimento. Nesse contexto, você foi contratado como Cientista de\n",
    "Dados para ajudar o time de Designers a **validar a efetividade do novo meio de\n",
    "pagamento, com mais confiança e rigidez na análise.**\n",
    "\n",
    "O entregável do seu trabalho é o seguinte:\n",
    "1. Qual a melhor forma de pagamento: Preenchimento Manual ou Automático do\n",
    "formulário de dados do cartão de crédito?"
   ]
  },
  {
   "cell_type": "markdown",
   "id": "2cda211f",
   "metadata": {},
   "source": [
    "# 0.0 Imports"
   ]
  },
  {
   "cell_type": "code",
   "execution_count": 36,
   "id": "841b881f",
   "metadata": {
    "ExecuteTime": {
     "end_time": "2023-08-09T20:34:43.913739Z",
     "start_time": "2023-08-09T20:34:43.897947Z"
    }
   },
   "outputs": [],
   "source": [
    "import pandas as pd\n",
    "import numpy as np\n",
    "\n",
    "from statsmodels.stats import api as sms\n",
    "from scipy.stats import ttest_ind"
   ]
  },
  {
   "cell_type": "markdown",
   "id": "c3ee81a6",
   "metadata": {},
   "source": [
    "## 0.1 Load Data"
   ]
  },
  {
   "cell_type": "code",
   "execution_count": 2,
   "id": "4f20bf75",
   "metadata": {
    "ExecuteTime": {
     "end_time": "2023-08-09T18:17:56.827092Z",
     "start_time": "2023-08-09T18:17:56.797705Z"
    }
   },
   "outputs": [],
   "source": [
    "path = 'C:/Users/edils/repos/teste_ab/data/'\n",
    "\n",
    "df_raw = pd.read_csv(path + 'ab_testing.csv')"
   ]
  },
  {
   "cell_type": "code",
   "execution_count": 3,
   "id": "57819931",
   "metadata": {
    "ExecuteTime": {
     "end_time": "2023-08-09T18:17:56.842527Z",
     "start_time": "2023-08-09T18:17:56.828381Z"
    }
   },
   "outputs": [
    {
     "data": {
      "text/html": [
       "<div>\n",
       "<style scoped>\n",
       "    .dataframe tbody tr th:only-of-type {\n",
       "        vertical-align: middle;\n",
       "    }\n",
       "\n",
       "    .dataframe tbody tr th {\n",
       "        vertical-align: top;\n",
       "    }\n",
       "\n",
       "    .dataframe thead th {\n",
       "        text-align: right;\n",
       "    }\n",
       "</style>\n",
       "<table border=\"1\" class=\"dataframe\">\n",
       "  <thead>\n",
       "    <tr style=\"text-align: right;\">\n",
       "      <th></th>\n",
       "      <th>uid</th>\n",
       "      <th>country</th>\n",
       "      <th>gender</th>\n",
       "      <th>spent</th>\n",
       "      <th>purchases</th>\n",
       "      <th>date</th>\n",
       "      <th>group</th>\n",
       "      <th>device</th>\n",
       "    </tr>\n",
       "  </thead>\n",
       "  <tbody>\n",
       "    <tr>\n",
       "      <th>0</th>\n",
       "      <td>11115722</td>\n",
       "      <td>MEX</td>\n",
       "      <td>F</td>\n",
       "      <td>1595</td>\n",
       "      <td>5</td>\n",
       "      <td>2016-03-08</td>\n",
       "      <td>GRP B</td>\n",
       "      <td>I</td>\n",
       "    </tr>\n",
       "    <tr>\n",
       "      <th>1</th>\n",
       "      <td>11122053</td>\n",
       "      <td>USA</td>\n",
       "      <td>M</td>\n",
       "      <td>498</td>\n",
       "      <td>2</td>\n",
       "      <td>2017-07-14</td>\n",
       "      <td>GRP B</td>\n",
       "      <td>I</td>\n",
       "    </tr>\n",
       "    <tr>\n",
       "      <th>2</th>\n",
       "      <td>11128688</td>\n",
       "      <td>USA</td>\n",
       "      <td>F</td>\n",
       "      <td>2394</td>\n",
       "      <td>6</td>\n",
       "      <td>2017-09-17</td>\n",
       "      <td>GRP A</td>\n",
       "      <td>I</td>\n",
       "    </tr>\n",
       "    <tr>\n",
       "      <th>3</th>\n",
       "      <td>11130578</td>\n",
       "      <td>USA</td>\n",
       "      <td>F</td>\n",
       "      <td>1197</td>\n",
       "      <td>3</td>\n",
       "      <td>2017-11-30</td>\n",
       "      <td>GRP A</td>\n",
       "      <td>I</td>\n",
       "    </tr>\n",
       "    <tr>\n",
       "      <th>4</th>\n",
       "      <td>11130759</td>\n",
       "      <td>ESP</td>\n",
       "      <td>M</td>\n",
       "      <td>1297</td>\n",
       "      <td>3</td>\n",
       "      <td>2018-01-10</td>\n",
       "      <td>GRP B</td>\n",
       "      <td>A</td>\n",
       "    </tr>\n",
       "  </tbody>\n",
       "</table>\n",
       "</div>"
      ],
      "text/plain": [
       "        uid country gender  spent  purchases        date  group device\n",
       "0  11115722     MEX      F   1595          5  2016-03-08  GRP B      I\n",
       "1  11122053     USA      M    498          2  2017-07-14  GRP B      I\n",
       "2  11128688     USA      F   2394          6  2017-09-17  GRP A      I\n",
       "3  11130578     USA      F   1197          3  2017-11-30  GRP A      I\n",
       "4  11130759     ESP      M   1297          3  2018-01-10  GRP B      A"
      ]
     },
     "execution_count": 3,
     "metadata": {},
     "output_type": "execute_result"
    }
   ],
   "source": [
    "df_raw.head()"
   ]
  },
  {
   "cell_type": "code",
   "execution_count": 4,
   "id": "b2847131",
   "metadata": {
    "ExecuteTime": {
     "end_time": "2023-08-09T18:17:56.873223Z",
     "start_time": "2023-08-09T18:17:56.844609Z"
    }
   },
   "outputs": [
    {
     "name": "stdout",
     "output_type": "stream",
     "text": [
      "<class 'pandas.core.frame.DataFrame'>\n",
      "RangeIndex: 45883 entries, 0 to 45882\n",
      "Data columns (total 8 columns):\n",
      " #   Column     Non-Null Count  Dtype \n",
      "---  ------     --------------  ----- \n",
      " 0   uid        45883 non-null  int64 \n",
      " 1   country    45883 non-null  object\n",
      " 2   gender     45883 non-null  object\n",
      " 3   spent      45883 non-null  int64 \n",
      " 4   purchases  45883 non-null  int64 \n",
      " 5   date       45883 non-null  object\n",
      " 6   group      45883 non-null  object\n",
      " 7   device     45883 non-null  object\n",
      "dtypes: int64(3), object(5)\n",
      "memory usage: 2.8+ MB\n"
     ]
    }
   ],
   "source": [
    "df_raw.info()"
   ]
  },
  {
   "cell_type": "markdown",
   "id": "7ca4fb7f",
   "metadata": {},
   "source": [
    "# 1.0 Design do Experimento"
   ]
  },
  {
   "cell_type": "code",
   "execution_count": 5,
   "id": "cc967fc4",
   "metadata": {
    "ExecuteTime": {
     "end_time": "2023-08-09T18:17:56.889243Z",
     "start_time": "2023-08-09T18:17:56.874253Z"
    }
   },
   "outputs": [],
   "source": [
    "# Objetivo: Definir se o preenchimento automático é melhor que que o manual\n",
    "# Métrica: GMV médio\n",
    "\n",
    "# Grupo A = Preenchimento automático\n",
    "# Grupo B = Preenchimento Manual"
   ]
  },
  {
   "cell_type": "markdown",
   "id": "308b669d",
   "metadata": {},
   "source": [
    "## 1.1 Hipóteses do Experimento"
   ]
  },
  {
   "cell_type": "code",
   "execution_count": 6,
   "id": "ee5c596a",
   "metadata": {
    "ExecuteTime": {
     "end_time": "2023-08-09T18:17:56.904374Z",
     "start_time": "2023-08-09T18:17:56.890258Z"
    }
   },
   "outputs": [],
   "source": [
    "# H0 : média de gastos(GMV) da página A = média de gastos(GMV) da página B \n",
    "# H1 : média de gastos(GMV) da página A <> média de gastos(GMV) da página B"
   ]
  },
  {
   "cell_type": "markdown",
   "id": "72c8fdf2",
   "metadata": {},
   "source": [
    "## 1.2 Tamanho da Amostra"
   ]
  },
  {
   "cell_type": "code",
   "execution_count": 80,
   "id": "4ff83700",
   "metadata": {
    "ExecuteTime": {
     "end_time": "2023-08-09T20:38:23.214290Z",
     "start_time": "2023-08-09T20:38:23.203921Z"
    }
   },
   "outputs": [
    {
     "name": "stdout",
     "output_type": "stream",
     "text": [
      "Número de Amostras: 763\n"
     ]
    }
   ],
   "source": [
    "#Effect size\n",
    "\n",
    "#init_metric = Média Sales ou Média GMV\n",
    "#end_metric = metric lift (5% sobre a metrica atual)\n",
    "#std_metric = Desvio padrão das Sales ou GMV\n",
    "\n",
    "#This values are from mean and std from Brazil\n",
    "init_metric = 1874.18\n",
    "end_metric = init_metric * 1.10\n",
    "\n",
    "std_metric = 1305.25\n",
    "\n",
    "effect_size = (end_metric - init_metric) / std_metric\n",
    "\n",
    "sample_size = sms.tt_ind_solve_power(\n",
    "    effect_size = effect_size,\n",
    "    alpha = 0.05,\n",
    "    power = 0.80\n",
    ")\n",
    "\n",
    "print(f\"Número de Amostras: {np.ceil(sample_size).astype(int)}\")"
   ]
  },
  {
   "cell_type": "code",
   "execution_count": 81,
   "id": "9b677d52",
   "metadata": {
    "ExecuteTime": {
     "end_time": "2023-08-09T20:38:23.819986Z",
     "start_time": "2023-08-09T20:38:23.810921Z"
    }
   },
   "outputs": [],
   "source": [
    "sample_size = np.ceil(sample_size).astype(int)"
   ]
  },
  {
   "cell_type": "markdown",
   "id": "f24a6b41",
   "metadata": {},
   "source": [
    "# 2.0 Preparação dos Dados"
   ]
  },
  {
   "cell_type": "code",
   "execution_count": 82,
   "id": "2a81a646",
   "metadata": {
    "ExecuteTime": {
     "end_time": "2023-08-09T20:38:24.175368Z",
     "start_time": "2023-08-09T20:38:24.168569Z"
    }
   },
   "outputs": [],
   "source": [
    "df2 = df_raw.copy()"
   ]
  },
  {
   "cell_type": "code",
   "execution_count": 83,
   "id": "e6d179ce",
   "metadata": {
    "ExecuteTime": {
     "end_time": "2023-08-09T20:38:24.344741Z",
     "start_time": "2023-08-09T20:38:24.326698Z"
    }
   },
   "outputs": [
    {
     "data": {
      "text/plain": [
       "mean    1874.184592\n",
       "std     1305.259136\n",
       "Name: spent, dtype: float64"
      ]
     },
     "execution_count": 83,
     "metadata": {},
     "output_type": "execute_result"
    }
   ],
   "source": [
    "# Use Data only from Brazil\n",
    "df2 = df2.loc[df2['country'] == 'ESP',:]\n",
    "\n",
    "# mean and std\n",
    "df2['spent'].agg(['mean','std'])"
   ]
  },
  {
   "cell_type": "code",
   "execution_count": 84,
   "id": "780e8586",
   "metadata": {
    "ExecuteTime": {
     "end_time": "2023-08-09T20:38:24.500763Z",
     "start_time": "2023-08-09T20:38:24.484586Z"
    }
   },
   "outputs": [
    {
     "data": {
      "text/html": [
       "<div>\n",
       "<style scoped>\n",
       "    .dataframe tbody tr th:only-of-type {\n",
       "        vertical-align: middle;\n",
       "    }\n",
       "\n",
       "    .dataframe tbody tr th {\n",
       "        vertical-align: top;\n",
       "    }\n",
       "\n",
       "    .dataframe thead th {\n",
       "        text-align: right;\n",
       "    }\n",
       "</style>\n",
       "<table border=\"1\" class=\"dataframe\">\n",
       "  <thead>\n",
       "    <tr style=\"text-align: right;\">\n",
       "      <th></th>\n",
       "      <th>uid</th>\n",
       "      <th>country</th>\n",
       "      <th>gender</th>\n",
       "      <th>spent</th>\n",
       "      <th>purchases</th>\n",
       "      <th>date</th>\n",
       "      <th>group</th>\n",
       "      <th>device</th>\n",
       "    </tr>\n",
       "  </thead>\n",
       "  <tbody>\n",
       "    <tr>\n",
       "      <th>4</th>\n",
       "      <td>11130759</td>\n",
       "      <td>ESP</td>\n",
       "      <td>M</td>\n",
       "      <td>1297</td>\n",
       "      <td>3</td>\n",
       "      <td>2018-01-10</td>\n",
       "      <td>GRP B</td>\n",
       "      <td>A</td>\n",
       "    </tr>\n",
       "    <tr>\n",
       "      <th>17</th>\n",
       "      <td>11149952</td>\n",
       "      <td>ESP</td>\n",
       "      <td>M</td>\n",
       "      <td>398</td>\n",
       "      <td>2</td>\n",
       "      <td>2017-02-02</td>\n",
       "      <td>GRP A</td>\n",
       "      <td>A</td>\n",
       "    </tr>\n",
       "    <tr>\n",
       "      <th>40</th>\n",
       "      <td>11183968</td>\n",
       "      <td>ESP</td>\n",
       "      <td>M</td>\n",
       "      <td>996</td>\n",
       "      <td>4</td>\n",
       "      <td>2016-04-01</td>\n",
       "      <td>GRP A</td>\n",
       "      <td>A</td>\n",
       "    </tr>\n",
       "    <tr>\n",
       "      <th>45</th>\n",
       "      <td>11193748</td>\n",
       "      <td>ESP</td>\n",
       "      <td>M</td>\n",
       "      <td>299</td>\n",
       "      <td>1</td>\n",
       "      <td>2016-10-11</td>\n",
       "      <td>GRP A</td>\n",
       "      <td>A</td>\n",
       "    </tr>\n",
       "    <tr>\n",
       "      <th>47</th>\n",
       "      <td>11199766</td>\n",
       "      <td>ESP</td>\n",
       "      <td>F</td>\n",
       "      <td>199</td>\n",
       "      <td>1</td>\n",
       "      <td>2017-05-04</td>\n",
       "      <td>GRP A</td>\n",
       "      <td>A</td>\n",
       "    </tr>\n",
       "  </tbody>\n",
       "</table>\n",
       "</div>"
      ],
      "text/plain": [
       "         uid country gender  spent  purchases        date  group device\n",
       "4   11130759     ESP      M   1297          3  2018-01-10  GRP B      A\n",
       "17  11149952     ESP      M    398          2  2017-02-02  GRP A      A\n",
       "40  11183968     ESP      M    996          4  2016-04-01  GRP A      A\n",
       "45  11193748     ESP      M    299          1  2016-10-11  GRP A      A\n",
       "47  11199766     ESP      F    199          1  2017-05-04  GRP A      A"
      ]
     },
     "execution_count": 84,
     "metadata": {},
     "output_type": "execute_result"
    }
   ],
   "source": [
    "df2.head()"
   ]
  },
  {
   "cell_type": "markdown",
   "id": "76f5ef67",
   "metadata": {},
   "source": [
    "## 2.1 Check Na"
   ]
  },
  {
   "cell_type": "code",
   "execution_count": 85,
   "id": "e19066be",
   "metadata": {
    "ExecuteTime": {
     "end_time": "2023-08-09T20:38:24.814917Z",
     "start_time": "2023-08-09T20:38:24.807626Z"
    }
   },
   "outputs": [
    {
     "data": {
      "text/plain": [
       "uid          0\n",
       "country      0\n",
       "gender       0\n",
       "spent        0\n",
       "purchases    0\n",
       "date         0\n",
       "group        0\n",
       "device       0\n",
       "dtype: int64"
      ]
     },
     "execution_count": 85,
     "metadata": {},
     "output_type": "execute_result"
    }
   ],
   "source": [
    "df2.isna().sum()"
   ]
  },
  {
   "cell_type": "markdown",
   "id": "5a903b03",
   "metadata": {},
   "source": [
    "## 2.2 Check Unidade Experimental (pessoas)"
   ]
  },
  {
   "cell_type": "code",
   "execution_count": 86,
   "id": "9d2874de",
   "metadata": {
    "ExecuteTime": {
     "end_time": "2023-08-09T20:38:25.156023Z",
     "start_time": "2023-08-09T20:38:25.139589Z"
    }
   },
   "outputs": [
    {
     "data": {
      "text/html": [
       "<div>\n",
       "<style scoped>\n",
       "    .dataframe tbody tr th:only-of-type {\n",
       "        vertical-align: middle;\n",
       "    }\n",
       "\n",
       "    .dataframe tbody tr th {\n",
       "        vertical-align: top;\n",
       "    }\n",
       "\n",
       "    .dataframe thead th {\n",
       "        text-align: right;\n",
       "    }\n",
       "</style>\n",
       "<table border=\"1\" class=\"dataframe\">\n",
       "  <thead>\n",
       "    <tr style=\"text-align: right;\">\n",
       "      <th></th>\n",
       "      <th>uid</th>\n",
       "      <th>group</th>\n",
       "    </tr>\n",
       "  </thead>\n",
       "  <tbody>\n",
       "  </tbody>\n",
       "</table>\n",
       "</div>"
      ],
      "text/plain": [
       "Empty DataFrame\n",
       "Columns: [uid, group]\n",
       "Index: []"
      ]
     },
     "execution_count": 86,
     "metadata": {},
     "output_type": "execute_result"
    }
   ],
   "source": [
    "df2[['uid', 'group']].groupby('uid').count().reset_index().query('group > 1')"
   ]
  },
  {
   "cell_type": "code",
   "execution_count": 87,
   "id": "e89d7aed",
   "metadata": {
    "ExecuteTime": {
     "end_time": "2023-08-09T20:38:25.328380Z",
     "start_time": "2023-08-09T20:38:25.314683Z"
    }
   },
   "outputs": [],
   "source": [
    "#Nenhuma pessoa foi classificada errado pelos cookies"
   ]
  },
  {
   "cell_type": "markdown",
   "id": "75bbc1f6",
   "metadata": {},
   "source": [
    "## 2.3 Control/Treatment Homogenity"
   ]
  },
  {
   "cell_type": "code",
   "execution_count": 88,
   "id": "c5e7a3a0",
   "metadata": {
    "ExecuteTime": {
     "end_time": "2023-08-09T20:38:25.686631Z",
     "start_time": "2023-08-09T20:38:25.664864Z"
    }
   },
   "outputs": [
    {
     "data": {
      "text/html": [
       "<div>\n",
       "<style scoped>\n",
       "    .dataframe tbody tr th:only-of-type {\n",
       "        vertical-align: middle;\n",
       "    }\n",
       "\n",
       "    .dataframe tbody tr th {\n",
       "        vertical-align: top;\n",
       "    }\n",
       "\n",
       "    .dataframe thead tr th {\n",
       "        text-align: left;\n",
       "    }\n",
       "</style>\n",
       "<table border=\"1\" class=\"dataframe\">\n",
       "  <thead>\n",
       "    <tr>\n",
       "      <th></th>\n",
       "      <th>group</th>\n",
       "      <th>country</th>\n",
       "      <th colspan=\"4\" halign=\"left\">spent</th>\n",
       "      <th>gender</th>\n",
       "      <th colspan=\"4\" halign=\"left\">purchases</th>\n",
       "      <th>device</th>\n",
       "    </tr>\n",
       "    <tr>\n",
       "      <th></th>\n",
       "      <th></th>\n",
       "      <th>count</th>\n",
       "      <th>mean</th>\n",
       "      <th>std</th>\n",
       "      <th>min</th>\n",
       "      <th>max</th>\n",
       "      <th>count</th>\n",
       "      <th>mean</th>\n",
       "      <th>std</th>\n",
       "      <th>min</th>\n",
       "      <th>max</th>\n",
       "      <th>count</th>\n",
       "    </tr>\n",
       "  </thead>\n",
       "  <tbody>\n",
       "    <tr>\n",
       "      <th>0</th>\n",
       "      <td>GRP A</td>\n",
       "      <td>970</td>\n",
       "      <td>1794.191753</td>\n",
       "      <td>1273.604015</td>\n",
       "      <td>99</td>\n",
       "      <td>8581</td>\n",
       "      <td>970</td>\n",
       "      <td>4.364948</td>\n",
       "      <td>2.934934</td>\n",
       "      <td>1</td>\n",
       "      <td>19</td>\n",
       "      <td>970</td>\n",
       "    </tr>\n",
       "    <tr>\n",
       "      <th>1</th>\n",
       "      <td>GRP B</td>\n",
       "      <td>964</td>\n",
       "      <td>1954.675311</td>\n",
       "      <td>1332.172125</td>\n",
       "      <td>99</td>\n",
       "      <td>8980</td>\n",
       "      <td>964</td>\n",
       "      <td>4.764523</td>\n",
       "      <td>3.023540</td>\n",
       "      <td>1</td>\n",
       "      <td>20</td>\n",
       "      <td>964</td>\n",
       "    </tr>\n",
       "  </tbody>\n",
       "</table>\n",
       "</div>"
      ],
      "text/plain": [
       "   group country        spent                        gender purchases  \\\n",
       "           count         mean          std min   max  count      mean   \n",
       "0  GRP A     970  1794.191753  1273.604015  99  8581    970  4.364948   \n",
       "1  GRP B     964  1954.675311  1332.172125  99  8980    964  4.764523   \n",
       "\n",
       "                    device  \n",
       "        std min max  count  \n",
       "0  2.934934   1  19    970  \n",
       "1  3.023540   1  20    964  "
      ]
     },
     "execution_count": 88,
     "metadata": {},
     "output_type": "execute_result"
    }
   ],
   "source": [
    "df2[['group', 'gender', 'purchases', 'device','spent','country']].groupby('group').agg({\n",
    "                                                            'country':'count',\n",
    "                                                            'spent':['mean', 'std', 'min', 'max'],\n",
    "                                                            'gender':'count',\n",
    "                                                            'purchases':['mean', 'std', 'min', 'max'],\n",
    "                                                            'device':'count'\n",
    "                                                            \n",
    "}).reset_index()"
   ]
  },
  {
   "cell_type": "code",
   "execution_count": 89,
   "id": "5437b1cd",
   "metadata": {
    "ExecuteTime": {
     "end_time": "2023-08-09T20:38:25.859794Z",
     "start_time": "2023-08-09T20:38:25.846684Z"
    }
   },
   "outputs": [],
   "source": [
    "#Parace que ambos os grupos são homogêneos"
   ]
  },
  {
   "cell_type": "markdown",
   "id": "227173e0",
   "metadata": {},
   "source": [
    "# 3.0 Testes de Hióteses"
   ]
  },
  {
   "cell_type": "markdown",
   "id": "2aad4c41",
   "metadata": {},
   "source": [
    "## 3.1 Groups"
   ]
  },
  {
   "cell_type": "code",
   "execution_count": 90,
   "id": "8126fbd1",
   "metadata": {
    "ExecuteTime": {
     "end_time": "2023-08-09T20:38:26.405096Z",
     "start_time": "2023-08-09T20:38:26.399734Z"
    }
   },
   "outputs": [],
   "source": [
    "sample_A = df2.loc[df2['group'] == 'GRP A','spent'].sample(n=sample_size, random_state=42)\n",
    "sample_B = df2.loc[df2['group'] == 'GRP B','spent'].sample(n=sample_size, random_state=42)"
   ]
  },
  {
   "cell_type": "markdown",
   "id": "1b9d76b7",
   "metadata": {},
   "source": [
    "## 3.2 Inferência Estatística"
   ]
  },
  {
   "cell_type": "code",
   "execution_count": 91,
   "id": "881e3f5b",
   "metadata": {
    "ExecuteTime": {
     "end_time": "2023-08-09T20:38:26.797337Z",
     "start_time": "2023-08-09T20:38:26.777923Z"
    }
   },
   "outputs": [
    {
     "name": "stdout",
     "output_type": "stream",
     "text": [
      "p-value: 0.04260378484423853\n"
     ]
    }
   ],
   "source": [
    "t_test, p_value = ttest_ind(sample_A, sample_B)\n",
    "print(f'p-value: {p_value}')"
   ]
  },
  {
   "cell_type": "markdown",
   "id": "34a65df2",
   "metadata": {},
   "source": [
    "# 4.0 Conclusão"
   ]
  },
  {
   "cell_type": "code",
   "execution_count": 92,
   "id": "b76a5162",
   "metadata": {
    "ExecuteTime": {
     "end_time": "2023-08-09T20:38:27.500368Z",
     "start_time": "2023-08-09T20:38:27.496851Z"
    }
   },
   "outputs": [
    {
     "name": "stdout",
     "output_type": "stream",
     "text": [
      "Rejeita Hipótese Nula\n"
     ]
    }
   ],
   "source": [
    "significance_level = 0.05\n",
    "if p_value < significance_level:\n",
    "    print('Rejeita Hipótese Nula')\n",
    "else:\n",
    "    print('Falha em rejeitar a hipótese nula')"
   ]
  },
  {
   "cell_type": "code",
   "execution_count": null,
   "id": "9526cfc5",
   "metadata": {},
   "outputs": [],
   "source": []
  }
 ],
 "metadata": {
  "kernelspec": {
   "display_name": "Python 3 (ipykernel)",
   "language": "python",
   "name": "python3"
  },
  "language_info": {
   "codemirror_mode": {
    "name": "ipython",
    "version": 3
   },
   "file_extension": ".py",
   "mimetype": "text/x-python",
   "name": "python",
   "nbconvert_exporter": "python",
   "pygments_lexer": "ipython3",
   "version": "3.10.12"
  }
 },
 "nbformat": 4,
 "nbformat_minor": 5
}
