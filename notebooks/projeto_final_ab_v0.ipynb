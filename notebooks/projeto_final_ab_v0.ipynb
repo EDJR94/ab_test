{
 "cells": [
  {
   "cell_type": "markdown",
   "id": "8b14c8b6",
   "metadata": {},
   "source": [
    "---\n",
    "\n",
    "# A/B Test - Problem Description\n",
    "\n",
    "A Electronic House é um comercio online ( e-commerce ) de produtos de informática\n",
    "para casas e escritórios. Os clientes podem comprar mouses, monitores, teclados,\n",
    "computadores, laptops, cabos HDMI, fones de ouvido, cameras webcam, entre\n",
    "outros, através de um site online e recebem os produtos no conforto de suas casas\n",
    "\n",
    "O Diretor de Produtos Global pediu ao Head de Design que desenvolvesse uma\n",
    "nova forma de finalizar a compra com cartão de crédito, sem a necessidade do\n",
    "cliente preencher manualmente todas as informações do cartão e que funcionasse\n",
    "em todos os países.\n",
    "\n",
    "Depois de meses desenvolvendo esse dispositivo, o time de Desenvolvimento\n",
    "Backend entregou uma solução de pagamentos, na qual **90% das informações do\n",
    "formulário eram preenchido automaticamente.**\n",
    "\n",
    "O Head de Designer gostaria de medir a efetividade do novo dispositivo de\n",
    "preenchimento automático dos dados do cartão de crédito na página de vendas e\n",
    "reportar os resultados ao Diretor de Produtos Global, para concluir se a nova forma\n",
    "de pagamento é realmente melhor do que a antiga.\n",
    "\n",
    "As duas páginas foram colocadas no ar e durante alguns meses e o time de FrontEnd desenvolveu uma automação que atribui um rótulo para cada cliente,\n",
    "mostrando qual a página de vendas aquele determinado cliente estava visualizando.\n",
    "Todos esses dados foram armazenados em um banco de dados e podem ser\n",
    "acessados pelos times da Electronic House.\n",
    "\n",
    "Depois de alguns meses de experimento, o time de Designers da Electronic House,\n",
    "precisa avaliar os resultados do experimento realizado, a fim de concluir qual era a\n",
    "forma de pagamento mais eficaz.\n",
    "\n",
    "Porém, o time não possui as habilidades necessárias para avaliar os dados e\n",
    "concluir o experimento. Nesse contexto, você foi contratado como Cientista de\n",
    "Dados para ajudar o time de Designers a **validar a efetividade do novo meio de\n",
    "pagamento, com mais confiança e rigidez na análise.**\n",
    "\n",
    "O entregável do seu trabalho é o seguinte:\n",
    "1. Qual a melhor forma de pagamento: Preenchimento Manual ou Automático do\n",
    "formulário de dados do cartão de crédito?"
   ]
  },
  {
   "cell_type": "markdown",
   "id": "2cda211f",
   "metadata": {},
   "source": [
    "# 0.0 Imports"
   ]
  },
  {
   "cell_type": "code",
   "execution_count": 11,
   "id": "841b881f",
   "metadata": {
    "ExecuteTime": {
     "end_time": "2023-08-09T10:27:55.622762Z",
     "start_time": "2023-08-09T10:27:55.611990Z"
    }
   },
   "outputs": [],
   "source": [
    "import pandas as pd\n",
    "import numpy as np\n",
    "\n",
    "from statsmodels.stats import api as sms"
   ]
  },
  {
   "cell_type": "markdown",
   "id": "c3ee81a6",
   "metadata": {},
   "source": [
    "## 0.1 Load Data"
   ]
  },
  {
   "cell_type": "code",
   "execution_count": 4,
   "id": "4f20bf75",
   "metadata": {
    "ExecuteTime": {
     "end_time": "2023-08-09T09:41:16.060531Z",
     "start_time": "2023-08-09T09:41:16.017382Z"
    }
   },
   "outputs": [],
   "source": [
    "path = 'C:/Users/edils/repos/teste_ab/data/'\n",
    "\n",
    "df_raw = pd.read_csv(path + 'ab_testing.csv')"
   ]
  },
  {
   "cell_type": "code",
   "execution_count": 5,
   "id": "57819931",
   "metadata": {
    "ExecuteTime": {
     "end_time": "2023-08-09T09:41:16.983100Z",
     "start_time": "2023-08-09T09:41:16.964792Z"
    }
   },
   "outputs": [
    {
     "data": {
      "text/html": [
       "<div>\n",
       "<style scoped>\n",
       "    .dataframe tbody tr th:only-of-type {\n",
       "        vertical-align: middle;\n",
       "    }\n",
       "\n",
       "    .dataframe tbody tr th {\n",
       "        vertical-align: top;\n",
       "    }\n",
       "\n",
       "    .dataframe thead th {\n",
       "        text-align: right;\n",
       "    }\n",
       "</style>\n",
       "<table border=\"1\" class=\"dataframe\">\n",
       "  <thead>\n",
       "    <tr style=\"text-align: right;\">\n",
       "      <th></th>\n",
       "      <th>uid</th>\n",
       "      <th>country</th>\n",
       "      <th>gender</th>\n",
       "      <th>spent</th>\n",
       "      <th>purchases</th>\n",
       "      <th>date</th>\n",
       "      <th>group</th>\n",
       "      <th>device</th>\n",
       "    </tr>\n",
       "  </thead>\n",
       "  <tbody>\n",
       "    <tr>\n",
       "      <th>0</th>\n",
       "      <td>11115722</td>\n",
       "      <td>MEX</td>\n",
       "      <td>F</td>\n",
       "      <td>1595</td>\n",
       "      <td>5</td>\n",
       "      <td>2016-03-08</td>\n",
       "      <td>GRP B</td>\n",
       "      <td>I</td>\n",
       "    </tr>\n",
       "    <tr>\n",
       "      <th>1</th>\n",
       "      <td>11122053</td>\n",
       "      <td>USA</td>\n",
       "      <td>M</td>\n",
       "      <td>498</td>\n",
       "      <td>2</td>\n",
       "      <td>2017-07-14</td>\n",
       "      <td>GRP B</td>\n",
       "      <td>I</td>\n",
       "    </tr>\n",
       "    <tr>\n",
       "      <th>2</th>\n",
       "      <td>11128688</td>\n",
       "      <td>USA</td>\n",
       "      <td>F</td>\n",
       "      <td>2394</td>\n",
       "      <td>6</td>\n",
       "      <td>2017-09-17</td>\n",
       "      <td>GRP A</td>\n",
       "      <td>I</td>\n",
       "    </tr>\n",
       "    <tr>\n",
       "      <th>3</th>\n",
       "      <td>11130578</td>\n",
       "      <td>USA</td>\n",
       "      <td>F</td>\n",
       "      <td>1197</td>\n",
       "      <td>3</td>\n",
       "      <td>2017-11-30</td>\n",
       "      <td>GRP A</td>\n",
       "      <td>I</td>\n",
       "    </tr>\n",
       "    <tr>\n",
       "      <th>4</th>\n",
       "      <td>11130759</td>\n",
       "      <td>ESP</td>\n",
       "      <td>M</td>\n",
       "      <td>1297</td>\n",
       "      <td>3</td>\n",
       "      <td>2018-01-10</td>\n",
       "      <td>GRP B</td>\n",
       "      <td>A</td>\n",
       "    </tr>\n",
       "  </tbody>\n",
       "</table>\n",
       "</div>"
      ],
      "text/plain": [
       "        uid country gender  spent  purchases        date  group device\n",
       "0  11115722     MEX      F   1595          5  2016-03-08  GRP B      I\n",
       "1  11122053     USA      M    498          2  2017-07-14  GRP B      I\n",
       "2  11128688     USA      F   2394          6  2017-09-17  GRP A      I\n",
       "3  11130578     USA      F   1197          3  2017-11-30  GRP A      I\n",
       "4  11130759     ESP      M   1297          3  2018-01-10  GRP B      A"
      ]
     },
     "execution_count": 5,
     "metadata": {},
     "output_type": "execute_result"
    }
   ],
   "source": [
    "df_raw.head()"
   ]
  },
  {
   "cell_type": "code",
   "execution_count": 6,
   "id": "b2847131",
   "metadata": {
    "ExecuteTime": {
     "end_time": "2023-08-09T09:54:14.830358Z",
     "start_time": "2023-08-09T09:54:14.796954Z"
    }
   },
   "outputs": [
    {
     "name": "stdout",
     "output_type": "stream",
     "text": [
      "<class 'pandas.core.frame.DataFrame'>\n",
      "RangeIndex: 45883 entries, 0 to 45882\n",
      "Data columns (total 8 columns):\n",
      " #   Column     Non-Null Count  Dtype \n",
      "---  ------     --------------  ----- \n",
      " 0   uid        45883 non-null  int64 \n",
      " 1   country    45883 non-null  object\n",
      " 2   gender     45883 non-null  object\n",
      " 3   spent      45883 non-null  int64 \n",
      " 4   purchases  45883 non-null  int64 \n",
      " 5   date       45883 non-null  object\n",
      " 6   group      45883 non-null  object\n",
      " 7   device     45883 non-null  object\n",
      "dtypes: int64(3), object(5)\n",
      "memory usage: 2.8+ MB\n"
     ]
    }
   ],
   "source": [
    "df_raw.info()"
   ]
  },
  {
   "cell_type": "markdown",
   "id": "7ca4fb7f",
   "metadata": {},
   "source": [
    "# 1.0 Design do Experimento"
   ]
  },
  {
   "cell_type": "code",
   "execution_count": 7,
   "id": "cc967fc4",
   "metadata": {
    "ExecuteTime": {
     "end_time": "2023-08-09T09:56:56.113781Z",
     "start_time": "2023-08-09T09:56:56.110579Z"
    }
   },
   "outputs": [],
   "source": [
    "# Objetivo: Definir se o preenchimento automático é melhor que que o manual\n",
    "# Métrica: GMV médio\n",
    "\n",
    "# Grupo A = Preenchimento automático\n",
    "# Grupo B = Preenchimento Manual"
   ]
  },
  {
   "cell_type": "markdown",
   "id": "308b669d",
   "metadata": {},
   "source": [
    "## 1.1 Hipóteses do Experimento"
   ]
  },
  {
   "cell_type": "code",
   "execution_count": null,
   "id": "ee5c596a",
   "metadata": {},
   "outputs": [],
   "source": [
    "# H0 : média de gastos(GMV) da página A = média de gastos(GMV) da página B \n",
    "# H1 : média de gastos(GMV) da página A <> média de gastos(GMV) da página B"
   ]
  },
  {
   "cell_type": "markdown",
   "id": "72c8fdf2",
   "metadata": {},
   "source": [
    "## 1.2 Tamanho da Amostra"
   ]
  },
  {
   "cell_type": "code",
   "execution_count": 21,
   "id": "4ff83700",
   "metadata": {
    "ExecuteTime": {
     "end_time": "2023-08-09T10:56:06.810142Z",
     "start_time": "2023-08-09T10:56:06.795927Z"
    }
   },
   "outputs": [
    {
     "name": "stdout",
     "output_type": "stream",
     "text": [
      "Número de Amostras: 3395\n"
     ]
    }
   ],
   "source": [
    "#Effect size\n",
    "\n",
    "#init_metric = Média Sales ou Média GMV\n",
    "#end_metric = metric lift (5% sobre a metrica atual)\n",
    "#std_metric = Desvio padrão das Sales ou GMV\n",
    "\n",
    "#This values are from mean and std from Brazil\n",
    "init_metric = 1902.86\n",
    "end_metric = init_metric * 1.05\n",
    "\n",
    "std_metric = 1398.88\n",
    "\n",
    "effect_size = (end_metric - init_metric) / std_metric\n",
    "\n",
    "sample_size = sms.tt_ind_solve_power(\n",
    "    effect_size = effect_size,\n",
    "    alpha = 0.05,\n",
    "    power = 0.80\n",
    ")\n",
    "\n",
    "print(f\"Número de Amostras: {np.ceil(sample_size).astype(int)}\")"
   ]
  },
  {
   "cell_type": "code",
   "execution_count": null,
   "id": "45b3b119",
   "metadata": {},
   "outputs": [],
   "source": []
  },
  {
   "cell_type": "code",
   "execution_count": null,
   "id": "a9d74e69",
   "metadata": {},
   "outputs": [],
   "source": []
  },
  {
   "cell_type": "code",
   "execution_count": null,
   "id": "b7f4a840",
   "metadata": {},
   "outputs": [],
   "source": []
  },
  {
   "cell_type": "code",
   "execution_count": null,
   "id": "63f9d6b7",
   "metadata": {},
   "outputs": [],
   "source": []
  },
  {
   "cell_type": "code",
   "execution_count": null,
   "id": "9b677d52",
   "metadata": {},
   "outputs": [],
   "source": []
  },
  {
   "cell_type": "markdown",
   "id": "f24a6b41",
   "metadata": {},
   "source": [
    "# 2.0 Preparação dos Dados"
   ]
  },
  {
   "cell_type": "code",
   "execution_count": 12,
   "id": "2a81a646",
   "metadata": {
    "ExecuteTime": {
     "end_time": "2023-08-09T10:51:21.287284Z",
     "start_time": "2023-08-09T10:51:21.270880Z"
    }
   },
   "outputs": [],
   "source": [
    "df2 = df_raw.copy()"
   ]
  },
  {
   "cell_type": "code",
   "execution_count": 16,
   "id": "e6d179ce",
   "metadata": {
    "ExecuteTime": {
     "end_time": "2023-08-09T10:53:44.810004Z",
     "start_time": "2023-08-09T10:53:44.783731Z"
    }
   },
   "outputs": [
    {
     "data": {
      "text/plain": [
       "mean    1902.860251\n",
       "std     1398.886279\n",
       "Name: spent, dtype: float64"
      ]
     },
     "execution_count": 16,
     "metadata": {},
     "output_type": "execute_result"
    }
   ],
   "source": [
    "# Use Data only from Brazil\n",
    "df2_br = df2.loc[df2['country'] == 'BRA',:]\n",
    "\n",
    "# mean and std\n",
    "df2_br['spent'].agg(['mean','std'])"
   ]
  },
  {
   "cell_type": "code",
   "execution_count": 17,
   "id": "4721fb3e",
   "metadata": {
    "ExecuteTime": {
     "end_time": "2023-08-09T10:54:12.460632Z",
     "start_time": "2023-08-09T10:54:12.442106Z"
    }
   },
   "outputs": [
    {
     "data": {
      "text/html": [
       "<div>\n",
       "<style scoped>\n",
       "    .dataframe tbody tr th:only-of-type {\n",
       "        vertical-align: middle;\n",
       "    }\n",
       "\n",
       "    .dataframe tbody tr th {\n",
       "        vertical-align: top;\n",
       "    }\n",
       "\n",
       "    .dataframe thead th {\n",
       "        text-align: right;\n",
       "    }\n",
       "</style>\n",
       "<table border=\"1\" class=\"dataframe\">\n",
       "  <thead>\n",
       "    <tr style=\"text-align: right;\">\n",
       "      <th></th>\n",
       "      <th>uid</th>\n",
       "      <th>country</th>\n",
       "      <th>gender</th>\n",
       "      <th>spent</th>\n",
       "      <th>purchases</th>\n",
       "      <th>date</th>\n",
       "      <th>group</th>\n",
       "      <th>device</th>\n",
       "    </tr>\n",
       "  </thead>\n",
       "  <tbody>\n",
       "    <tr>\n",
       "      <th>12</th>\n",
       "      <td>11143138</td>\n",
       "      <td>BRA</td>\n",
       "      <td>M</td>\n",
       "      <td>2592</td>\n",
       "      <td>8</td>\n",
       "      <td>2015-05-20</td>\n",
       "      <td>GRP B</td>\n",
       "      <td>A</td>\n",
       "    </tr>\n",
       "    <tr>\n",
       "      <th>15</th>\n",
       "      <td>11148343</td>\n",
       "      <td>BRA</td>\n",
       "      <td>M</td>\n",
       "      <td>299</td>\n",
       "      <td>1</td>\n",
       "      <td>2016-09-04</td>\n",
       "      <td>GRP B</td>\n",
       "      <td>A</td>\n",
       "    </tr>\n",
       "    <tr>\n",
       "      <th>31</th>\n",
       "      <td>11172970</td>\n",
       "      <td>BRA</td>\n",
       "      <td>M</td>\n",
       "      <td>1797</td>\n",
       "      <td>3</td>\n",
       "      <td>2017-07-05</td>\n",
       "      <td>GRP B</td>\n",
       "      <td>I</td>\n",
       "    </tr>\n",
       "    <tr>\n",
       "      <th>36</th>\n",
       "      <td>11177332</td>\n",
       "      <td>BRA</td>\n",
       "      <td>M</td>\n",
       "      <td>1994</td>\n",
       "      <td>6</td>\n",
       "      <td>2017-01-06</td>\n",
       "      <td>GRP B</td>\n",
       "      <td>I</td>\n",
       "    </tr>\n",
       "    <tr>\n",
       "      <th>37</th>\n",
       "      <td>11179295</td>\n",
       "      <td>BRA</td>\n",
       "      <td>M</td>\n",
       "      <td>1198</td>\n",
       "      <td>2</td>\n",
       "      <td>2017-12-19</td>\n",
       "      <td>GRP B</td>\n",
       "      <td>A</td>\n",
       "    </tr>\n",
       "    <tr>\n",
       "      <th>...</th>\n",
       "      <td>...</td>\n",
       "      <td>...</td>\n",
       "      <td>...</td>\n",
       "      <td>...</td>\n",
       "      <td>...</td>\n",
       "      <td>...</td>\n",
       "      <td>...</td>\n",
       "      <td>...</td>\n",
       "    </tr>\n",
       "    <tr>\n",
       "      <th>45852</th>\n",
       "      <td>99940432</td>\n",
       "      <td>BRA</td>\n",
       "      <td>M</td>\n",
       "      <td>897</td>\n",
       "      <td>3</td>\n",
       "      <td>2017-09-13</td>\n",
       "      <td>GRP A</td>\n",
       "      <td>I</td>\n",
       "    </tr>\n",
       "    <tr>\n",
       "      <th>45860</th>\n",
       "      <td>99955317</td>\n",
       "      <td>BRA</td>\n",
       "      <td>M</td>\n",
       "      <td>698</td>\n",
       "      <td>2</td>\n",
       "      <td>2017-10-17</td>\n",
       "      <td>GRP A</td>\n",
       "      <td>A</td>\n",
       "    </tr>\n",
       "    <tr>\n",
       "      <th>45871</th>\n",
       "      <td>99977039</td>\n",
       "      <td>BRA</td>\n",
       "      <td>M</td>\n",
       "      <td>1495</td>\n",
       "      <td>5</td>\n",
       "      <td>2016-05-06</td>\n",
       "      <td>GRP B</td>\n",
       "      <td>A</td>\n",
       "    </tr>\n",
       "    <tr>\n",
       "      <th>45877</th>\n",
       "      <td>99991883</td>\n",
       "      <td>BRA</td>\n",
       "      <td>M</td>\n",
       "      <td>2995</td>\n",
       "      <td>5</td>\n",
       "      <td>2017-06-22</td>\n",
       "      <td>GRP B</td>\n",
       "      <td>A</td>\n",
       "    </tr>\n",
       "    <tr>\n",
       "      <th>45880</th>\n",
       "      <td>99996986</td>\n",
       "      <td>BRA</td>\n",
       "      <td>M</td>\n",
       "      <td>2194</td>\n",
       "      <td>6</td>\n",
       "      <td>2014-12-06</td>\n",
       "      <td>GRP B</td>\n",
       "      <td>A</td>\n",
       "    </tr>\n",
       "  </tbody>\n",
       "</table>\n",
       "<p>9009 rows × 8 columns</p>\n",
       "</div>"
      ],
      "text/plain": [
       "            uid country gender  spent  purchases        date  group device\n",
       "12     11143138     BRA      M   2592          8  2015-05-20  GRP B      A\n",
       "15     11148343     BRA      M    299          1  2016-09-04  GRP B      A\n",
       "31     11172970     BRA      M   1797          3  2017-07-05  GRP B      I\n",
       "36     11177332     BRA      M   1994          6  2017-01-06  GRP B      I\n",
       "37     11179295     BRA      M   1198          2  2017-12-19  GRP B      A\n",
       "...         ...     ...    ...    ...        ...         ...    ...    ...\n",
       "45852  99940432     BRA      M    897          3  2017-09-13  GRP A      I\n",
       "45860  99955317     BRA      M    698          2  2017-10-17  GRP A      A\n",
       "45871  99977039     BRA      M   1495          5  2016-05-06  GRP B      A\n",
       "45877  99991883     BRA      M   2995          5  2017-06-22  GRP B      A\n",
       "45880  99996986     BRA      M   2194          6  2014-12-06  GRP B      A\n",
       "\n",
       "[9009 rows x 8 columns]"
      ]
     },
     "execution_count": 17,
     "metadata": {},
     "output_type": "execute_result"
    }
   ],
   "source": [
    "df2_br"
   ]
  },
  {
   "cell_type": "markdown",
   "id": "227173e0",
   "metadata": {},
   "source": [
    "# 3.0 Testes de Hióteses"
   ]
  },
  {
   "cell_type": "markdown",
   "id": "34a65df2",
   "metadata": {},
   "source": [
    "# 4.0 Conclusão"
   ]
  },
  {
   "cell_type": "code",
   "execution_count": null,
   "id": "b76a5162",
   "metadata": {},
   "outputs": [],
   "source": []
  },
  {
   "cell_type": "code",
   "execution_count": null,
   "id": "9526cfc5",
   "metadata": {},
   "outputs": [],
   "source": []
  }
 ],
 "metadata": {
  "kernelspec": {
   "display_name": "Python 3 (ipykernel)",
   "language": "python",
   "name": "python3"
  },
  "language_info": {
   "codemirror_mode": {
    "name": "ipython",
    "version": 3
   },
   "file_extension": ".py",
   "mimetype": "text/x-python",
   "name": "python",
   "nbconvert_exporter": "python",
   "pygments_lexer": "ipython3",
   "version": "3.10.12"
  }
 },
 "nbformat": 4,
 "nbformat_minor": 5
}
