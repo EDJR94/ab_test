{
 "cells": [
  {
   "cell_type": "markdown",
   "id": "ae12ec33",
   "metadata": {},
   "source": [
    "# Business Problem\n",
    "\n",
    "Cookie Cats is a hugely popular mobile puzzle game developed by Tactile Entertainment. It's a classic \"connect three\" style puzzle game where the player must connect tiles of the same color in order to clear the board and win the level. It also features singing cats. We're not kidding!\n",
    "\n",
    "As players progress through the game they will encounter gates that force them to wait some time before they can progress or make an in-app purchase. In this project, we will analyze the result of an A/B test where the first gate in Cookie Cats was moved from level 30 to level 40. In particular, we will analyze the impact on player retention.\n",
    "\n",
    "<center><iframe width=\"560\" height=\"315\" src=\"https://www.datacamp.com/projects/184\" frameborder=\"0\" allow=\"accelerometer; autoplay; clipboard-write; encrypted-media; gyroscope; picture-in-picture\" allowfullscreen></iframe></iframe></center>\n",
    "\n",
    "\n",
    "### Data Description from (https://www.datacamp.com/projects/184)\n",
    "\n",
    "<p>The data is from 90,189 players that installed the game while the AB-test was running. The variables are:</p>\n",
    "<ul>\n",
    "<li><code>userid</code> - a unique number that identifies each player.</li>\n",
    "<li><code>version</code> - whether the player was put in the control group (<code>gate_30</code> - a gate at level 30) or the test group (<code>gate_40</code> - a gate at level 40).</li>\n",
    "<li><code>sum_gamerounds</code> - the number of game rounds played by the player during the first week after installation\n",
    "<li><code>retention_1</code> - did the player come back and play 1 day after installing?</li>\n",
    "<li><code>retention_7</code> - did the player come back and play 7 days after installing?</li>\n",
    "</ul>\n",
    "<p>When a player installed the game, he or she was randomly assigned to either <code>gate_30</code> or <code>gate_40</code>. </p>"
   ]
  },
  {
   "cell_type": "markdown",
   "id": "1c675d2f",
   "metadata": {},
   "source": [
    "# 0.0 Imports"
   ]
  },
  {
   "cell_type": "code",
   "execution_count": 1,
   "id": "83e0182a",
   "metadata": {
    "ExecuteTime": {
     "end_time": "2023-08-10T23:01:11.914043Z",
     "start_time": "2023-08-10T23:01:08.903978Z"
    }
   },
   "outputs": [],
   "source": [
    "import pandas as pd\n",
    "import numpy as np\n",
    "import matplotlib.pyplot as plt\n",
    "import seaborn as sns\n",
    "\n",
    "from scipy.stats import chi2_contingency"
   ]
  },
  {
   "cell_type": "markdown",
   "id": "1e41bcb4",
   "metadata": {},
   "source": [
    "## 0.1 Load Data"
   ]
  },
  {
   "cell_type": "code",
   "execution_count": 2,
   "id": "4dbc6441",
   "metadata": {
    "ExecuteTime": {
     "end_time": "2023-08-10T23:01:12.003321Z",
     "start_time": "2023-08-10T23:01:11.917483Z"
    }
   },
   "outputs": [],
   "source": [
    "path = 'C:/Users/edils/repos/teste_ab/data/'\n",
    "\n",
    "df_raw = pd.read_csv(path + 'cookie_cats.csv')"
   ]
  },
  {
   "cell_type": "code",
   "execution_count": 3,
   "id": "adcfdc42",
   "metadata": {
    "ExecuteTime": {
     "end_time": "2023-08-10T23:01:12.029842Z",
     "start_time": "2023-08-10T23:01:12.005876Z"
    }
   },
   "outputs": [
    {
     "name": "stdout",
     "output_type": "stream",
     "text": [
      "<class 'pandas.core.frame.DataFrame'>\n",
      "RangeIndex: 90189 entries, 0 to 90188\n",
      "Data columns (total 5 columns):\n",
      " #   Column          Non-Null Count  Dtype \n",
      "---  ------          --------------  ----- \n",
      " 0   userid          90189 non-null  int64 \n",
      " 1   version         90189 non-null  object\n",
      " 2   sum_gamerounds  90189 non-null  int64 \n",
      " 3   retention_1     90189 non-null  bool  \n",
      " 4   retention_7     90189 non-null  bool  \n",
      "dtypes: bool(2), int64(2), object(1)\n",
      "memory usage: 2.2+ MB\n"
     ]
    }
   ],
   "source": [
    "df_raw.info()"
   ]
  },
  {
   "cell_type": "markdown",
   "id": "3ce4c2f9",
   "metadata": {},
   "source": [
    "# 1.0 Data Understanding"
   ]
  },
  {
   "cell_type": "code",
   "execution_count": 31,
   "id": "703eb38c",
   "metadata": {
    "ExecuteTime": {
     "end_time": "2023-08-10T23:07:17.030686Z",
     "start_time": "2023-08-10T23:07:17.024673Z"
    }
   },
   "outputs": [],
   "source": [
    "df1 = df_raw.copy()"
   ]
  },
  {
   "cell_type": "code",
   "execution_count": 32,
   "id": "8cd989ac",
   "metadata": {
    "ExecuteTime": {
     "end_time": "2023-08-10T23:07:17.183969Z",
     "start_time": "2023-08-10T23:07:17.174454Z"
    }
   },
   "outputs": [
    {
     "data": {
      "text/html": [
       "<div>\n",
       "<style scoped>\n",
       "    .dataframe tbody tr th:only-of-type {\n",
       "        vertical-align: middle;\n",
       "    }\n",
       "\n",
       "    .dataframe tbody tr th {\n",
       "        vertical-align: top;\n",
       "    }\n",
       "\n",
       "    .dataframe thead th {\n",
       "        text-align: right;\n",
       "    }\n",
       "</style>\n",
       "<table border=\"1\" class=\"dataframe\">\n",
       "  <thead>\n",
       "    <tr style=\"text-align: right;\">\n",
       "      <th></th>\n",
       "      <th>userid</th>\n",
       "      <th>version</th>\n",
       "      <th>sum_gamerounds</th>\n",
       "      <th>retention_1</th>\n",
       "      <th>retention_7</th>\n",
       "    </tr>\n",
       "  </thead>\n",
       "  <tbody>\n",
       "    <tr>\n",
       "      <th>0</th>\n",
       "      <td>116</td>\n",
       "      <td>gate_30</td>\n",
       "      <td>3</td>\n",
       "      <td>False</td>\n",
       "      <td>False</td>\n",
       "    </tr>\n",
       "    <tr>\n",
       "      <th>1</th>\n",
       "      <td>337</td>\n",
       "      <td>gate_30</td>\n",
       "      <td>38</td>\n",
       "      <td>True</td>\n",
       "      <td>False</td>\n",
       "    </tr>\n",
       "    <tr>\n",
       "      <th>2</th>\n",
       "      <td>377</td>\n",
       "      <td>gate_40</td>\n",
       "      <td>165</td>\n",
       "      <td>True</td>\n",
       "      <td>False</td>\n",
       "    </tr>\n",
       "    <tr>\n",
       "      <th>3</th>\n",
       "      <td>483</td>\n",
       "      <td>gate_40</td>\n",
       "      <td>1</td>\n",
       "      <td>False</td>\n",
       "      <td>False</td>\n",
       "    </tr>\n",
       "    <tr>\n",
       "      <th>4</th>\n",
       "      <td>488</td>\n",
       "      <td>gate_40</td>\n",
       "      <td>179</td>\n",
       "      <td>True</td>\n",
       "      <td>True</td>\n",
       "    </tr>\n",
       "  </tbody>\n",
       "</table>\n",
       "</div>"
      ],
      "text/plain": [
       "   userid  version  sum_gamerounds  retention_1  retention_7\n",
       "0     116  gate_30               3        False        False\n",
       "1     337  gate_30              38         True        False\n",
       "2     377  gate_40             165         True        False\n",
       "3     483  gate_40               1        False        False\n",
       "4     488  gate_40             179         True         True"
      ]
     },
     "execution_count": 32,
     "metadata": {},
     "output_type": "execute_result"
    }
   ],
   "source": [
    "df1.head()"
   ]
  },
  {
   "cell_type": "markdown",
   "id": "8357b249",
   "metadata": {},
   "source": [
    "## 1.1 Check Homogeinity"
   ]
  },
  {
   "cell_type": "code",
   "execution_count": 40,
   "id": "6a8480bb",
   "metadata": {
    "ExecuteTime": {
     "end_time": "2023-08-10T23:41:26.330051Z",
     "start_time": "2023-08-10T23:41:26.295413Z"
    }
   },
   "outputs": [
    {
     "data": {
      "text/html": [
       "<div>\n",
       "<style scoped>\n",
       "    .dataframe tbody tr th:only-of-type {\n",
       "        vertical-align: middle;\n",
       "    }\n",
       "\n",
       "    .dataframe tbody tr th {\n",
       "        vertical-align: top;\n",
       "    }\n",
       "\n",
       "    .dataframe thead tr th {\n",
       "        text-align: left;\n",
       "    }\n",
       "</style>\n",
       "<table border=\"1\" class=\"dataframe\">\n",
       "  <thead>\n",
       "    <tr>\n",
       "      <th></th>\n",
       "      <th colspan=\"2\" halign=\"left\">version</th>\n",
       "      <th colspan=\"4\" halign=\"left\">sum_gamerounds</th>\n",
       "      <th>retention_1</th>\n",
       "      <th>retention_7</th>\n",
       "    </tr>\n",
       "    <tr>\n",
       "      <th></th>\n",
       "      <th></th>\n",
       "      <th>count</th>\n",
       "      <th>min</th>\n",
       "      <th>max</th>\n",
       "      <th>mean</th>\n",
       "      <th>std</th>\n",
       "      <th>count</th>\n",
       "      <th>count</th>\n",
       "    </tr>\n",
       "  </thead>\n",
       "  <tbody>\n",
       "    <tr>\n",
       "      <th>0</th>\n",
       "      <td>gate_30</td>\n",
       "      <td>42762</td>\n",
       "      <td>1</td>\n",
       "      <td>2961</td>\n",
       "      <td>53.667766</td>\n",
       "      <td>103.743691</td>\n",
       "      <td>42762</td>\n",
       "      <td>42762</td>\n",
       "    </tr>\n",
       "    <tr>\n",
       "      <th>1</th>\n",
       "      <td>gate_40</td>\n",
       "      <td>43432</td>\n",
       "      <td>1</td>\n",
       "      <td>2640</td>\n",
       "      <td>53.728357</td>\n",
       "      <td>105.093012</td>\n",
       "      <td>43432</td>\n",
       "      <td>43432</td>\n",
       "    </tr>\n",
       "  </tbody>\n",
       "</table>\n",
       "</div>"
      ],
      "text/plain": [
       "   version        sum_gamerounds                              retention_1  \\\n",
       "            count            min   max       mean         std       count   \n",
       "0  gate_30  42762              1  2961  53.667766  103.743691       42762   \n",
       "1  gate_40  43432              1  2640  53.728357  105.093012       43432   \n",
       "\n",
       "  retention_7  \n",
       "        count  \n",
       "0       42762  \n",
       "1       43432  "
      ]
     },
     "execution_count": 40,
     "metadata": {},
     "output_type": "execute_result"
    }
   ],
   "source": [
    "df1.groupby('version').agg({\n",
    "        'version':['count'],\n",
    "        'sum_gamerounds':['min','max','mean','std'],\n",
    "        'retention_1':['count'],\n",
    "        'retention_7':['count']\n",
    "    \n",
    "}).reset_index()\n"
   ]
  },
  {
   "cell_type": "markdown",
   "id": "b0032404",
   "metadata": {},
   "source": [
    "There is a strange value on sum_gamerounds max value, I will investigate with a boxplot."
   ]
  },
  {
   "cell_type": "markdown",
   "id": "42e16e5b",
   "metadata": {},
   "source": [
    "## 1.2 Check Outliers"
   ]
  },
  {
   "cell_type": "code",
   "execution_count": 34,
   "id": "df3d9409",
   "metadata": {
    "ExecuteTime": {
     "end_time": "2023-08-10T23:07:18.977523Z",
     "start_time": "2023-08-10T23:07:18.812820Z"
    }
   },
   "outputs": [
    {
     "data": {
      "text/plain": [
       "<Axes: >"
      ]
     },
     "execution_count": 34,
     "metadata": {},
     "output_type": "execute_result"
    },
    {
     "data": {
      "image/png": "[encoded data removed]",
      "text/plain": [
       "<Figure size 640x480 with 1 Axes>"
      ]
     },
     "metadata": {},
     "output_type": "display_data"
    }
   ],
   "source": [
    "sns.boxplot(df1['sum_gamerounds'])"
   ]
  },
  {
   "cell_type": "markdown",
   "id": "55724a22",
   "metadata": {},
   "source": [
    "We have an outlier with sum_gamerounds = 49854. Let's remove it."
   ]
  },
  {
   "cell_type": "code",
   "execution_count": 35,
   "id": "b5718b9c",
   "metadata": {
    "ExecuteTime": {
     "end_time": "2023-08-10T23:07:20.333824Z",
     "start_time": "2023-08-10T23:07:20.324824Z"
    }
   },
   "outputs": [],
   "source": [
    "df1 = df1.loc[df1['sum_gamerounds'] != 49854,:]"
   ]
  },
  {
   "cell_type": "markdown",
   "id": "df09ff13",
   "metadata": {},
   "source": [
    "## 1.3 Check Na / Zeros"
   ]
  },
  {
   "cell_type": "code",
   "execution_count": 36,
   "id": "57f2c48d",
   "metadata": {
    "ExecuteTime": {
     "end_time": "2023-08-10T23:07:21.160401Z",
     "start_time": "2023-08-10T23:07:21.149662Z"
    }
   },
   "outputs": [
    {
     "name": "stdout",
     "output_type": "stream",
     "text": [
      "     sum_gamerounds  percentage\n",
      "0                 1    0.061405\n",
      "1                 2    0.051071\n",
      "2                 0    0.044285\n",
      "3                 3    0.043886\n",
      "4                 4    0.040238\n",
      "..              ...         ...\n",
      "936             933    0.000011\n",
      "937             617    0.000011\n",
      "938            1462    0.000011\n",
      "939             578    0.000011\n",
      "940             708    0.000011\n",
      "\n",
      "[941 rows x 2 columns]\n"
     ]
    }
   ],
   "source": [
    "# Criar uma tabela de frequência para sum_gamerounds\n",
    "game_rounds = df1['sum_gamerounds'].value_counts(normalize=True).reset_index()\n",
    "game_rounds.columns = ['sum_gamerounds', 'percentage']\n",
    "\n",
    "# Exibir a distribuição de porcentagem de sum_gamerounds\n",
    "print(game_rounds)"
   ]
  },
  {
   "cell_type": "markdown",
   "id": "58cbc3c5",
   "metadata": {},
   "source": [
    "About 4% of my customers did not play the game (0 Game Rounds). Let's remove them."
   ]
  },
  {
   "cell_type": "code",
   "execution_count": 37,
   "id": "80c6d304",
   "metadata": {
    "ExecuteTime": {
     "end_time": "2023-08-10T23:07:22.720946Z",
     "start_time": "2023-08-10T23:07:22.710893Z"
    }
   },
   "outputs": [],
   "source": [
    "df1 = df1.loc[df1['sum_gamerounds'] != 0,:]"
   ]
  },
  {
   "cell_type": "code",
   "execution_count": 45,
   "id": "c0df8f7d",
   "metadata": {
    "ExecuteTime": {
     "end_time": "2023-08-10T23:58:27.848121Z",
     "start_time": "2023-08-10T23:58:27.835219Z"
    }
   },
   "outputs": [
    {
     "data": {
      "text/plain": [
       "userid            0\n",
       "version           0\n",
       "sum_gamerounds    0\n",
       "retention_1       0\n",
       "retention_7       0\n",
       "dtype: int64"
      ]
     },
     "execution_count": 45,
     "metadata": {},
     "output_type": "execute_result"
    }
   ],
   "source": [
    "df1.isna().sum()"
   ]
  },
  {
   "cell_type": "markdown",
   "id": "6ae4f006",
   "metadata": {},
   "source": [
    "## 1.4 Distribuition"
   ]
  },
  {
   "cell_type": "code",
   "execution_count": 39,
   "id": "5a31f730",
   "metadata": {
    "ExecuteTime": {
     "end_time": "2023-08-10T23:07:28.816136Z",
     "start_time": "2023-08-10T23:07:28.562905Z"
    }
   },
   "outputs": [
    {
     "data": {
      "text/plain": [
       "<Axes: xlabel='sum_gamerounds', ylabel='Count'>"
      ]
     },
     "execution_count": 39,
     "metadata": {},
     "output_type": "execute_result"
    },
    {
     "data": {
      "image/png": "[encoded data removed]",
      "text/plain": [
       "<Figure size 640x480 with 1 Axes>"
      ]
     },
     "metadata": {},
     "output_type": "display_data"
    }
   ],
   "source": [
    "sns.histplot(df1['sum_gamerounds'], bins=25)"
   ]
  },
  {
   "cell_type": "markdown",
   "id": "f53d0dc2",
   "metadata": {},
   "source": [
    "## 1.5 Check for Bad Users(both Group and Control at the same time)"
   ]
  },
  {
   "cell_type": "code",
   "execution_count": 44,
   "id": "cde75dc9",
   "metadata": {
    "ExecuteTime": {
     "end_time": "2023-08-10T23:57:08.062948Z",
     "start_time": "2023-08-10T23:57:08.034094Z"
    }
   },
   "outputs": [
    {
     "data": {
      "text/html": [
       "<div>\n",
       "<style scoped>\n",
       "    .dataframe tbody tr th:only-of-type {\n",
       "        vertical-align: middle;\n",
       "    }\n",
       "\n",
       "    .dataframe tbody tr th {\n",
       "        vertical-align: top;\n",
       "    }\n",
       "\n",
       "    .dataframe thead th {\n",
       "        text-align: right;\n",
       "    }\n",
       "</style>\n",
       "<table border=\"1\" class=\"dataframe\">\n",
       "  <thead>\n",
       "    <tr style=\"text-align: right;\">\n",
       "      <th></th>\n",
       "      <th>userid</th>\n",
       "      <th>version</th>\n",
       "    </tr>\n",
       "  </thead>\n",
       "  <tbody>\n",
       "  </tbody>\n",
       "</table>\n",
       "</div>"
      ],
      "text/plain": [
       "Empty DataFrame\n",
       "Columns: [userid, version]\n",
       "Index: []"
      ]
     },
     "execution_count": 44,
     "metadata": {},
     "output_type": "execute_result"
    }
   ],
   "source": [
    "# Check if There's same user for both group and treatment\n",
    "df1[['version','userid']].groupby('userid').nunique().query('version > 1').reset_index()"
   ]
  },
  {
   "cell_type": "markdown",
   "id": "08486b6c",
   "metadata": {},
   "source": [
    "# 2.0 Experiment Design"
   ]
  },
  {
   "cell_type": "markdown",
   "id": "4872c636",
   "metadata": {},
   "source": [
    "--- \n",
    "\n",
    "# Objective\n",
    "\n",
    "Analyze customer retention by moving the gate to level 30 to level 40.\n",
    "\n",
    " - Gate 30 = Control Group\n",
    " - Gate 40 = Treatment Group\n",
    "\n",
    " - H0: Moving the gate does not increase retention\n",
    " - H1: Moving the gate increase retention\n",
    " \n",
    " - Significance Level: 0.05"
   ]
  },
  {
   "cell_type": "markdown",
   "id": "03c588cc",
   "metadata": {},
   "source": [
    "## 2.1 Sample Size"
   ]
  },
  {
   "cell_type": "code",
   "execution_count": 9,
   "id": "33a1a241",
   "metadata": {
    "ExecuteTime": {
     "end_time": "2023-08-10T23:01:12.196711Z",
     "start_time": "2023-08-10T23:01:12.151899Z"
    }
   },
   "outputs": [
    {
     "data": {
      "text/html": [
       "<div>\n",
       "<style scoped>\n",
       "    .dataframe tbody tr th:only-of-type {\n",
       "        vertical-align: middle;\n",
       "    }\n",
       "\n",
       "    .dataframe tbody tr th {\n",
       "        vertical-align: top;\n",
       "    }\n",
       "\n",
       "    .dataframe thead th {\n",
       "        text-align: right;\n",
       "    }\n",
       "</style>\n",
       "<table border=\"1\" class=\"dataframe\">\n",
       "  <thead>\n",
       "    <tr style=\"text-align: right;\">\n",
       "      <th>retention_1</th>\n",
       "      <th>False</th>\n",
       "      <th>True</th>\n",
       "    </tr>\n",
       "    <tr>\n",
       "      <th>version</th>\n",
       "      <th></th>\n",
       "      <th></th>\n",
       "    </tr>\n",
       "  </thead>\n",
       "  <tbody>\n",
       "    <tr>\n",
       "      <th>gate_30</th>\n",
       "      <td>24665</td>\n",
       "      <td>20034</td>\n",
       "    </tr>\n",
       "    <tr>\n",
       "      <th>gate_40</th>\n",
       "      <td>25370</td>\n",
       "      <td>20119</td>\n",
       "    </tr>\n",
       "  </tbody>\n",
       "</table>\n",
       "</div>"
      ],
      "text/plain": [
       "retention_1  False  True \n",
       "version                  \n",
       "gate_30      24665  20034\n",
       "gate_40      25370  20119"
      ]
     },
     "execution_count": 9,
     "metadata": {},
     "output_type": "execute_result"
    }
   ],
   "source": [
    "pd.crosstab(df1['version'], df1['retention_1'])"
   ]
  },
  {
   "cell_type": "markdown",
   "id": "eabd52aa",
   "metadata": {},
   "source": [
    "## 2.2 Chi-Squared Test"
   ]
  },
  {
   "cell_type": "markdown",
   "id": "975efca3",
   "metadata": {},
   "source": [
    "### 2.2.1 Test for 1 Day Retention"
   ]
  },
  {
   "cell_type": "code",
   "execution_count": 10,
   "id": "f3647dad",
   "metadata": {
    "ExecuteTime": {
     "end_time": "2023-08-10T23:01:12.241826Z",
     "start_time": "2023-08-10T23:01:12.201748Z"
    }
   },
   "outputs": [
    {
     "name": "stdout",
     "output_type": "stream",
     "text": [
      "Retention 1-day:\n",
      "Chi-squared Statistic: 3.169835543170799\n",
      "P-value: 0.07500999897705692\n",
      "Degrees of Freedom: 1\n",
      "Contingency Table:\n",
      "retention_1  False  True \n",
      "version                  \n",
      "gate_30      24665  20034\n",
      "gate_40      25370  20119\n",
      "Expected Frequencies:\n",
      "[[24798.35970417 19900.64029583]\n",
      " [25236.64029583 20252.35970417]]\n"
     ]
    }
   ],
   "source": [
    "# Create contingency table for retention_1\n",
    "contingency_table_1 = pd.crosstab(df1['version'], df1['retention_1'])\n",
    "\n",
    "# Chi-squared test for retention_1\n",
    "chi2_stat_1, p_value_1, dof_1, expected_1 = chi2_contingency(contingency_table_1)\n",
    "\n",
    "# Results for retention_1\n",
    "print(\"Retention 1-day:\")\n",
    "print(f\"Chi-squared Statistic: {chi2_stat_1}\")\n",
    "print(f\"P-value: {p_value_1}\")\n",
    "print(f\"Degrees of Freedom: {dof_1}\")\n",
    "print(\"Contingency Table:\")\n",
    "print(contingency_table_1)\n",
    "print(\"Expected Frequencies:\")\n",
    "print(expected_1)"
   ]
  },
  {
   "cell_type": "markdown",
   "id": "c1355edc",
   "metadata": {},
   "source": [
    "---\n",
    "\n",
    "# Retention After 1 day playing:\n",
    "\n",
    "### P-value: 0.075 (greater than 0.05)\n",
    "\n",
    "Conclusion: There is **not sufficient statistical** evidence to reject the null hypothesis. This suggests that, based on the observed data, there is no significant association between the game version (gate_30 or gate_40) and player retention after 1 day. This might happens because the player had no time to get to gate 30/40 in the first day playing."
   ]
  },
  {
   "cell_type": "code",
   "execution_count": 11,
   "id": "1b84a6a4",
   "metadata": {
    "ExecuteTime": {
     "end_time": "2023-08-10T23:01:12.285856Z",
     "start_time": "2023-08-10T23:01:12.243924Z"
    }
   },
   "outputs": [
    {
     "name": "stdout",
     "output_type": "stream",
     "text": [
      "Retention 7-day:\n",
      "Chi-squared Statistic: 9.91527552890567\n",
      "P-value: 0.0016391259678654425\n",
      "Degrees of Freedom: 1\n",
      "Contingency Table:\n",
      "retention_7  False  True \n",
      "version                  \n",
      "gate_30      36198   8501\n",
      "gate_40      37210   8279\n",
      "Expected Frequencies:\n",
      "[[36382.49203885  8316.50796115]\n",
      " [37025.50796115  8463.49203885]]\n"
     ]
    }
   ],
   "source": [
    "contingency_table_7 = pd.crosstab(df1['version'], df1['retention_7'])\n",
    "\n",
    "\n",
    "chi2_stat_7, p_value_7, dof_7, expected_7 = chi2_contingency(contingency_table_7)\n",
    "\n",
    "# Results for retention_7\n",
    "print(\"Retention 7-day:\")\n",
    "print(f\"Chi-squared Statistic: {chi2_stat_7}\")\n",
    "print(f\"P-value: {p_value_7}\")\n",
    "print(f\"Degrees of Freedom: {dof_7}\")\n",
    "print(\"Contingency Table:\")\n",
    "print(contingency_table_7)\n",
    "print(\"Expected Frequencies:\")\n",
    "print(expected_7)"
   ]
  },
  {
   "cell_type": "markdown",
   "id": "c2e090f6",
   "metadata": {},
   "source": [
    "### 2.2.2 Test for 7 days Retention"
   ]
  },
  {
   "cell_type": "markdown",
   "id": "c2c2d874",
   "metadata": {},
   "source": [
    "---\n",
    "\n",
    "# Retention After 7 days playing:\n",
    "\n",
    "### P-Value: P-value: 0.0016 (less than 0.05) \n",
    "\n",
    "Conclusion: Based on the observed data, **there is statistical evidence to reject the null hypothesis.** This suggests that a **significant association exists** between the game version and player retention after 7 days."
   ]
  },
  {
   "cell_type": "markdown",
   "id": "b03d4d38",
   "metadata": {},
   "source": []
  }
 ],
 "metadata": {
  "kernelspec": {
   "display_name": "Python 3 (ipykernel)",
   "language": "python",
   "name": "python3"
  },
  "language_info": {
   "codemirror_mode": {
    "name": "ipython",
    "version": 3
   },
   "file_extension": ".py",
   "mimetype": "text/x-python",
   "name": "python",
   "nbconvert_exporter": "python",
   "pygments_lexer": "ipython3",
   "version": "3.10.12"
  }
 },
 "nbformat": 4,
 "nbformat_minor": 5
}
