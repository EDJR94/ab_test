{
 "cells": [
  {
   "cell_type": "markdown",
   "id": "ae12ec33",
   "metadata": {},
   "source": [
    "# Business Problem\n",
    "\n",
    "Cookie Cats is a hugely popular mobile puzzle game developed by Tactile Entertainment. It's a classic \"connect three\" style puzzle game where the player must connect tiles of the same color in order to clear the board and win the level. It also features singing cats. We're not kidding!\n",
    "\n",
    "As players progress through the game they will encounter gates that force them to wait some time before they can progress or make an in-app purchase. In this project, we will analyze the result of an A/B test where the first gate in Cookie Cats was moved from level 30 to level 40. In particular, we will analyze the impact on player retention.\n",
    "\n",
    "<center><iframe width=\"560\" height=\"315\" src=\"https://www.datacamp.com/projects/184\" frameborder=\"0\" allow=\"accelerometer; autoplay; clipboard-write; encrypted-media; gyroscope; picture-in-picture\" allowfullscreen></iframe></iframe></center>\n",
    "\n",
    "\n",
    "### Data Description from (https://www.datacamp.com/projects/184)\n",
    "\n",
    "<p>The data is from 90,189 players that installed the game while the AB-test was running. The variables are:</p>\n",
    "<ul>\n",
    "<li><code>userid</code> - a unique number that identifies each player.</li>\n",
    "<li><code>version</code> - whether the player was put in the control group (<code>gate_30</code> - a gate at level 30) or the test group (<code>gate_40</code> - a gate at level 40).</li>\n",
    "<li><code>sum_gamerounds</code> - the number of game rounds played by the player during the first week after installation\n",
    "<li><code>retention_1</code> - did the player come back and play 1 day after installing?</li>\n",
    "<li><code>retention_7</code> - did the player come back and play 7 days after installing?</li>\n",
    "</ul>\n",
    "<p>When a player installed the game, he or she was randomly assigned to either <code>gate_30</code> or <code>gate_40</code>. </p>"
   ]
  },
  {
   "cell_type": "markdown",
   "id": "1c675d2f",
   "metadata": {},
   "source": [
    "# 0.0 Imports"
   ]
  },
  {
   "cell_type": "code",
   "execution_count": 35,
   "id": "83e0182a",
   "metadata": {
    "ExecuteTime": {
     "end_time": "2023-08-10T20:26:48.578628Z",
     "start_time": "2023-08-10T20:26:48.565674Z"
    }
   },
   "outputs": [],
   "source": [
    "import pandas as pd\n",
    "import numpy as np\n",
    "import matplotlib.pyplot as plt\n",
    "import seaborn as sns\n",
    "\n",
    "from scipy.stats import chi2_contingency"
   ]
  },
  {
   "cell_type": "markdown",
   "id": "1e41bcb4",
   "metadata": {},
   "source": [
    "## 0.1 Load Data"
   ]
  },
  {
   "cell_type": "code",
   "execution_count": 5,
   "id": "4dbc6441",
   "metadata": {
    "ExecuteTime": {
     "end_time": "2023-08-10T19:29:26.490685Z",
     "start_time": "2023-08-10T19:29:26.439917Z"
    }
   },
   "outputs": [],
   "source": [
    "path = 'C:/Users/edils/repos/teste_ab/data/'\n",
    "\n",
    "df_raw = pd.read_csv(path + 'cookie_cats.csv')"
   ]
  },
  {
   "cell_type": "code",
   "execution_count": 6,
   "id": "adcfdc42",
   "metadata": {
    "ExecuteTime": {
     "end_time": "2023-08-10T19:29:26.771556Z",
     "start_time": "2023-08-10T19:29:26.748571Z"
    }
   },
   "outputs": [
    {
     "name": "stdout",
     "output_type": "stream",
     "text": [
      "<class 'pandas.core.frame.DataFrame'>\n",
      "RangeIndex: 90189 entries, 0 to 90188\n",
      "Data columns (total 5 columns):\n",
      " #   Column          Non-Null Count  Dtype \n",
      "---  ------          --------------  ----- \n",
      " 0   userid          90189 non-null  int64 \n",
      " 1   version         90189 non-null  object\n",
      " 2   sum_gamerounds  90189 non-null  int64 \n",
      " 3   retention_1     90189 non-null  bool  \n",
      " 4   retention_7     90189 non-null  bool  \n",
      "dtypes: bool(2), int64(2), object(1)\n",
      "memory usage: 2.2+ MB\n"
     ]
    }
   ],
   "source": [
    "df_raw.info()"
   ]
  },
  {
   "cell_type": "markdown",
   "id": "3ce4c2f9",
   "metadata": {},
   "source": [
    "# 1.0 Data Understanding"
   ]
  },
  {
   "cell_type": "code",
   "execution_count": 27,
   "id": "703eb38c",
   "metadata": {
    "ExecuteTime": {
     "end_time": "2023-08-10T19:49:53.620314Z",
     "start_time": "2023-08-10T19:49:53.608217Z"
    }
   },
   "outputs": [],
   "source": [
    "df1 = df_raw.copy()"
   ]
  },
  {
   "cell_type": "code",
   "execution_count": 28,
   "id": "8cd989ac",
   "metadata": {
    "ExecuteTime": {
     "end_time": "2023-08-10T19:49:53.868895Z",
     "start_time": "2023-08-10T19:49:53.855481Z"
    }
   },
   "outputs": [
    {
     "data": {
      "text/html": [
       "<div>\n",
       "<style scoped>\n",
       "    .dataframe tbody tr th:only-of-type {\n",
       "        vertical-align: middle;\n",
       "    }\n",
       "\n",
       "    .dataframe tbody tr th {\n",
       "        vertical-align: top;\n",
       "    }\n",
       "\n",
       "    .dataframe thead th {\n",
       "        text-align: right;\n",
       "    }\n",
       "</style>\n",
       "<table border=\"1\" class=\"dataframe\">\n",
       "  <thead>\n",
       "    <tr style=\"text-align: right;\">\n",
       "      <th></th>\n",
       "      <th>userid</th>\n",
       "      <th>version</th>\n",
       "      <th>sum_gamerounds</th>\n",
       "      <th>retention_1</th>\n",
       "      <th>retention_7</th>\n",
       "    </tr>\n",
       "  </thead>\n",
       "  <tbody>\n",
       "    <tr>\n",
       "      <th>0</th>\n",
       "      <td>116</td>\n",
       "      <td>gate_30</td>\n",
       "      <td>3</td>\n",
       "      <td>False</td>\n",
       "      <td>False</td>\n",
       "    </tr>\n",
       "    <tr>\n",
       "      <th>1</th>\n",
       "      <td>337</td>\n",
       "      <td>gate_30</td>\n",
       "      <td>38</td>\n",
       "      <td>True</td>\n",
       "      <td>False</td>\n",
       "    </tr>\n",
       "    <tr>\n",
       "      <th>2</th>\n",
       "      <td>377</td>\n",
       "      <td>gate_40</td>\n",
       "      <td>165</td>\n",
       "      <td>True</td>\n",
       "      <td>False</td>\n",
       "    </tr>\n",
       "    <tr>\n",
       "      <th>3</th>\n",
       "      <td>483</td>\n",
       "      <td>gate_40</td>\n",
       "      <td>1</td>\n",
       "      <td>False</td>\n",
       "      <td>False</td>\n",
       "    </tr>\n",
       "    <tr>\n",
       "      <th>4</th>\n",
       "      <td>488</td>\n",
       "      <td>gate_40</td>\n",
       "      <td>179</td>\n",
       "      <td>True</td>\n",
       "      <td>True</td>\n",
       "    </tr>\n",
       "  </tbody>\n",
       "</table>\n",
       "</div>"
      ],
      "text/plain": [
       "   userid  version  sum_gamerounds  retention_1  retention_7\n",
       "0     116  gate_30               3        False        False\n",
       "1     337  gate_30              38         True        False\n",
       "2     377  gate_40             165         True        False\n",
       "3     483  gate_40               1        False        False\n",
       "4     488  gate_40             179         True         True"
      ]
     },
     "execution_count": 28,
     "metadata": {},
     "output_type": "execute_result"
    }
   ],
   "source": [
    "df1.head()"
   ]
  },
  {
   "cell_type": "code",
   "execution_count": 32,
   "id": "6a8480bb",
   "metadata": {
    "ExecuteTime": {
     "end_time": "2023-08-10T19:50:08.442758Z",
     "start_time": "2023-08-10T19:50:08.423037Z"
    }
   },
   "outputs": [
    {
     "data": {
      "text/html": [
       "<div>\n",
       "<style scoped>\n",
       "    .dataframe tbody tr th:only-of-type {\n",
       "        vertical-align: middle;\n",
       "    }\n",
       "\n",
       "    .dataframe tbody tr th {\n",
       "        vertical-align: top;\n",
       "    }\n",
       "\n",
       "    .dataframe thead tr th {\n",
       "        text-align: left;\n",
       "    }\n",
       "</style>\n",
       "<table border=\"1\" class=\"dataframe\">\n",
       "  <thead>\n",
       "    <tr>\n",
       "      <th></th>\n",
       "      <th colspan=\"2\" halign=\"left\">version</th>\n",
       "      <th colspan=\"4\" halign=\"left\">sum_gamerounds</th>\n",
       "      <th>retention_1</th>\n",
       "      <th>retention_7</th>\n",
       "    </tr>\n",
       "    <tr>\n",
       "      <th></th>\n",
       "      <th></th>\n",
       "      <th>count</th>\n",
       "      <th>min</th>\n",
       "      <th>max</th>\n",
       "      <th>mean</th>\n",
       "      <th>std</th>\n",
       "      <th>count</th>\n",
       "      <th>count</th>\n",
       "    </tr>\n",
       "  </thead>\n",
       "  <tbody>\n",
       "    <tr>\n",
       "      <th>0</th>\n",
       "      <td>gate_30</td>\n",
       "      <td>44699</td>\n",
       "      <td>0</td>\n",
       "      <td>2961</td>\n",
       "      <td>51.342111</td>\n",
       "      <td>102.057598</td>\n",
       "      <td>44699</td>\n",
       "      <td>44699</td>\n",
       "    </tr>\n",
       "    <tr>\n",
       "      <th>1</th>\n",
       "      <td>gate_40</td>\n",
       "      <td>45489</td>\n",
       "      <td>0</td>\n",
       "      <td>2640</td>\n",
       "      <td>51.298776</td>\n",
       "      <td>103.294416</td>\n",
       "      <td>45489</td>\n",
       "      <td>45489</td>\n",
       "    </tr>\n",
       "  </tbody>\n",
       "</table>\n",
       "</div>"
      ],
      "text/plain": [
       "   version        sum_gamerounds                              retention_1  \\\n",
       "            count            min   max       mean         std       count   \n",
       "0  gate_30  44699              0  2961  51.342111  102.057598       44699   \n",
       "1  gate_40  45489              0  2640  51.298776  103.294416       45489   \n",
       "\n",
       "  retention_7  \n",
       "        count  \n",
       "0       44699  \n",
       "1       45489  "
      ]
     },
     "execution_count": 32,
     "metadata": {},
     "output_type": "execute_result"
    }
   ],
   "source": [
    "df1.groupby('version').agg({\n",
    "        'version':['count'],\n",
    "        'sum_gamerounds':['min','max','mean','std'],\n",
    "        'retention_1':['count'],\n",
    "        'retention_7':['count']\n",
    "    \n",
    "}).reset_index()\n"
   ]
  },
  {
   "cell_type": "markdown",
   "id": "55724a22",
   "metadata": {},
   "source": [
    "We have an outlier with sum_gamerounds = 49854. Let's remove it."
   ]
  },
  {
   "cell_type": "code",
   "execution_count": 30,
   "id": "b5718b9c",
   "metadata": {
    "ExecuteTime": {
     "end_time": "2023-08-10T19:49:55.118633Z",
     "start_time": "2023-08-10T19:49:55.096816Z"
    }
   },
   "outputs": [],
   "source": [
    "df1 = df1.loc[df1['sum_gamerounds'] != 49854,:]"
   ]
  },
  {
   "cell_type": "code",
   "execution_count": 52,
   "id": "57f2c48d",
   "metadata": {
    "ExecuteTime": {
     "end_time": "2023-08-10T20:42:28.177296Z",
     "start_time": "2023-08-10T20:42:28.166629Z"
    }
   },
   "outputs": [
    {
     "name": "stdout",
     "output_type": "stream",
     "text": [
      "     sum_gamerounds  percentage\n",
      "0                 1    0.061405\n",
      "1                 2    0.051071\n",
      "2                 0    0.044285\n",
      "3                 3    0.043886\n",
      "4                 4    0.040238\n",
      "..              ...         ...\n",
      "936             933    0.000011\n",
      "937             617    0.000011\n",
      "938            1462    0.000011\n",
      "939             578    0.000011\n",
      "940             708    0.000011\n",
      "\n",
      "[941 rows x 2 columns]\n"
     ]
    }
   ],
   "source": [
    "# Criar uma tabela de frequência para sum_gamerounds\n",
    "game_rounds = df1['sum_gamerounds'].value_counts(normalize=True).reset_index()\n",
    "game_rounds.columns = ['sum_gamerounds', 'percentage']\n",
    "\n",
    "# Exibir a distribuição de porcentagem de sum_gamerounds\n",
    "print(game_rounds)"
   ]
  },
  {
   "cell_type": "markdown",
   "id": "58cbc3c5",
   "metadata": {},
   "source": [
    "Podemos observar que cerca de 4% dos meus usuarios tiveram 0 sum_gamerounds, ou seja, não jogaram o jogo nenhuma vez. Devemos excluir pois irão poluir as amostras"
   ]
  },
  {
   "cell_type": "markdown",
   "id": "08486b6c",
   "metadata": {},
   "source": [
    "# 2.0 Experiment Design"
   ]
  },
  {
   "cell_type": "markdown",
   "id": "4872c636",
   "metadata": {},
   "source": [
    "--- \n",
    "\n",
    "# Objective\n",
    "\n",
    "Analyze customer retention by moving the gate to level 30 to level 40\n",
    "\n",
    "H0: Moving the gate does not increase retention\n",
    "H1: Moving the gate increase retention"
   ]
  },
  {
   "cell_type": "markdown",
   "id": "03c588cc",
   "metadata": {},
   "source": [
    "## 2.1 Sample Size"
   ]
  },
  {
   "cell_type": "code",
   "execution_count": 34,
   "id": "33a1a241",
   "metadata": {
    "ExecuteTime": {
     "end_time": "2023-08-10T20:26:21.576270Z",
     "start_time": "2023-08-10T20:26:21.534376Z"
    }
   },
   "outputs": [
    {
     "data": {
      "text/html": [
       "<div>\n",
       "<style scoped>\n",
       "    .dataframe tbody tr th:only-of-type {\n",
       "        vertical-align: middle;\n",
       "    }\n",
       "\n",
       "    .dataframe tbody tr th {\n",
       "        vertical-align: top;\n",
       "    }\n",
       "\n",
       "    .dataframe thead th {\n",
       "        text-align: right;\n",
       "    }\n",
       "</style>\n",
       "<table border=\"1\" class=\"dataframe\">\n",
       "  <thead>\n",
       "    <tr style=\"text-align: right;\">\n",
       "      <th>retention_1</th>\n",
       "      <th>False</th>\n",
       "      <th>True</th>\n",
       "    </tr>\n",
       "    <tr>\n",
       "      <th>version</th>\n",
       "      <th></th>\n",
       "      <th></th>\n",
       "    </tr>\n",
       "  </thead>\n",
       "  <tbody>\n",
       "    <tr>\n",
       "      <th>gate_30</th>\n",
       "      <td>24665</td>\n",
       "      <td>20034</td>\n",
       "    </tr>\n",
       "    <tr>\n",
       "      <th>gate_40</th>\n",
       "      <td>25370</td>\n",
       "      <td>20119</td>\n",
       "    </tr>\n",
       "  </tbody>\n",
       "</table>\n",
       "</div>"
      ],
      "text/plain": [
       "retention_1  False  True \n",
       "version                  \n",
       "gate_30      24665  20034\n",
       "gate_40      25370  20119"
      ]
     },
     "execution_count": 34,
     "metadata": {},
     "output_type": "execute_result"
    }
   ],
   "source": [
    "pd.crosstab(df1['version'], df1['retention_1'])"
   ]
  },
  {
   "cell_type": "code",
   "execution_count": 37,
   "id": "f3647dad",
   "metadata": {
    "ExecuteTime": {
     "end_time": "2023-08-10T20:27:03.755587Z",
     "start_time": "2023-08-10T20:27:03.723597Z"
    }
   },
   "outputs": [
    {
     "name": "stdout",
     "output_type": "stream",
     "text": [
      "Retention 1-day:\n",
      "Chi-squared Statistic: 3.169835543170799\n",
      "P-value: 0.07500999897705692\n",
      "Degrees of Freedom: 1\n",
      "Contingency Table:\n",
      "retention_1  False  True \n",
      "version                  \n",
      "gate_30      24665  20034\n",
      "gate_40      25370  20119\n",
      "Expected Frequencies:\n",
      "[[24798.35970417 19900.64029583]\n",
      " [25236.64029583 20252.35970417]]\n"
     ]
    }
   ],
   "source": [
    "# Criar a tabela de contingência para retention_1\n",
    "contingency_table_1 = pd.crosstab(df1['version'], df1['retention_1'])\n",
    "\n",
    "# Realizar o teste qui-quadrado para retention_1\n",
    "chi2_stat_1, p_value_1, dof_1, expected_1 = chi2_contingency(contingency_table_1)\n",
    "\n",
    "# Exibir os resultados para retention_1\n",
    "print(\"Retention 1-day:\")\n",
    "print(f\"Chi-squared Statistic: {chi2_stat_1}\")\n",
    "print(f\"P-value: {p_value_1}\")\n",
    "print(f\"Degrees of Freedom: {dof_1}\")\n",
    "print(\"Contingency Table:\")\n",
    "print(contingency_table_1)\n",
    "print(\"Expected Frequencies:\")\n",
    "print(expected_1)"
   ]
  },
  {
   "cell_type": "code",
   "execution_count": 38,
   "id": "1b84a6a4",
   "metadata": {
    "ExecuteTime": {
     "end_time": "2023-08-10T20:27:42.288787Z",
     "start_time": "2023-08-10T20:27:42.267663Z"
    }
   },
   "outputs": [
    {
     "name": "stdout",
     "output_type": "stream",
     "text": [
      "Retention 7-day:\n",
      "Chi-squared Statistic: 9.91527552890567\n",
      "P-value: 0.0016391259678654425\n",
      "Degrees of Freedom: 1\n",
      "Contingency Table:\n",
      "retention_7  False  True \n",
      "version                  \n",
      "gate_30      36198   8501\n",
      "gate_40      37210   8279\n",
      "Expected Frequencies:\n",
      "[[36382.49203885  8316.50796115]\n",
      " [37025.50796115  8463.49203885]]\n"
     ]
    }
   ],
   "source": [
    "contingency_table_7 = pd.crosstab(df1['version'], df1['retention_7'])\n",
    "\n",
    "# Realizar o teste qui-quadrado para retention_7\n",
    "chi2_stat_7, p_value_7, dof_7, expected_7 = chi2_contingency(contingency_table_7)\n",
    "\n",
    "# Exibir os resultados para retention_7\n",
    "print(\"Retention 7-day:\")\n",
    "print(f\"Chi-squared Statistic: {chi2_stat_7}\")\n",
    "print(f\"P-value: {p_value_7}\")\n",
    "print(f\"Degrees of Freedom: {dof_7}\")\n",
    "print(\"Contingency Table:\")\n",
    "print(contingency_table_7)\n",
    "print(\"Expected Frequencies:\")\n",
    "print(expected_7)"
   ]
  },
  {
   "cell_type": "code",
   "execution_count": null,
   "id": "8ad1c140",
   "metadata": {},
   "outputs": [],
   "source": []
  }
 ],
 "metadata": {
  "kernelspec": {
   "display_name": "Python 3 (ipykernel)",
   "language": "python",
   "name": "python3"
  },
  "language_info": {
   "codemirror_mode": {
    "name": "ipython",
    "version": 3
   },
   "file_extension": ".py",
   "mimetype": "text/x-python",
   "name": "python",
   "nbconvert_exporter": "python",
   "pygments_lexer": "ipython3",
   "version": "3.10.12"
  }
 },
 "nbformat": 4,
 "nbformat_minor": 5
}
