{
 "cells": [
  {
   "cell_type": "markdown",
   "id": "6c43fc24",
   "metadata": {},
   "source": [
    "# 0.0 Imports"
   ]
  },
  {
   "cell_type": "code",
   "execution_count": 11,
   "id": "7a740ac5",
   "metadata": {
    "ExecuteTime": {
     "end_time": "2023-07-31T12:15:19.707739Z",
     "start_time": "2023-07-31T12:15:19.700697Z"
    }
   },
   "outputs": [],
   "source": [
    "import pandas as pd\n",
    "import numpy as np\n",
    "import math\n",
    "\n",
    "from statsmodels.stats import api as sms"
   ]
  },
  {
   "cell_type": "markdown",
   "id": "421bc555",
   "metadata": {},
   "source": [
    "## 0.1 Loading"
   ]
  },
  {
   "cell_type": "code",
   "execution_count": 4,
   "id": "af53a893",
   "metadata": {
    "ExecuteTime": {
     "end_time": "2023-07-31T12:12:16.117338Z",
     "start_time": "2023-07-31T12:12:16.056197Z"
    }
   },
   "outputs": [],
   "source": [
    "path = 'C:/Users/edils/repos/teste_ab/data/'\n",
    "\n",
    "df_raw = pd.read_csv(path + 'ab_testing.csv')"
   ]
  },
  {
   "cell_type": "code",
   "execution_count": 5,
   "id": "d28d78d7",
   "metadata": {
    "ExecuteTime": {
     "end_time": "2023-07-31T12:12:22.780587Z",
     "start_time": "2023-07-31T12:12:22.753252Z"
    }
   },
   "outputs": [
    {
     "data": {
      "text/html": [
       "<div>\n",
       "<style scoped>\n",
       "    .dataframe tbody tr th:only-of-type {\n",
       "        vertical-align: middle;\n",
       "    }\n",
       "\n",
       "    .dataframe tbody tr th {\n",
       "        vertical-align: top;\n",
       "    }\n",
       "\n",
       "    .dataframe thead th {\n",
       "        text-align: right;\n",
       "    }\n",
       "</style>\n",
       "<table border=\"1\" class=\"dataframe\">\n",
       "  <thead>\n",
       "    <tr style=\"text-align: right;\">\n",
       "      <th></th>\n",
       "      <th>uid</th>\n",
       "      <th>country</th>\n",
       "      <th>gender</th>\n",
       "      <th>spent</th>\n",
       "      <th>purchases</th>\n",
       "      <th>date</th>\n",
       "      <th>group</th>\n",
       "      <th>device</th>\n",
       "    </tr>\n",
       "  </thead>\n",
       "  <tbody>\n",
       "    <tr>\n",
       "      <th>0</th>\n",
       "      <td>11115722</td>\n",
       "      <td>MEX</td>\n",
       "      <td>F</td>\n",
       "      <td>1595</td>\n",
       "      <td>5</td>\n",
       "      <td>2016-03-08</td>\n",
       "      <td>GRP B</td>\n",
       "      <td>I</td>\n",
       "    </tr>\n",
       "    <tr>\n",
       "      <th>1</th>\n",
       "      <td>11122053</td>\n",
       "      <td>USA</td>\n",
       "      <td>M</td>\n",
       "      <td>498</td>\n",
       "      <td>2</td>\n",
       "      <td>2017-07-14</td>\n",
       "      <td>GRP B</td>\n",
       "      <td>I</td>\n",
       "    </tr>\n",
       "    <tr>\n",
       "      <th>2</th>\n",
       "      <td>11128688</td>\n",
       "      <td>USA</td>\n",
       "      <td>F</td>\n",
       "      <td>2394</td>\n",
       "      <td>6</td>\n",
       "      <td>2017-09-17</td>\n",
       "      <td>GRP A</td>\n",
       "      <td>I</td>\n",
       "    </tr>\n",
       "    <tr>\n",
       "      <th>3</th>\n",
       "      <td>11130578</td>\n",
       "      <td>USA</td>\n",
       "      <td>F</td>\n",
       "      <td>1197</td>\n",
       "      <td>3</td>\n",
       "      <td>2017-11-30</td>\n",
       "      <td>GRP A</td>\n",
       "      <td>I</td>\n",
       "    </tr>\n",
       "    <tr>\n",
       "      <th>4</th>\n",
       "      <td>11130759</td>\n",
       "      <td>ESP</td>\n",
       "      <td>M</td>\n",
       "      <td>1297</td>\n",
       "      <td>3</td>\n",
       "      <td>2018-01-10</td>\n",
       "      <td>GRP B</td>\n",
       "      <td>A</td>\n",
       "    </tr>\n",
       "  </tbody>\n",
       "</table>\n",
       "</div>"
      ],
      "text/plain": [
       "        uid country gender  spent  purchases        date  group device\n",
       "0  11115722     MEX      F   1595          5  2016-03-08  GRP B      I\n",
       "1  11122053     USA      M    498          2  2017-07-14  GRP B      I\n",
       "2  11128688     USA      F   2394          6  2017-09-17  GRP A      I\n",
       "3  11130578     USA      F   1197          3  2017-11-30  GRP A      I\n",
       "4  11130759     ESP      M   1297          3  2018-01-10  GRP B      A"
      ]
     },
     "execution_count": 5,
     "metadata": {},
     "output_type": "execute_result"
    }
   ],
   "source": [
    "df_raw.head()"
   ]
  },
  {
   "cell_type": "markdown",
   "id": "8085782d",
   "metadata": {},
   "source": [
    "# 1.0 Parametros do Experimento"
   ]
  },
  {
   "cell_type": "code",
   "execution_count": 8,
   "id": "0c523861",
   "metadata": {
    "ExecuteTime": {
     "end_time": "2023-07-31T12:15:09.406616Z",
     "start_time": "2023-07-31T12:15:09.400518Z"
    }
   },
   "outputs": [],
   "source": [
    "#nivel de confiança\n",
    "confidence_level = 0.95\n",
    "\n",
    "#nivel de significancia\n",
    "significance_level = 0.05\n",
    "\n",
    "#conversoes da pagina atual e nova\n",
    "p1 = 0.13\n",
    "p2 = 0.15\n",
    "\n",
    "#tamanho do efeito\n",
    "effect_size = sms.proportion_effectsize(p1, p2)\n",
    "\n",
    "#poder Estatistico\n",
    "power = 0.80"
   ]
  },
  {
   "cell_type": "code",
   "execution_count": 12,
   "id": "17625344",
   "metadata": {
    "ExecuteTime": {
     "end_time": "2023-07-31T12:16:03.677997Z",
     "start_time": "2023-07-31T12:16:03.666302Z"
    }
   },
   "outputs": [],
   "source": [
    "sample_n = sms.NormalIndPower().solve_power(\n",
    "            effect_size,\n",
    "            power=power,\n",
    "            alpha=significance_level\n",
    ")\n",
    "\n",
    "sample_n = math.ceil(sample_n)"
   ]
  },
  {
   "cell_type": "code",
   "execution_count": 13,
   "id": "8816d41b",
   "metadata": {
    "ExecuteTime": {
     "end_time": "2023-07-31T12:17:18.697367Z",
     "start_time": "2023-07-31T12:17:18.685827Z"
    }
   },
   "outputs": [
    {
     "name": "stdout",
     "output_type": "stream",
     "text": [
      "O tamanho total da amostra é: 9440\n",
      "O tamanho da amostra do grupo de controle é: 4720\n",
      "O tamanho da amostra do grupo de tratamento é: 4720\n"
     ]
    }
   ],
   "source": [
    "print(f\"O tamanho total da amostra é: {2*sample_n}\")\n",
    "print(f\"O tamanho da amostra do grupo de controle é: {sample_n}\")\n",
    "print(f\"O tamanho da amostra do grupo de tratamento é: {sample_n}\")"
   ]
  },
  {
   "cell_type": "code",
   "execution_count": null,
   "id": "5c22eea9",
   "metadata": {},
   "outputs": [],
   "source": []
  },
  {
   "cell_type": "code",
   "execution_count": null,
   "id": "7bf1fa02",
   "metadata": {},
   "outputs": [],
   "source": []
  }
 ],
 "metadata": {
  "kernelspec": {
   "display_name": "Python 3 (ipykernel)",
   "language": "python",
   "name": "python3"
  },
  "language_info": {
   "codemirror_mode": {
    "name": "ipython",
    "version": 3
   },
   "file_extension": ".py",
   "mimetype": "text/x-python",
   "name": "python",
   "nbconvert_exporter": "python",
   "pygments_lexer": "ipython3",
   "version": "3.10.12"
  }
 },
 "nbformat": 4,
 "nbformat_minor": 5
}
