{
 "cells": [
  {
   "cell_type": "markdown",
   "id": "8b14c8b6",
   "metadata": {},
   "source": [
    "---\n",
    "\n",
    "# A/B Test - Descrição do Problema\n",
    "\n",
    "A Electronic House é um comercio online ( e-commerce ) de produtos de informática\n",
    "para casas e escritórios. Os clientes podem comprar mouses, monitores, teclados,\n",
    "computadores, laptops, cabos HDMI, fones de ouvido, cameras webcam, entre\n",
    "outros, através de um site online e recebem os produtos no conforto de suas casas\n",
    "\n",
    "O Diretor de Produtos Global pediu ao Head de Design que desenvolvesse uma\n",
    "nova forma de finalizar a compra com cartão de crédito, sem a necessidade do\n",
    "cliente preencher manualmente todas as informações do cartão e que funcionasse\n",
    "em todos os países.\n",
    "\n",
    "Depois de meses desenvolvendo esse dispositivo, o time de Desenvolvimento\n",
    "Backend entregou uma solução de pagamentos, na qual **90% das informações do\n",
    "formulário eram preenchido automaticamente.**\n",
    "\n",
    "O Head de Designer gostaria de medir a efetividade do novo dispositivo de\n",
    "preenchimento automático dos dados do cartão de crédito na página de vendas e\n",
    "reportar os resultados ao Diretor de Produtos Global, para concluir se a nova forma\n",
    "de pagamento é realmente melhor do que a antiga.\n",
    "\n",
    "As duas páginas foram colocadas no ar e durante alguns meses e o time de FrontEnd desenvolveu uma automação que atribui um rótulo para cada cliente,\n",
    "mostrando qual a página de vendas aquele determinado cliente estava visualizando.\n",
    "Todos esses dados foram armazenados em um banco de dados e podem ser\n",
    "acessados pelos times da Electronic House.\n",
    "\n",
    "Depois de alguns meses de experimento, o time de Designers da Electronic House,\n",
    "precisa avaliar os resultados do experimento realizado, a fim de concluir qual era a\n",
    "forma de pagamento mais eficaz.\n",
    "\n",
    "Porém, o time não possui as habilidades necessárias para avaliar os dados e\n",
    "concluir o experimento. Nesse contexto, você foi contratado como Cientista de\n",
    "Dados para ajudar o time de Designers a **validar a efetividade do novo meio de\n",
    "pagamento, com mais confiança e rigidez na análise.**\n",
    "\n",
    "O entregável do seu trabalho é o seguinte:\n",
    "1. Qual a melhor forma de pagamento: Preenchimento Manual ou Automático do\n",
    "formulário de dados do cartão de crédito?"
   ]
  },
  {
   "cell_type": "markdown",
   "id": "2cda211f",
   "metadata": {},
   "source": [
    "# 0.0 Imports"
   ]
  },
  {
   "cell_type": "code",
   "execution_count": 1,
   "id": "841b881f",
   "metadata": {
    "ExecuteTime": {
     "end_time": "2023-08-10T09:41:52.530180Z",
     "start_time": "2023-08-10T09:41:50.281745Z"
    }
   },
   "outputs": [],
   "source": [
    "import pandas as pd\n",
    "import numpy as np\n",
    "import matplotlib.pyplot as plt\n",
    "import seaborn as sns\n",
    "\n",
    "from statsmodels.stats import api as sms\n",
    "from scipy.stats import ttest_ind"
   ]
  },
  {
   "cell_type": "markdown",
   "id": "c3ee81a6",
   "metadata": {},
   "source": [
    "## 0.1 Load Data"
   ]
  },
  {
   "cell_type": "code",
   "execution_count": 2,
   "id": "4f20bf75",
   "metadata": {
    "ExecuteTime": {
     "end_time": "2023-08-10T09:41:52.592704Z",
     "start_time": "2023-08-10T09:41:52.533174Z"
    }
   },
   "outputs": [],
   "source": [
    "path = 'C:/Users/edils/repos/teste_ab/data/'\n",
    "\n",
    "df_raw = pd.read_csv(path + 'ab_testing.csv')"
   ]
  },
  {
   "cell_type": "code",
   "execution_count": 3,
   "id": "57819931",
   "metadata": {
    "ExecuteTime": {
     "end_time": "2023-08-10T09:41:52.623800Z",
     "start_time": "2023-08-10T09:41:52.594727Z"
    }
   },
   "outputs": [
    {
     "data": {
      "text/html": [
       "<div>\n",
       "<style scoped>\n",
       "    .dataframe tbody tr th:only-of-type {\n",
       "        vertical-align: middle;\n",
       "    }\n",
       "\n",
       "    .dataframe tbody tr th {\n",
       "        vertical-align: top;\n",
       "    }\n",
       "\n",
       "    .dataframe thead th {\n",
       "        text-align: right;\n",
       "    }\n",
       "</style>\n",
       "<table border=\"1\" class=\"dataframe\">\n",
       "  <thead>\n",
       "    <tr style=\"text-align: right;\">\n",
       "      <th></th>\n",
       "      <th>uid</th>\n",
       "      <th>country</th>\n",
       "      <th>gender</th>\n",
       "      <th>spent</th>\n",
       "      <th>purchases</th>\n",
       "      <th>date</th>\n",
       "      <th>group</th>\n",
       "      <th>device</th>\n",
       "    </tr>\n",
       "  </thead>\n",
       "  <tbody>\n",
       "    <tr>\n",
       "      <th>0</th>\n",
       "      <td>11115722</td>\n",
       "      <td>MEX</td>\n",
       "      <td>F</td>\n",
       "      <td>1595</td>\n",
       "      <td>5</td>\n",
       "      <td>2016-03-08</td>\n",
       "      <td>GRP B</td>\n",
       "      <td>I</td>\n",
       "    </tr>\n",
       "    <tr>\n",
       "      <th>1</th>\n",
       "      <td>11122053</td>\n",
       "      <td>USA</td>\n",
       "      <td>M</td>\n",
       "      <td>498</td>\n",
       "      <td>2</td>\n",
       "      <td>2017-07-14</td>\n",
       "      <td>GRP B</td>\n",
       "      <td>I</td>\n",
       "    </tr>\n",
       "    <tr>\n",
       "      <th>2</th>\n",
       "      <td>11128688</td>\n",
       "      <td>USA</td>\n",
       "      <td>F</td>\n",
       "      <td>2394</td>\n",
       "      <td>6</td>\n",
       "      <td>2017-09-17</td>\n",
       "      <td>GRP A</td>\n",
       "      <td>I</td>\n",
       "    </tr>\n",
       "    <tr>\n",
       "      <th>3</th>\n",
       "      <td>11130578</td>\n",
       "      <td>USA</td>\n",
       "      <td>F</td>\n",
       "      <td>1197</td>\n",
       "      <td>3</td>\n",
       "      <td>2017-11-30</td>\n",
       "      <td>GRP A</td>\n",
       "      <td>I</td>\n",
       "    </tr>\n",
       "    <tr>\n",
       "      <th>4</th>\n",
       "      <td>11130759</td>\n",
       "      <td>ESP</td>\n",
       "      <td>M</td>\n",
       "      <td>1297</td>\n",
       "      <td>3</td>\n",
       "      <td>2018-01-10</td>\n",
       "      <td>GRP B</td>\n",
       "      <td>A</td>\n",
       "    </tr>\n",
       "  </tbody>\n",
       "</table>\n",
       "</div>"
      ],
      "text/plain": [
       "        uid country gender  spent  purchases        date  group device\n",
       "0  11115722     MEX      F   1595          5  2016-03-08  GRP B      I\n",
       "1  11122053     USA      M    498          2  2017-07-14  GRP B      I\n",
       "2  11128688     USA      F   2394          6  2017-09-17  GRP A      I\n",
       "3  11130578     USA      F   1197          3  2017-11-30  GRP A      I\n",
       "4  11130759     ESP      M   1297          3  2018-01-10  GRP B      A"
      ]
     },
     "execution_count": 3,
     "metadata": {},
     "output_type": "execute_result"
    }
   ],
   "source": [
    "df_raw.head()"
   ]
  },
  {
   "cell_type": "code",
   "execution_count": 4,
   "id": "c81c5cd1",
   "metadata": {
    "ExecuteTime": {
     "end_time": "2023-08-10T09:41:52.655269Z",
     "start_time": "2023-08-10T09:41:52.625759Z"
    }
   },
   "outputs": [
    {
     "name": "stdout",
     "output_type": "stream",
     "text": [
      "<class 'pandas.core.frame.DataFrame'>\n",
      "RangeIndex: 45883 entries, 0 to 45882\n",
      "Data columns (total 8 columns):\n",
      " #   Column     Non-Null Count  Dtype \n",
      "---  ------     --------------  ----- \n",
      " 0   uid        45883 non-null  int64 \n",
      " 1   country    45883 non-null  object\n",
      " 2   gender     45883 non-null  object\n",
      " 3   spent      45883 non-null  int64 \n",
      " 4   purchases  45883 non-null  int64 \n",
      " 5   date       45883 non-null  object\n",
      " 6   group      45883 non-null  object\n",
      " 7   device     45883 non-null  object\n",
      "dtypes: int64(3), object(5)\n",
      "memory usage: 2.8+ MB\n"
     ]
    }
   ],
   "source": [
    "df_raw.info()"
   ]
  },
  {
   "cell_type": "markdown",
   "id": "79dff491",
   "metadata": {},
   "source": [
    "# 1.0 Understand Data"
   ]
  },
  {
   "cell_type": "code",
   "execution_count": 5,
   "id": "fc596416",
   "metadata": {
    "ExecuteTime": {
     "end_time": "2023-08-10T09:41:52.670578Z",
     "start_time": "2023-08-10T09:41:52.656254Z"
    }
   },
   "outputs": [],
   "source": [
    "df1 = df_raw.copy()"
   ]
  },
  {
   "cell_type": "code",
   "execution_count": 6,
   "id": "5b0c6ed9",
   "metadata": {
    "ExecuteTime": {
     "end_time": "2023-08-10T09:41:53.448885Z",
     "start_time": "2023-08-10T09:41:52.671574Z"
    }
   },
   "outputs": [
    {
     "data": {
      "image/png": "[encoded data removed]",
      "text/plain": [
       "<Figure size 1000x1500 with 4 Axes>"
      ]
     },
     "metadata": {},
     "output_type": "display_data"
    }
   ],
   "source": [
    "fig, axes = plt.subplots(4, 1, figsize=(10, 15))\n",
    "\n",
    "# Spent per Country\n",
    "country_spent = df1[['country', 'spent']].groupby('country').sum().reset_index()\n",
    "sns.barplot(data=country_spent, x='country', y='spent', ax=axes[0])\n",
    "axes[0].set_title('Gastos por País')\n",
    "axes[0].set_xlabel('País')\n",
    "axes[0].set_ylabel('Valor Gasto')\n",
    "\n",
    "# Customers per country\n",
    "customer_country = df1[['country', 'uid']].groupby('country').nunique().reset_index()\n",
    "sns.barplot(data=customer_country, x='country', y='uid', ax=axes[1])\n",
    "axes[1].set_title('Consumidores por País')\n",
    "axes[1].set_xlabel('País')\n",
    "axes[1].set_ylabel('Número de Consumidores')\n",
    "\n",
    "\n",
    "\n",
    "# Percentage of male/female\n",
    "male_female = df1['gender'].value_counts().reset_index()\n",
    "sns.barplot(data=male_female, x='gender', y='count', ax=axes[2])\n",
    "axes[2].set_title('Relação Homem/Mulher')\n",
    "axes[2].set_xlabel('Gênero')\n",
    "axes[2].set_ylabel('Quantidade')\n",
    "\n",
    "#Relation betwwen Devices\n",
    "devices = df1['device'].value_counts().reset_index()\n",
    "sns.barplot(data=devices, x='device', y='count', ax=axes[3])\n",
    "axes[3].set_title('Relação Utilização App/Computer')\n",
    "axes[3].set_xlabel('Tipo de Device')\n",
    "axes[3].set_ylabel('Quantidade')\n",
    "\n",
    "\n",
    "plt.tight_layout()\n",
    "plt.show()"
   ]
  },
  {
   "cell_type": "markdown",
   "id": "0a3dd2ea",
   "metadata": {},
   "source": [
    "Podemos observar que existe uma diferença considerável entre os países olhando o número de consumidores. Mais a frente iremos testar a homogeneidade dos dados e verificar se é preciso restringir algum país que possua um comportamento muito diferente."
   ]
  },
  {
   "cell_type": "markdown",
   "id": "7ca4fb7f",
   "metadata": {},
   "source": [
    "# 2.0 Design do Experimento"
   ]
  },
  {
   "cell_type": "code",
   "execution_count": 55,
   "id": "1a4cc052",
   "metadata": {
    "ExecuteTime": {
     "end_time": "2023-08-10T09:51:05.472872Z",
     "start_time": "2023-08-10T09:51:05.457700Z"
    }
   },
   "outputs": [],
   "source": [
    "df2 = df_raw.copy()"
   ]
  },
  {
   "cell_type": "markdown",
   "id": "0bf5b5ba",
   "metadata": {
    "ExecuteTime": {
     "end_time": "2023-08-09T22:30:41.398798Z",
     "start_time": "2023-08-09T22:30:41.384704Z"
    }
   },
   "source": [
    "---\n",
    "\n",
    "## Objetivo: Definir se o preenchimento automático é melhor que que o manual\n",
    "\n",
    " - Métrica: GMV médio\n",
    "\n",
    " - Grupo A = Preenchimento automático\n",
    " - Grupo B = Preenchimento Manual"
   ]
  },
  {
   "cell_type": "markdown",
   "id": "308b669d",
   "metadata": {},
   "source": [
    "## 2.1 Hipóteses do Experimento"
   ]
  },
  {
   "cell_type": "markdown",
   "id": "0cee2691",
   "metadata": {
    "ExecuteTime": {
     "end_time": "2023-08-09T22:30:41.414417Z",
     "start_time": "2023-08-09T22:30:41.399794Z"
    }
   },
   "source": [
    "- H0 : média de gastos(GMV) da página A = média de gastos(GMV) da página B \n",
    "- H1 : média de gastos(GMV) da página A <> média de gastos(GMV) da página B"
   ]
  },
  {
   "cell_type": "markdown",
   "id": "17756fc2",
   "metadata": {},
   "source": [
    "## 2.2 Média e desvio padrão da população"
   ]
  },
  {
   "cell_type": "code",
   "execution_count": 56,
   "id": "4a484087",
   "metadata": {
    "ExecuteTime": {
     "end_time": "2023-08-10T09:51:09.168341Z",
     "start_time": "2023-08-10T09:51:09.156799Z"
    }
   },
   "outputs": [
    {
     "data": {
      "text/plain": [
       "mean    1883.453349\n",
       "std     1363.921546\n",
       "Name: spent, dtype: float64"
      ]
     },
     "execution_count": 56,
     "metadata": {},
     "output_type": "execute_result"
    }
   ],
   "source": [
    "# mean and std\n",
    "df2['spent'].agg(['mean','std'])"
   ]
  },
  {
   "cell_type": "markdown",
   "id": "a5057fc1",
   "metadata": {},
   "source": [
    "A média e o desvio padrão serão utilizados para encontrar o tamanho da amostra"
   ]
  },
  {
   "cell_type": "markdown",
   "id": "72c8fdf2",
   "metadata": {},
   "source": [
    "## 2.3 Tamanho da Amostra"
   ]
  },
  {
   "cell_type": "markdown",
   "id": "2ffdba85",
   "metadata": {},
   "source": [
    "---\n",
    "\n",
    "# Effect size\n",
    "\n",
    " - init_metric = Média Sales ou Média GMV\n",
    " - end_metric = metric lift (10% sobre a metrica atual)\n",
    " - std_metric = Desvio padrão das Sales ou GMV\n",
    " \n",
    " Vamos utilizar como métrica a média de vendas na página e buscaremos um aumento de 5% sobre as vendas atuais\n",
    "  - Utilizaremos um nível de confiança de 10% e um poder estatístico de 70%"
   ]
  },
  {
   "cell_type": "code",
   "execution_count": 100,
   "id": "4ff83700",
   "metadata": {
    "ExecuteTime": {
     "end_time": "2023-08-10T10:27:19.447063Z",
     "start_time": "2023-08-10T10:27:19.424179Z"
    }
   },
   "outputs": [
    {
     "name": "stdout",
     "output_type": "stream",
     "text": [
      "Tamanho das Amostras: 3294\n"
     ]
    }
   ],
   "source": [
    "init_metric = 1883.453349\n",
    "end_metric = init_metric * 1.05\n",
    "\n",
    "std_metric = 1363.921546\n",
    "\n",
    "effect_size = (end_metric - init_metric) / std_metric\n",
    "\n",
    "sample_size = sms.tt_ind_solve_power(\n",
    "    effect_size = effect_size,\n",
    "    alpha = 0.05,\n",
    "    power = 0.80\n",
    ")\n",
    "\n",
    "print(f\"Tamanho das Amostras: {np.ceil(sample_size).astype(int)}\")"
   ]
  },
  {
   "cell_type": "markdown",
   "id": "8e70bc1d",
   "metadata": {},
   "source": [
    "ao aumentar o valor de \"end_metric\", você está diminuindo a diferença entre as médias dos grupos (já que o tamanho do efeito é o numerador na fórmula). Uma diferença menor entre as médias dos grupos requer uma amostra maior para alcançar um poder estatístico desejado (no caso, 80%) a um determinado nível de significância (no caso, 0.10).\n",
    "\n",
    "Portanto, se você aumenta o \"end_metric\", isso resulta em um tamanho de efeito menor, o que, por sua vez, pode levar a um aumento no tamanho da amostra necessário para alcançar a mesma potência estatística."
   ]
  },
  {
   "cell_type": "code",
   "execution_count": 101,
   "id": "9b677d52",
   "metadata": {
    "ExecuteTime": {
     "end_time": "2023-08-10T10:27:22.757003Z",
     "start_time": "2023-08-10T10:27:22.748477Z"
    }
   },
   "outputs": [],
   "source": [
    "sample_size = np.ceil(sample_size).astype(int)"
   ]
  },
  {
   "cell_type": "markdown",
   "id": "f24a6b41",
   "metadata": {},
   "source": [
    "# 3.0 Preparação dos Dados"
   ]
  },
  {
   "cell_type": "code",
   "execution_count": 103,
   "id": "2a81a646",
   "metadata": {
    "ExecuteTime": {
     "end_time": "2023-08-10T10:27:31.409517Z",
     "start_time": "2023-08-10T10:27:31.398791Z"
    }
   },
   "outputs": [],
   "source": [
    "df3 = df2.copy()"
   ]
  },
  {
   "cell_type": "code",
   "execution_count": 104,
   "id": "780e8586",
   "metadata": {
    "ExecuteTime": {
     "end_time": "2023-08-10T10:27:31.688516Z",
     "start_time": "2023-08-10T10:27:31.674877Z"
    }
   },
   "outputs": [
    {
     "data": {
      "text/html": [
       "<div>\n",
       "<style scoped>\n",
       "    .dataframe tbody tr th:only-of-type {\n",
       "        vertical-align: middle;\n",
       "    }\n",
       "\n",
       "    .dataframe tbody tr th {\n",
       "        vertical-align: top;\n",
       "    }\n",
       "\n",
       "    .dataframe thead th {\n",
       "        text-align: right;\n",
       "    }\n",
       "</style>\n",
       "<table border=\"1\" class=\"dataframe\">\n",
       "  <thead>\n",
       "    <tr style=\"text-align: right;\">\n",
       "      <th></th>\n",
       "      <th>uid</th>\n",
       "      <th>country</th>\n",
       "      <th>gender</th>\n",
       "      <th>spent</th>\n",
       "      <th>purchases</th>\n",
       "      <th>date</th>\n",
       "      <th>group</th>\n",
       "      <th>device</th>\n",
       "    </tr>\n",
       "  </thead>\n",
       "  <tbody>\n",
       "    <tr>\n",
       "      <th>0</th>\n",
       "      <td>11115722</td>\n",
       "      <td>MEX</td>\n",
       "      <td>F</td>\n",
       "      <td>1595</td>\n",
       "      <td>5</td>\n",
       "      <td>2016-03-08</td>\n",
       "      <td>GRP B</td>\n",
       "      <td>I</td>\n",
       "    </tr>\n",
       "    <tr>\n",
       "      <th>1</th>\n",
       "      <td>11122053</td>\n",
       "      <td>USA</td>\n",
       "      <td>M</td>\n",
       "      <td>498</td>\n",
       "      <td>2</td>\n",
       "      <td>2017-07-14</td>\n",
       "      <td>GRP B</td>\n",
       "      <td>I</td>\n",
       "    </tr>\n",
       "    <tr>\n",
       "      <th>2</th>\n",
       "      <td>11128688</td>\n",
       "      <td>USA</td>\n",
       "      <td>F</td>\n",
       "      <td>2394</td>\n",
       "      <td>6</td>\n",
       "      <td>2017-09-17</td>\n",
       "      <td>GRP A</td>\n",
       "      <td>I</td>\n",
       "    </tr>\n",
       "    <tr>\n",
       "      <th>3</th>\n",
       "      <td>11130578</td>\n",
       "      <td>USA</td>\n",
       "      <td>F</td>\n",
       "      <td>1197</td>\n",
       "      <td>3</td>\n",
       "      <td>2017-11-30</td>\n",
       "      <td>GRP A</td>\n",
       "      <td>I</td>\n",
       "    </tr>\n",
       "    <tr>\n",
       "      <th>4</th>\n",
       "      <td>11130759</td>\n",
       "      <td>ESP</td>\n",
       "      <td>M</td>\n",
       "      <td>1297</td>\n",
       "      <td>3</td>\n",
       "      <td>2018-01-10</td>\n",
       "      <td>GRP B</td>\n",
       "      <td>A</td>\n",
       "    </tr>\n",
       "  </tbody>\n",
       "</table>\n",
       "</div>"
      ],
      "text/plain": [
       "        uid country gender  spent  purchases        date  group device\n",
       "0  11115722     MEX      F   1595          5  2016-03-08  GRP B      I\n",
       "1  11122053     USA      M    498          2  2017-07-14  GRP B      I\n",
       "2  11128688     USA      F   2394          6  2017-09-17  GRP A      I\n",
       "3  11130578     USA      F   1197          3  2017-11-30  GRP A      I\n",
       "4  11130759     ESP      M   1297          3  2018-01-10  GRP B      A"
      ]
     },
     "execution_count": 104,
     "metadata": {},
     "output_type": "execute_result"
    }
   ],
   "source": [
    "df3.head()"
   ]
  },
  {
   "cell_type": "markdown",
   "id": "76f5ef67",
   "metadata": {},
   "source": [
    "## 3.1 Check Na"
   ]
  },
  {
   "cell_type": "code",
   "execution_count": 105,
   "id": "e19066be",
   "metadata": {
    "ExecuteTime": {
     "end_time": "2023-08-10T10:27:32.403323Z",
     "start_time": "2023-08-10T10:27:32.386941Z"
    }
   },
   "outputs": [
    {
     "data": {
      "text/plain": [
       "uid          0\n",
       "country      0\n",
       "gender       0\n",
       "spent        0\n",
       "purchases    0\n",
       "date         0\n",
       "group        0\n",
       "device       0\n",
       "dtype: int64"
      ]
     },
     "execution_count": 105,
     "metadata": {},
     "output_type": "execute_result"
    }
   ],
   "source": [
    "df3.isna().sum()"
   ]
  },
  {
   "cell_type": "markdown",
   "id": "5a903b03",
   "metadata": {},
   "source": [
    "## 3.2 Check Unidade Experimental (pessoas)"
   ]
  },
  {
   "cell_type": "code",
   "execution_count": 106,
   "id": "9d2874de",
   "metadata": {
    "ExecuteTime": {
     "end_time": "2023-08-10T10:27:32.994531Z",
     "start_time": "2023-08-10T10:27:32.972533Z"
    }
   },
   "outputs": [
    {
     "data": {
      "text/html": [
       "<div>\n",
       "<style scoped>\n",
       "    .dataframe tbody tr th:only-of-type {\n",
       "        vertical-align: middle;\n",
       "    }\n",
       "\n",
       "    .dataframe tbody tr th {\n",
       "        vertical-align: top;\n",
       "    }\n",
       "\n",
       "    .dataframe thead th {\n",
       "        text-align: right;\n",
       "    }\n",
       "</style>\n",
       "<table border=\"1\" class=\"dataframe\">\n",
       "  <thead>\n",
       "    <tr style=\"text-align: right;\">\n",
       "      <th></th>\n",
       "      <th>uid</th>\n",
       "      <th>group</th>\n",
       "    </tr>\n",
       "  </thead>\n",
       "  <tbody>\n",
       "  </tbody>\n",
       "</table>\n",
       "</div>"
      ],
      "text/plain": [
       "Empty DataFrame\n",
       "Columns: [uid, group]\n",
       "Index: []"
      ]
     },
     "execution_count": 106,
     "metadata": {},
     "output_type": "execute_result"
    }
   ],
   "source": [
    "df3[['uid', 'group']].groupby('uid').count().reset_index().query('group > 1')"
   ]
  },
  {
   "cell_type": "markdown",
   "id": "66effce1",
   "metadata": {},
   "source": [
    "Não temos nenhuma pessoa que está em ambos os grupos de controle e tratamento"
   ]
  },
  {
   "cell_type": "markdown",
   "id": "75bbc1f6",
   "metadata": {},
   "source": [
    "## 3.3 Control/Treatment Homogenity"
   ]
  },
  {
   "cell_type": "code",
   "execution_count": 107,
   "id": "c5e7a3a0",
   "metadata": {
    "ExecuteTime": {
     "end_time": "2023-08-10T10:27:34.410040Z",
     "start_time": "2023-08-10T10:27:34.360739Z"
    }
   },
   "outputs": [
    {
     "data": {
      "text/html": [
       "<div>\n",
       "<style scoped>\n",
       "    .dataframe tbody tr th:only-of-type {\n",
       "        vertical-align: middle;\n",
       "    }\n",
       "\n",
       "    .dataframe tbody tr th {\n",
       "        vertical-align: top;\n",
       "    }\n",
       "\n",
       "    .dataframe thead tr th {\n",
       "        text-align: left;\n",
       "    }\n",
       "</style>\n",
       "<table border=\"1\" class=\"dataframe\">\n",
       "  <thead>\n",
       "    <tr>\n",
       "      <th></th>\n",
       "      <th>group</th>\n",
       "      <th>country</th>\n",
       "      <th colspan=\"5\" halign=\"left\">spent</th>\n",
       "      <th>gender</th>\n",
       "      <th colspan=\"4\" halign=\"left\">purchases</th>\n",
       "      <th>device</th>\n",
       "    </tr>\n",
       "    <tr>\n",
       "      <th></th>\n",
       "      <th></th>\n",
       "      <th>count</th>\n",
       "      <th>mean</th>\n",
       "      <th>std</th>\n",
       "      <th>min</th>\n",
       "      <th>max</th>\n",
       "      <th>sum</th>\n",
       "      <th>count</th>\n",
       "      <th>mean</th>\n",
       "      <th>std</th>\n",
       "      <th>min</th>\n",
       "      <th>max</th>\n",
       "      <th>count</th>\n",
       "    </tr>\n",
       "  </thead>\n",
       "  <tbody>\n",
       "    <tr>\n",
       "      <th>0</th>\n",
       "      <td>GRP A</td>\n",
       "      <td>23009</td>\n",
       "      <td>1880.504281</td>\n",
       "      <td>1368.402763</td>\n",
       "      <td>99</td>\n",
       "      <td>11176</td>\n",
       "      <td>43268523</td>\n",
       "      <td>23009</td>\n",
       "      <td>4.536355</td>\n",
       "      <td>3.110742</td>\n",
       "      <td>1</td>\n",
       "      <td>25</td>\n",
       "      <td>23009</td>\n",
       "    </tr>\n",
       "    <tr>\n",
       "      <th>1</th>\n",
       "      <td>GRP B</td>\n",
       "      <td>22874</td>\n",
       "      <td>1886.419822</td>\n",
       "      <td>1359.422437</td>\n",
       "      <td>99</td>\n",
       "      <td>12170</td>\n",
       "      <td>43149967</td>\n",
       "      <td>22874</td>\n",
       "      <td>4.552461</td>\n",
       "      <td>3.094142</td>\n",
       "      <td>1</td>\n",
       "      <td>30</td>\n",
       "      <td>22874</td>\n",
       "    </tr>\n",
       "  </tbody>\n",
       "</table>\n",
       "</div>"
      ],
      "text/plain": [
       "   group country        spent                                   gender  \\\n",
       "           count         mean          std min    max       sum  count   \n",
       "0  GRP A   23009  1880.504281  1368.402763  99  11176  43268523  23009   \n",
       "1  GRP B   22874  1886.419822  1359.422437  99  12170  43149967  22874   \n",
       "\n",
       "  purchases                   device  \n",
       "       mean       std min max  count  \n",
       "0  4.536355  3.110742   1  25  23009  \n",
       "1  4.552461  3.094142   1  30  22874  "
      ]
     },
     "execution_count": 107,
     "metadata": {},
     "output_type": "execute_result"
    }
   ],
   "source": [
    "df3[['group', 'gender', 'purchases', 'device','spent','country']].groupby('group').agg({\n",
    "                                                            'country':'count',\n",
    "                                                            'spent':['mean', 'std', 'min', 'max','sum'],\n",
    "                                                            'gender':'count',\n",
    "                                                            'purchases':['mean', 'std', 'min', 'max'],\n",
    "                                                            'device':'count'\n",
    "                                                            \n",
    "}).reset_index()"
   ]
  },
  {
   "cell_type": "markdown",
   "id": "34c2fbbd",
   "metadata": {},
   "source": [
    "Ambos os grupos tem valores próximos em relação a maioria das métricas, o que é fundamental para garantiar a homogeneidade na hora do teste"
   ]
  },
  {
   "cell_type": "markdown",
   "id": "227173e0",
   "metadata": {},
   "source": [
    "# 4.0 Testes de Hipóteses"
   ]
  },
  {
   "cell_type": "markdown",
   "id": "2aad4c41",
   "metadata": {},
   "source": [
    "## 4.1 Separar Grupos para Iniciar o Teste"
   ]
  },
  {
   "cell_type": "code",
   "execution_count": 108,
   "id": "8126fbd1",
   "metadata": {
    "ExecuteTime": {
     "end_time": "2023-08-10T10:27:36.197388Z",
     "start_time": "2023-08-10T10:27:36.174226Z"
    }
   },
   "outputs": [],
   "source": [
    "sample_A = df3.loc[df2['group'] == 'GRP A','spent'].sample(n=sample_size, random_state=42)\n",
    "sample_B = df3.loc[df2['group'] == 'GRP B','spent'].sample(n=sample_size, random_state=42)"
   ]
  },
  {
   "cell_type": "markdown",
   "id": "1b9d76b7",
   "metadata": {},
   "source": [
    "## 4.2 Inferência Estatística"
   ]
  },
  {
   "cell_type": "code",
   "execution_count": 109,
   "id": "881e3f5b",
   "metadata": {
    "ExecuteTime": {
     "end_time": "2023-08-10T10:27:37.414198Z",
     "start_time": "2023-08-10T10:27:37.398044Z"
    }
   },
   "outputs": [
    {
     "name": "stdout",
     "output_type": "stream",
     "text": [
      "p-value: 0.5240747499077292\n"
     ]
    }
   ],
   "source": [
    "t_test, p_value = ttest_ind(sample_A, sample_B)\n",
    "print(f'p-value: {p_value}')"
   ]
  },
  {
   "cell_type": "markdown",
   "id": "34a65df2",
   "metadata": {},
   "source": [
    "# 5.0 Conclusão"
   ]
  },
  {
   "cell_type": "code",
   "execution_count": 110,
   "id": "b76a5162",
   "metadata": {
    "ExecuteTime": {
     "end_time": "2023-08-10T10:27:40.831828Z",
     "start_time": "2023-08-10T10:27:40.824228Z"
    }
   },
   "outputs": [
    {
     "name": "stdout",
     "output_type": "stream",
     "text": [
      "Falha em rejeitar a hipótese nula\n"
     ]
    }
   ],
   "source": [
    "significance_level = 0.05\n",
    "if p_value < significance_level:\n",
    "    print('Rejeita Hipótese Nula')\n",
    "else:\n",
    "    print('Falha em rejeitar a hipótese nula')"
   ]
  },
  {
   "cell_type": "markdown",
   "id": "5b5ec64f",
   "metadata": {},
   "source": [
    "Temos que o p-valor para esse teste é cerca de 7%. Isso indica que a probilidade de não existir nenhum tipo de efeito ná página nova é muito baixa, menor que meu nível de significancia.\n",
    "\n",
    "Portanto podemos assumir que existe evidências suficientes para Rejeitar a hipótese nula e concluir que **há um efeito considerável em os consumidores possuírem o preenchimento automático na hora do pagamento.**"
   ]
  },
  {
   "cell_type": "markdown",
   "id": "c4194daa",
   "metadata": {},
   "source": [
    "# 6.0 Performance de Negócio"
   ]
  },
  {
   "cell_type": "code",
   "execution_count": 99,
   "id": "aa080ed5",
   "metadata": {
    "ExecuteTime": {
     "end_time": "2023-08-10T10:19:56.274862Z",
     "start_time": "2023-08-10T10:19:56.252271Z"
    }
   },
   "outputs": [
    {
     "name": "stdout",
     "output_type": "stream",
     "text": [
      "O faturamento total com a página Antiga: R$ 86.418.490,00\n",
      "O faturamento total com a página Nova: R$ 95.060.339,00\n",
      "Aumento de R$ 8.641.849,00\n"
     ]
    }
   ],
   "source": [
    "import locale\n",
    "\n",
    "locale.setlocale(locale.LC_ALL, 'pt_BR.UTF-8')\n",
    "\n",
    "#Current GMV\n",
    "gmv = df3['spent'].sum()\n",
    "\n",
    "#Expected GMV\n",
    "future_gmv = gmv*1.10\n",
    "\n",
    "#Diference\n",
    "diff_gmv = future_gmv - gmv\n",
    "\n",
    "#Transformar para Brazilian Real\n",
    "gmv = locale.currency(gmv, grouping=True)\n",
    "future_gmv = locale.currency(future_gmv, grouping=True)\n",
    "diff_gmv = locale.currency(diff_gmv, grouping=True)\n",
    "\n",
    "\n",
    "print(f'O faturamento total com a página Antiga: {gmv}')\n",
    "print(f'O faturamento total com a página Nova: {future_gmv}')\n",
    "\n",
    "print(f'Aumento de {diff_gmv}')"
   ]
  },
  {
   "cell_type": "markdown",
   "id": "28fe270f",
   "metadata": {
    "ExecuteTime": {
     "end_time": "2023-08-10T10:03:49.145499Z",
     "start_time": "2023-08-10T10:03:49.130487Z"
    }
   },
   "source": [
    "--- \n",
    "\n",
    "# Performance de Negócio\n",
    "\n",
    "Podemos concluir que utilizando a nova página com preechimento automática, o faturamento esperado da empresa irá aumentar em cerca de R$ 8.641.849,00"
   ]
  },
  {
   "cell_type": "code",
   "execution_count": null,
   "id": "dc4f3fe7",
   "metadata": {},
   "outputs": [],
   "source": []
  },
  {
   "cell_type": "code",
   "execution_count": null,
   "id": "7cb2e90c",
   "metadata": {},
   "outputs": [],
   "source": []
  },
  {
   "cell_type": "code",
   "execution_count": null,
   "id": "3fdeb6c0",
   "metadata": {},
   "outputs": [],
   "source": []
  },
  {
   "cell_type": "code",
   "execution_count": null,
   "id": "ffd392d3",
   "metadata": {},
   "outputs": [],
   "source": []
  },
  {
   "cell_type": "code",
   "execution_count": null,
   "id": "f5dad49b",
   "metadata": {},
   "outputs": [],
   "source": []
  }
 ],
 "metadata": {
  "kernelspec": {
   "display_name": "Python 3 (ipykernel)",
   "language": "python",
   "name": "python3"
  },
  "language_info": {
   "codemirror_mode": {
    "name": "ipython",
    "version": 3
   },
   "file_extension": ".py",
   "mimetype": "text/x-python",
   "name": "python",
   "nbconvert_exporter": "python",
   "pygments_lexer": "ipython3",
   "version": "3.10.12"
  }
 },
 "nbformat": 4,
 "nbformat_minor": 5
}
