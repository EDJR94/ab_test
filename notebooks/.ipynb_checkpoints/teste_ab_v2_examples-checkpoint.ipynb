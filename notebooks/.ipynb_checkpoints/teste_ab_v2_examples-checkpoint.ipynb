{
 "cells": [
  {
   "cell_type": "markdown",
   "id": "6c43fc24",
   "metadata": {},
   "source": [
    "# 0.0 Imports"
   ]
  },
  {
   "cell_type": "code",
   "execution_count": 40,
   "id": "7a740ac5",
   "metadata": {
    "ExecuteTime": {
     "end_time": "2023-08-08T23:15:57.343583Z",
     "start_time": "2023-08-08T23:15:57.327343Z"
    }
   },
   "outputs": [],
   "source": [
    "import pandas as pd\n",
    "import numpy as np\n",
    "import math\n",
    "\n",
    "from statsmodels.stats import api as sms\n",
    "from scipy.stats import shapiro, ttest_ind, mannwhitneyu, f_oneway\n",
    "from statsmodels.stats.multicomp import pairwise_tukeyhsd"
   ]
  },
  {
   "cell_type": "markdown",
   "id": "421bc555",
   "metadata": {},
   "source": [
    "## 0.1 Loading"
   ]
  },
  {
   "cell_type": "code",
   "execution_count": 9,
   "id": "af53a893",
   "metadata": {
    "ExecuteTime": {
     "end_time": "2023-08-08T23:04:41.682899Z",
     "start_time": "2023-08-08T23:04:41.421836Z"
    }
   },
   "outputs": [],
   "source": [
    "path = 'C:/Users/edils/repos/teste_ab/data/'\n",
    "\n",
    "df_raw = pd.read_csv(path + 'ab_data.csv')"
   ]
  },
  {
   "cell_type": "code",
   "execution_count": 10,
   "id": "d28d78d7",
   "metadata": {
    "ExecuteTime": {
     "end_time": "2023-08-08T23:04:41.713709Z",
     "start_time": "2023-08-08T23:04:41.685566Z"
    }
   },
   "outputs": [
    {
     "data": {
      "text/html": [
       "<div>\n",
       "<style scoped>\n",
       "    .dataframe tbody tr th:only-of-type {\n",
       "        vertical-align: middle;\n",
       "    }\n",
       "\n",
       "    .dataframe tbody tr th {\n",
       "        vertical-align: top;\n",
       "    }\n",
       "\n",
       "    .dataframe thead th {\n",
       "        text-align: right;\n",
       "    }\n",
       "</style>\n",
       "<table border=\"1\" class=\"dataframe\">\n",
       "  <thead>\n",
       "    <tr style=\"text-align: right;\">\n",
       "      <th></th>\n",
       "      <th>user_id</th>\n",
       "      <th>timestamp</th>\n",
       "      <th>group</th>\n",
       "      <th>landing_page</th>\n",
       "      <th>converted</th>\n",
       "    </tr>\n",
       "  </thead>\n",
       "  <tbody>\n",
       "    <tr>\n",
       "      <th>0</th>\n",
       "      <td>851104</td>\n",
       "      <td>2017-01-21 22:11:48.556739</td>\n",
       "      <td>control</td>\n",
       "      <td>old_page</td>\n",
       "      <td>0</td>\n",
       "    </tr>\n",
       "    <tr>\n",
       "      <th>1</th>\n",
       "      <td>804228</td>\n",
       "      <td>2017-01-12 08:01:45.159739</td>\n",
       "      <td>control</td>\n",
       "      <td>old_page</td>\n",
       "      <td>0</td>\n",
       "    </tr>\n",
       "    <tr>\n",
       "      <th>2</th>\n",
       "      <td>661590</td>\n",
       "      <td>2017-01-11 16:55:06.154213</td>\n",
       "      <td>treatment</td>\n",
       "      <td>new_page</td>\n",
       "      <td>0</td>\n",
       "    </tr>\n",
       "    <tr>\n",
       "      <th>3</th>\n",
       "      <td>853541</td>\n",
       "      <td>2017-01-08 18:28:03.143765</td>\n",
       "      <td>treatment</td>\n",
       "      <td>new_page</td>\n",
       "      <td>0</td>\n",
       "    </tr>\n",
       "    <tr>\n",
       "      <th>4</th>\n",
       "      <td>864975</td>\n",
       "      <td>2017-01-21 01:52:26.210827</td>\n",
       "      <td>control</td>\n",
       "      <td>old_page</td>\n",
       "      <td>1</td>\n",
       "    </tr>\n",
       "  </tbody>\n",
       "</table>\n",
       "</div>"
      ],
      "text/plain": [
       "   user_id                   timestamp      group landing_page  converted\n",
       "0   851104  2017-01-21 22:11:48.556739    control     old_page          0\n",
       "1   804228  2017-01-12 08:01:45.159739    control     old_page          0\n",
       "2   661590  2017-01-11 16:55:06.154213  treatment     new_page          0\n",
       "3   853541  2017-01-08 18:28:03.143765  treatment     new_page          0\n",
       "4   864975  2017-01-21 01:52:26.210827    control     old_page          1"
      ]
     },
     "execution_count": 10,
     "metadata": {},
     "output_type": "execute_result"
    }
   ],
   "source": [
    "df_raw.head()"
   ]
  },
  {
   "cell_type": "markdown",
   "id": "8085782d",
   "metadata": {},
   "source": [
    "# 1.0 Parametros do Experimento"
   ]
  },
  {
   "cell_type": "code",
   "execution_count": 11,
   "id": "0c523861",
   "metadata": {
    "ExecuteTime": {
     "end_time": "2023-08-08T23:04:41.729722Z",
     "start_time": "2023-08-08T23:04:41.715706Z"
    }
   },
   "outputs": [],
   "source": [
    "#nivel de confiança\n",
    "confidence_level = 0.95\n",
    "\n",
    "#nivel de significancia\n",
    "significance_level = 0.05\n",
    "\n",
    "#conversoes da pagina atual e nova\n",
    "p1 = 0.13\n",
    "p2 = 0.15\n",
    "\n",
    "#tamanho do efeito\n",
    "effect_size = sms.proportion_effectsize(p1, p2)\n",
    "\n",
    "#poder Estatistico\n",
    "power = 0.80"
   ]
  },
  {
   "cell_type": "code",
   "execution_count": 12,
   "id": "17625344",
   "metadata": {
    "ExecuteTime": {
     "end_time": "2023-08-08T23:04:41.745149Z",
     "start_time": "2023-08-08T23:04:41.731717Z"
    }
   },
   "outputs": [],
   "source": [
    "sample_n = sms.NormalIndPower().solve_power(\n",
    "            effect_size,\n",
    "            power=power,\n",
    "            alpha=significance_level\n",
    ")\n",
    "\n",
    "sample_n = math.ceil(sample_n)"
   ]
  },
  {
   "cell_type": "code",
   "execution_count": 13,
   "id": "8816d41b",
   "metadata": {
    "ExecuteTime": {
     "end_time": "2023-08-08T23:04:41.760929Z",
     "start_time": "2023-08-08T23:04:41.746656Z"
    }
   },
   "outputs": [
    {
     "name": "stdout",
     "output_type": "stream",
     "text": [
      "O tamanho total da amostra é: 9440\n",
      "O tamanho da amostra do grupo de controle é: 4720\n",
      "O tamanho da amostra do grupo de tratamento é: 4720\n"
     ]
    }
   ],
   "source": [
    "print(f\"O tamanho total da amostra é: {2*sample_n}\")\n",
    "print(f\"O tamanho da amostra do grupo de controle é: {sample_n}\")\n",
    "print(f\"O tamanho da amostra do grupo de tratamento é: {sample_n}\")"
   ]
  },
  {
   "cell_type": "markdown",
   "id": "226e8a9f",
   "metadata": {},
   "source": [
    "# 2.0 Análise Descritiva"
   ]
  },
  {
   "cell_type": "code",
   "execution_count": 14,
   "id": "cf10d3f7",
   "metadata": {
    "ExecuteTime": {
     "end_time": "2023-08-08T23:04:41.776499Z",
     "start_time": "2023-08-08T23:04:41.762922Z"
    }
   },
   "outputs": [],
   "source": [
    "df2 = df_raw.copy()"
   ]
  },
  {
   "cell_type": "markdown",
   "id": "24bc4bec",
   "metadata": {},
   "source": [
    "## 2.1 Tamanho"
   ]
  },
  {
   "cell_type": "code",
   "execution_count": 15,
   "id": "04c49622",
   "metadata": {
    "ExecuteTime": {
     "end_time": "2023-08-08T23:04:41.791629Z",
     "start_time": "2023-08-08T23:04:41.778694Z"
    }
   },
   "outputs": [
    {
     "data": {
      "text/plain": [
       "(294478, 5)"
      ]
     },
     "execution_count": 15,
     "metadata": {},
     "output_type": "execute_result"
    }
   ],
   "source": [
    "df2.shape"
   ]
  },
  {
   "cell_type": "markdown",
   "id": "16f04160",
   "metadata": {},
   "source": [
    "## 2.2 Check Na"
   ]
  },
  {
   "cell_type": "code",
   "execution_count": 16,
   "id": "53a3ab1f",
   "metadata": {
    "ExecuteTime": {
     "end_time": "2023-08-08T23:04:41.822447Z",
     "start_time": "2023-08-08T23:04:41.792593Z"
    }
   },
   "outputs": [
    {
     "data": {
      "text/plain": [
       "user_id         0\n",
       "timestamp       0\n",
       "group           0\n",
       "landing_page    0\n",
       "converted       0\n",
       "dtype: int64"
      ]
     },
     "execution_count": 16,
     "metadata": {},
     "output_type": "execute_result"
    }
   ],
   "source": [
    "df2.isna().sum()"
   ]
  },
  {
   "cell_type": "markdown",
   "id": "6eb253f1",
   "metadata": {},
   "source": [
    "## 2.3 Flags"
   ]
  },
  {
   "cell_type": "code",
   "execution_count": 17,
   "id": "95205347",
   "metadata": {
    "ExecuteTime": {
     "end_time": "2023-08-08T23:04:42.040704Z",
     "start_time": "2023-08-08T23:04:41.825400Z"
    }
   },
   "outputs": [
    {
     "data": {
      "text/html": [
       "<div>\n",
       "<style scoped>\n",
       "    .dataframe tbody tr th:only-of-type {\n",
       "        vertical-align: middle;\n",
       "    }\n",
       "\n",
       "    .dataframe tbody tr th {\n",
       "        vertical-align: top;\n",
       "    }\n",
       "\n",
       "    .dataframe thead th {\n",
       "        text-align: right;\n",
       "    }\n",
       "</style>\n",
       "<table border=\"1\" class=\"dataframe\">\n",
       "  <thead>\n",
       "    <tr style=\"text-align: right;\">\n",
       "      <th></th>\n",
       "      <th>user_id</th>\n",
       "      <th>landing_page</th>\n",
       "      <th>group</th>\n",
       "    </tr>\n",
       "  </thead>\n",
       "  <tbody>\n",
       "    <tr>\n",
       "      <th>0</th>\n",
       "      <td>630052</td>\n",
       "      <td>2</td>\n",
       "      <td>1</td>\n",
       "    </tr>\n",
       "    <tr>\n",
       "      <th>1</th>\n",
       "      <td>630126</td>\n",
       "      <td>2</td>\n",
       "      <td>1</td>\n",
       "    </tr>\n",
       "    <tr>\n",
       "      <th>2</th>\n",
       "      <td>630137</td>\n",
       "      <td>2</td>\n",
       "      <td>1</td>\n",
       "    </tr>\n",
       "    <tr>\n",
       "      <th>3</th>\n",
       "      <td>630320</td>\n",
       "      <td>1</td>\n",
       "      <td>2</td>\n",
       "    </tr>\n",
       "    <tr>\n",
       "      <th>4</th>\n",
       "      <td>630471</td>\n",
       "      <td>2</td>\n",
       "      <td>1</td>\n",
       "    </tr>\n",
       "    <tr>\n",
       "      <th>...</th>\n",
       "      <td>...</td>\n",
       "      <td>...</td>\n",
       "      <td>...</td>\n",
       "    </tr>\n",
       "    <tr>\n",
       "      <th>3888</th>\n",
       "      <td>945627</td>\n",
       "      <td>1</td>\n",
       "      <td>2</td>\n",
       "    </tr>\n",
       "    <tr>\n",
       "      <th>3889</th>\n",
       "      <td>945645</td>\n",
       "      <td>2</td>\n",
       "      <td>1</td>\n",
       "    </tr>\n",
       "    <tr>\n",
       "      <th>3890</th>\n",
       "      <td>945703</td>\n",
       "      <td>2</td>\n",
       "      <td>1</td>\n",
       "    </tr>\n",
       "    <tr>\n",
       "      <th>3891</th>\n",
       "      <td>945797</td>\n",
       "      <td>2</td>\n",
       "      <td>1</td>\n",
       "    </tr>\n",
       "    <tr>\n",
       "      <th>3892</th>\n",
       "      <td>945971</td>\n",
       "      <td>2</td>\n",
       "      <td>1</td>\n",
       "    </tr>\n",
       "  </tbody>\n",
       "</table>\n",
       "<p>3893 rows × 3 columns</p>\n",
       "</div>"
      ],
      "text/plain": [
       "      user_id  landing_page  group\n",
       "0      630052             2      1\n",
       "1      630126             2      1\n",
       "2      630137             2      1\n",
       "3      630320             1      2\n",
       "4      630471             2      1\n",
       "...       ...           ...    ...\n",
       "3888   945627             1      2\n",
       "3889   945645             2      1\n",
       "3890   945703             2      1\n",
       "3891   945797             2      1\n",
       "3892   945971             2      1\n",
       "\n",
       "[3893 rows x 3 columns]"
      ]
     },
     "execution_count": 17,
     "metadata": {},
     "output_type": "execute_result"
    }
   ],
   "source": [
    "#Check for duplicates\n",
    "df2.loc[:,['user_id','landing_page','group']].groupby(['user_id']).nunique().query('landing_page > 1 or group > 1').reset_index()"
   ]
  },
  {
   "cell_type": "code",
   "execution_count": 18,
   "id": "01821a84",
   "metadata": {
    "ExecuteTime": {
     "end_time": "2023-08-08T23:04:42.275941Z",
     "start_time": "2023-08-08T23:04:42.042329Z"
    }
   },
   "outputs": [],
   "source": [
    "# Divide duplicate users based on group and landing_page\n",
    "df_query1 = df2.loc[:, ['user_id', 'group', 'landing_page']].groupby('user_id').nunique().query('landing_page > 1 or group > 1').reset_index()\n",
    "\n",
    "# Filter only non_duplicate_users\n",
    "df3 = df2[~df2['user_id'].isin(df_query1['user_id'])]"
   ]
  },
  {
   "cell_type": "code",
   "execution_count": 19,
   "id": "4c3ae9ac",
   "metadata": {
    "ExecuteTime": {
     "end_time": "2023-08-08T23:04:42.292060Z",
     "start_time": "2023-08-08T23:04:42.277952Z"
    }
   },
   "outputs": [
    {
     "data": {
      "text/plain": [
       "(286692, 5)"
      ]
     },
     "execution_count": 19,
     "metadata": {},
     "output_type": "execute_result"
    }
   ],
   "source": [
    "df3.shape"
   ]
  },
  {
   "cell_type": "markdown",
   "id": "cacfd0f9",
   "metadata": {},
   "source": [
    "# 3.0 Amostragem Aleatoria dos grupos de Controle e Tratamento"
   ]
  },
  {
   "cell_type": "code",
   "execution_count": 20,
   "id": "df859958",
   "metadata": {
    "ExecuteTime": {
     "end_time": "2023-08-08T23:04:42.400949Z",
     "start_time": "2023-08-08T23:04:42.297774Z"
    }
   },
   "outputs": [
    {
     "name": "stdout",
     "output_type": "stream",
     "text": [
      "Size of Control: 4720\n",
      "Size of Treatment: 4720\n"
     ]
    }
   ],
   "source": [
    "df_control = df3.loc[df3['group'] == 'control',:].sample(sample_n, random_state=42)\n",
    "\n",
    "df_treatment = df3.loc[df3['group'] == 'treatment',:].sample(sample_n, random_state=42)\n",
    "\n",
    "print(f'Size of Control: {df_control.shape[0]}')\n",
    "print(f'Size of Treatment: {df_control.shape[0]}')"
   ]
  },
  {
   "cell_type": "markdown",
   "id": "676ac69b",
   "metadata": {},
   "source": [
    "## 3.1 Cálculo da métrica de interesse entre os grupos(Conversão de cada página)"
   ]
  },
  {
   "cell_type": "code",
   "execution_count": 21,
   "id": "e40cc497",
   "metadata": {
    "ExecuteTime": {
     "end_time": "2023-08-08T23:04:42.416942Z",
     "start_time": "2023-08-08T23:04:42.402908Z"
    }
   },
   "outputs": [
    {
     "name": "stdout",
     "output_type": "stream",
     "text": [
      "Conversion rate - Control Group: 0.11546610169491525\n",
      "Conversion rate - Treament Group: 0.11313559322033899\n"
     ]
    }
   ],
   "source": [
    "#Control Group\n",
    "control_buyers = df_control['converted'].sum()\n",
    "\n",
    "control_visitors = len(df_control)\n",
    "\n",
    "print(f\"Conversion rate - Control Group: {control_buyers/control_visitors}\" )\n",
    "  \n",
    "#Treatment Group      \n",
    "treatment_buyers = df_treatment['converted'].sum()\n",
    "\n",
    "treatment_visitors = len(df_treatment)\n",
    "\n",
    "print(f\"Conversion rate - Treament Group: {treatment_buyers/treatment_visitors}\" )      "
   ]
  },
  {
   "cell_type": "markdown",
   "id": "f7c6564d",
   "metadata": {
    "ExecuteTime": {
     "end_time": "2023-08-02T10:24:03.397568Z",
     "start_time": "2023-08-02T10:24:03.389729Z"
    }
   },
   "source": [
    "# 4.0 Teste Estatisticos"
   ]
  },
  {
   "cell_type": "markdown",
   "id": "7f85bd82",
   "metadata": {},
   "source": [
    "## One Sample T-Test"
   ]
  },
  {
   "cell_type": "code",
   "execution_count": 22,
   "id": "4f9b4041",
   "metadata": {
    "ExecuteTime": {
     "end_time": "2023-08-08T23:04:42.432187Z",
     "start_time": "2023-08-08T23:04:42.418545Z"
    }
   },
   "outputs": [],
   "source": [
    "from scipy.stats import ttest_1samp"
   ]
  },
  {
   "cell_type": "code",
   "execution_count": 23,
   "id": "e7a4e378",
   "metadata": {
    "ExecuteTime": {
     "end_time": "2023-08-08T23:04:42.447505Z",
     "start_time": "2023-08-08T23:04:42.434161Z"
    }
   },
   "outputs": [],
   "source": [
    "df = [14,14,16,13,12,17,15,14,15,13,15,14]\n",
    "\n",
    "# Ho: u = 15 (A Altura medias das especies das plantas é, de fato, 15cm)\n",
    "# H1: u <> 15 (A Altura medias das especies das plantas é diferente de 15cm)"
   ]
  },
  {
   "cell_type": "code",
   "execution_count": 24,
   "id": "08eeecd4",
   "metadata": {
    "ExecuteTime": {
     "end_time": "2023-08-08T23:04:42.463507Z",
     "start_time": "2023-08-08T23:04:42.449532Z"
    }
   },
   "outputs": [
    {
     "data": {
      "text/plain": [
       "14.333333333333334"
      ]
     },
     "execution_count": 24,
     "metadata": {},
     "output_type": "execute_result"
    }
   ],
   "source": [
    "np.mean(df)"
   ]
  },
  {
   "cell_type": "code",
   "execution_count": 25,
   "id": "c3e57acc",
   "metadata": {
    "ExecuteTime": {
     "end_time": "2023-08-08T23:04:42.478986Z",
     "start_time": "2023-08-08T23:04:42.465537Z"
    }
   },
   "outputs": [
    {
     "name": "stdout",
     "output_type": "stream",
     "text": [
      "p-value: 0.12014460742498101\n",
      "Falha em rejeitar a hipótese nula\n"
     ]
    }
   ],
   "source": [
    "statstic, pvalue = ttest_1samp(df, popmean=15)\n",
    "print(f'p-value: {pvalue}')\n",
    "\n",
    "alpha = 0.05 #Nivel de significancia\n",
    "\n",
    "if pvalue < alpha:\n",
    "    print('Rejeita a Hipótese Nula')\n",
    "else:\n",
    "    print('Falha em rejeitar a hipótese nula')\n",
    "    \n",
    "# Se p-value for < alpha rejeita-se a Ho.\n",
    "# Ou seja, a altura media das plantas é diferente de 15 cm\n",
    "\n",
    "# Se p-value for > alpha, não existe evidencia suficiente para se rejeitar Ho.\n",
    "# Ou seja, as plantas podem ter em média 15 cm"
   ]
  },
  {
   "cell_type": "markdown",
   "id": "ed936fa8",
   "metadata": {},
   "source": [
    "Imagine que você é um detetive e está investigando se um dado está viciado. A sua hipótese nula é que o dado não está viciado, ou seja, é justo. A hipótese alternativa é que o dado está viciado de alguma forma.\n",
    "\n",
    "Agora, você decide fazer um teste usando esse dado. Você lança o dado várias vezes e anota os resultados. Com base nesses resultados, você calcula algo chamado \"p-valor\". **O p-valor é como uma medida que indica a probabilidade de obter os resultados que você viu, assumindo que o dado é justo (hipótese nula é verdadeira).**\n",
    "\n",
    "Aqui entra a parte do \"alpha\". O alpha é um valor que você escolhe antes de fazer o teste. É como uma linha de corte que você define para decidir se tem evidência suficiente para rejeitar a hipótese nula. É como se fosse o limite de suspeita que você está disposto a aceitar. Geralmente, o valor de alpha é fixado em 0.05 (ou 5%).\n",
    "\n",
    "Agora, você compara o p-valor que calculou com o valor de alpha. Se o p-valor for menor que o alpha, isso significa que os resultados que você viu são tão extremos que seria muito improvável que ocorressem se o dado fosse justo. Em outras palavras, você tem evidências fortes o suficiente para duvidar da hipótese nula e pode rejeitá-la.\n",
    "\n",
    "Por exemplo, se você calculou um p-valor de 0.03 e seu alpha é 0.05, o p-valor é menor que o alpha, então você rejeita a hipótese nula e diz: \"Com base nos meus resultados, o dado parece estar viciado de alguma forma\".\n",
    "\n",
    "No entanto, se o p-valor for maior que o alpha, você não tem evidências suficientes para rejeitar a hipótese nula. Nesse caso, você não pode afirmar com confiança que o dado está viciado."
   ]
  },
  {
   "cell_type": "code",
   "execution_count": null,
   "id": "5774b707",
   "metadata": {},
   "outputs": [],
   "source": []
  },
  {
   "cell_type": "markdown",
   "id": "9f0fb9b5",
   "metadata": {},
   "source": [
    "## Two Sample T-Test(Condições paramétricas satisfeitas)"
   ]
  },
  {
   "cell_type": "code",
   "execution_count": 26,
   "id": "13a77552",
   "metadata": {
    "ExecuteTime": {
     "end_time": "2023-08-08T23:04:42.494905Z",
     "start_time": "2023-08-08T23:04:42.480981Z"
    }
   },
   "outputs": [
    {
     "name": "stdout",
     "output_type": "stream",
     "text": [
      "15.15\n",
      "15.8\n"
     ]
    }
   ],
   "source": [
    "df1 = np.array([14,15,15,16,13,8,14,17,16,14,19,20,21,15,15,16,16,13,14,12])\n",
    "df2 = np.array([15,17,14,17,14,8,12,19,19,14,17,22,24,16,13,16,13,18,15,13])\n",
    "\n",
    "#Ho: u1 = u2 (A altura media das especies dos grupos sao iguais)\n",
    "#Ho: u1 <> u2 (A altura media das especies dos grupos sao diferentes)\n",
    "\n",
    "print(np.mean(df1))\n",
    "print(np.mean(df2))"
   ]
  },
  {
   "cell_type": "code",
   "execution_count": 27,
   "id": "0389d768",
   "metadata": {
    "ExecuteTime": {
     "end_time": "2023-08-08T23:04:42.510486Z",
     "start_time": "2023-08-08T23:04:42.496902Z"
    }
   },
   "outputs": [
    {
     "name": "stdout",
     "output_type": "stream",
     "text": [
      "como o p-value é 0.2267739325761795, ou seja, maior que meu alpha, a distruibuição é normal\n",
      "como o p-value é 0.6782065033912659, ou seja, maior que meu alpha, a distruibuição é normal\n",
      "Var 1: 7.727500000000001\n",
      "Var 2: 12.260000000000002\n",
      "p-value: 0.5300471010405257\n",
      "Falha em rejeitar a hipótese nula\n"
     ]
    }
   ],
   "source": [
    "# Condições Paramétricas\n",
    "# 1. Amostras independentes\n",
    "# 2. Normalmente distruibuídos\n",
    "\n",
    "## Teste de normalidade - Shapiro - OK\n",
    "#Ho: Distribuição Normal\n",
    "#H1: Distribuição Não normal\n",
    "\n",
    "#p-value < alpha (0.05) -> Rejeito a hipotese nula\n",
    "\n",
    "#p-value > alpha (0.05) -> Falha em rejeitar a hipotese nula\n",
    "\n",
    "stats1, pvalue1 = shapiro(df1)\n",
    "print(f'como o p-value é {pvalue1}, ou seja, maior que meu alpha, a distruibuição é normal')\n",
    "\n",
    "stats2, pvalue2 = shapiro(df2)\n",
    "print(f'como o p-value é {pvalue2}, ou seja, maior que meu alpha, a distruibuição é normal')\n",
    "\n",
    "#2. Variancias iguais - OK\n",
    "print(f'Var 1: {np.var(df1)}')\n",
    "print(f'Var 2: {np.var(df2)}')\n",
    "\n",
    "stats, pvalue = ttest_ind(df1, df2, equal_var=True)\n",
    "\n",
    "print(f'p-value: {pvalue}')\n",
    "\n",
    "alpha = 0.05\n",
    "if pvalue < alpha:\n",
    "    print('Rejeita a hipótese nula')\n",
    "    \n",
    "else:\n",
    "    print('Falha em rejeitar a hipótese nula')"
   ]
  },
  {
   "cell_type": "code",
   "execution_count": 28,
   "id": "69d880dd",
   "metadata": {
    "ExecuteTime": {
     "end_time": "2023-08-08T23:04:42.525664Z",
     "start_time": "2023-08-08T23:04:42.512469Z"
    }
   },
   "outputs": [
    {
     "ename": "SyntaxError",
     "evalue": "illegal target for annotation (2650759407.py, line 1)",
     "output_type": "error",
     "traceback": [
      "\u001b[1;36m  Cell \u001b[1;32mIn[28], line 1\u001b[1;36m\u001b[0m\n\u001b[1;33m    12/7  < 4 : Amostrar tem variância igual\u001b[0m\n\u001b[1;37m    ^\u001b[0m\n\u001b[1;31mSyntaxError\u001b[0m\u001b[1;31m:\u001b[0m illegal target for annotation\n"
     ]
    }
   ],
   "source": [
    "12/7  < 4 : Amostrar tem variância igual"
   ]
  },
  {
   "cell_type": "markdown",
   "id": "b5a98860",
   "metadata": {},
   "source": [
    "## Mann-Whitney(Condições paramétricas Não - satisfeitas)"
   ]
  },
  {
   "cell_type": "code",
   "execution_count": null,
   "id": "5f207643",
   "metadata": {
    "ExecuteTime": {
     "end_time": "2023-08-08T23:04:42.527774Z",
     "start_time": "2023-08-08T23:04:42.527774Z"
    }
   },
   "outputs": [],
   "source": [
    "df1 = [20,23,21,20,18,17,18,14,20,24,43,19]\n",
    "df2 = [24,25,21,22,23,18,17,28,24,27,21,23]"
   ]
  },
  {
   "cell_type": "code",
   "execution_count": null,
   "id": "efcf8c35",
   "metadata": {
    "ExecuteTime": {
     "end_time": "2023-08-08T23:04:42.528779Z",
     "start_time": "2023-08-08T23:04:42.528779Z"
    }
   },
   "outputs": [],
   "source": [
    "#Ho: u1 = u2 (A altura media das especies dos grupos sao iguais)\n",
    "#Ho: u1 <> u2 (A altura media das especies dos grupos sao diferentes)"
   ]
  },
  {
   "cell_type": "code",
   "execution_count": null,
   "id": "02a6942c",
   "metadata": {
    "ExecuteTime": {
     "end_time": "2023-08-08T23:04:42.530242Z",
     "start_time": "2023-08-08T23:04:42.530242Z"
    }
   },
   "outputs": [],
   "source": [
    "## Teste de normalidade - Shapiro - NÃO SATISFEITO\n",
    "#Ho: Distribuição Normal\n",
    "#H1: Distribuição Não normal\n",
    "\n",
    "#p-value < alpha (0.05) -> Rejeito a hipotese nula\n",
    "\n",
    "#p-value > alpha (0.05) -> Falha em rejeitar a hipotese nula\n",
    "\n",
    "stats1, pvalue1 = shapiro(df1)\n",
    "print(f'como o p-value é {pvalue1}, ou seja, maior que meu alpha, a distruibuição é normal')\n",
    "\n",
    "stats2, pvalue2 = shapiro(df2)\n",
    "print(f'como o p-value é {pvalue2}, ou seja, maior que meu alpha, a distruibuição é normal')\n",
    "\n",
    "#2. Variancias iguais - OK\n",
    "print(f'Var 1: {np.var(df1)}')\n",
    "print(f'Var 2: {np.var(df2)}')"
   ]
  },
  {
   "cell_type": "code",
   "execution_count": null,
   "id": "cadf53a1",
   "metadata": {
    "ExecuteTime": {
     "end_time": "2023-08-08T23:04:42.533233Z",
     "start_time": "2023-08-08T23:04:42.533233Z"
    }
   },
   "outputs": [],
   "source": [
    "48/9 -> Variancia ok"
   ]
  },
  {
   "cell_type": "code",
   "execution_count": null,
   "id": "88249683",
   "metadata": {
    "ExecuteTime": {
     "end_time": "2023-08-08T23:04:42.535229Z",
     "start_time": "2023-08-08T23:04:42.535229Z"
    }
   },
   "outputs": [],
   "source": [
    "stats, pvalue = mannwhitneyu(df1, df2)\n",
    "\n",
    "print(f'p-value: {pvalue}')\n",
    "\n",
    "alpha = 0.05\n",
    "if pvalue < alpha:\n",
    "    print('Rejeita a hipótese nula')\n",
    "    \n",
    "else:\n",
    "    print('Falha em rejeitar a hipótese nula')"
   ]
  },
  {
   "cell_type": "markdown",
   "id": "3c32bd7c",
   "metadata": {},
   "source": [
    "# One-way ANOVA"
   ]
  },
  {
   "cell_type": "code",
   "execution_count": 30,
   "id": "37647f55",
   "metadata": {
    "ExecuteTime": {
     "end_time": "2023-08-08T23:05:01.057501Z",
     "start_time": "2023-08-08T23:05:01.048937Z"
    }
   },
   "outputs": [],
   "source": [
    "df = pd.DataFrame({\n",
    "    'A': [25,30,28,36,29],\n",
    "    'B': [45,55,29,56,40],\n",
    "    'C': [30,29,33,37,27],\n",
    "    'D': [54,60,51,62,73],\n",
    "    \n",
    "})"
   ]
  },
  {
   "cell_type": "code",
   "execution_count": 31,
   "id": "4dfbee93",
   "metadata": {
    "ExecuteTime": {
     "end_time": "2023-08-08T23:05:01.338382Z",
     "start_time": "2023-08-08T23:05:01.323009Z"
    }
   },
   "outputs": [
    {
     "data": {
      "text/html": [
       "<div>\n",
       "<style scoped>\n",
       "    .dataframe tbody tr th:only-of-type {\n",
       "        vertical-align: middle;\n",
       "    }\n",
       "\n",
       "    .dataframe tbody tr th {\n",
       "        vertical-align: top;\n",
       "    }\n",
       "\n",
       "    .dataframe thead th {\n",
       "        text-align: right;\n",
       "    }\n",
       "</style>\n",
       "<table border=\"1\" class=\"dataframe\">\n",
       "  <thead>\n",
       "    <tr style=\"text-align: right;\">\n",
       "      <th></th>\n",
       "      <th>A</th>\n",
       "      <th>B</th>\n",
       "      <th>C</th>\n",
       "      <th>D</th>\n",
       "    </tr>\n",
       "  </thead>\n",
       "  <tbody>\n",
       "    <tr>\n",
       "      <th>0</th>\n",
       "      <td>25</td>\n",
       "      <td>45</td>\n",
       "      <td>30</td>\n",
       "      <td>54</td>\n",
       "    </tr>\n",
       "    <tr>\n",
       "      <th>1</th>\n",
       "      <td>30</td>\n",
       "      <td>55</td>\n",
       "      <td>29</td>\n",
       "      <td>60</td>\n",
       "    </tr>\n",
       "    <tr>\n",
       "      <th>2</th>\n",
       "      <td>28</td>\n",
       "      <td>29</td>\n",
       "      <td>33</td>\n",
       "      <td>51</td>\n",
       "    </tr>\n",
       "    <tr>\n",
       "      <th>3</th>\n",
       "      <td>36</td>\n",
       "      <td>56</td>\n",
       "      <td>37</td>\n",
       "      <td>62</td>\n",
       "    </tr>\n",
       "    <tr>\n",
       "      <th>4</th>\n",
       "      <td>29</td>\n",
       "      <td>40</td>\n",
       "      <td>27</td>\n",
       "      <td>73</td>\n",
       "    </tr>\n",
       "  </tbody>\n",
       "</table>\n",
       "</div>"
      ],
      "text/plain": [
       "    A   B   C   D\n",
       "0  25  45  30  54\n",
       "1  30  55  29  60\n",
       "2  28  29  33  51\n",
       "3  36  56  37  62\n",
       "4  29  40  27  73"
      ]
     },
     "execution_count": 31,
     "metadata": {},
     "output_type": "execute_result"
    }
   ],
   "source": [
    "df"
   ]
  },
  {
   "cell_type": "code",
   "execution_count": 32,
   "id": "c122c32d",
   "metadata": {
    "ExecuteTime": {
     "end_time": "2023-08-08T23:05:01.491895Z",
     "start_time": "2023-08-08T23:05:01.485195Z"
    }
   },
   "outputs": [],
   "source": [
    "# Existe uma diferença na média nos 4 casos?"
   ]
  },
  {
   "cell_type": "code",
   "execution_count": 33,
   "id": "a424f1e0",
   "metadata": {
    "ExecuteTime": {
     "end_time": "2023-08-08T23:05:01.866813Z",
     "start_time": "2023-08-08T23:05:01.847755Z"
    }
   },
   "outputs": [
    {
     "data": {
      "text/html": [
       "<div>\n",
       "<style scoped>\n",
       "    .dataframe tbody tr th:only-of-type {\n",
       "        vertical-align: middle;\n",
       "    }\n",
       "\n",
       "    .dataframe tbody tr th {\n",
       "        vertical-align: top;\n",
       "    }\n",
       "\n",
       "    .dataframe thead th {\n",
       "        text-align: right;\n",
       "    }\n",
       "</style>\n",
       "<table border=\"1\" class=\"dataframe\">\n",
       "  <thead>\n",
       "    <tr style=\"text-align: right;\">\n",
       "      <th></th>\n",
       "      <th>index</th>\n",
       "      <th>treatment</th>\n",
       "      <th>value</th>\n",
       "    </tr>\n",
       "  </thead>\n",
       "  <tbody>\n",
       "    <tr>\n",
       "      <th>0</th>\n",
       "      <td>0</td>\n",
       "      <td>A</td>\n",
       "      <td>25</td>\n",
       "    </tr>\n",
       "    <tr>\n",
       "      <th>1</th>\n",
       "      <td>1</td>\n",
       "      <td>A</td>\n",
       "      <td>30</td>\n",
       "    </tr>\n",
       "    <tr>\n",
       "      <th>2</th>\n",
       "      <td>2</td>\n",
       "      <td>A</td>\n",
       "      <td>28</td>\n",
       "    </tr>\n",
       "    <tr>\n",
       "      <th>3</th>\n",
       "      <td>3</td>\n",
       "      <td>A</td>\n",
       "      <td>36</td>\n",
       "    </tr>\n",
       "    <tr>\n",
       "      <th>4</th>\n",
       "      <td>4</td>\n",
       "      <td>A</td>\n",
       "      <td>29</td>\n",
       "    </tr>\n",
       "  </tbody>\n",
       "</table>\n",
       "</div>"
      ],
      "text/plain": [
       "   index treatment  value\n",
       "0      0         A     25\n",
       "1      1         A     30\n",
       "2      2         A     28\n",
       "3      3         A     36\n",
       "4      4         A     29"
      ]
     },
     "execution_count": 33,
     "metadata": {},
     "output_type": "execute_result"
    }
   ],
   "source": [
    "df_melt = pd.melt(df.reset_index(), id_vars=['index'], value_vars=['A','B','C','D'])\n",
    "df_melt.columns = ['index','treatment','value']\n",
    "df_melt.head()"
   ]
  },
  {
   "cell_type": "code",
   "execution_count": 35,
   "id": "ba54c791",
   "metadata": {
    "ExecuteTime": {
     "end_time": "2023-08-08T23:05:27.485919Z",
     "start_time": "2023-08-08T23:05:27.473910Z"
    }
   },
   "outputs": [
    {
     "name": "stdout",
     "output_type": "stream",
     "text": [
      "p-value - Grupo A: ShapiroResult(statistic=0.9316344261169434, pvalue=0.6075581908226013)\n",
      "p-value - Grupo B: ShapiroResult(statistic=0.9264495968818665, pvalue=0.5723677277565002)\n",
      "p-value - Grupo C: ShapiroResult(statistic=0.9529604315757751, pvalue=0.7583119869232178)\n",
      "p-value - Grupo D: ShapiroResult(statistic=0.9448273181915283, pvalue=0.7002365589141846)\n",
      "variance - Grupo A: 13.040000000000001\n",
      "variance - Grupo B: 100.4\n",
      "variance - Grupo C: 12.16\n",
      "variance - Grupo D: 58.0\n"
     ]
    }
   ],
   "source": [
    "print(f\"p-value - Grupo A: {shapiro(df['A'])}\")\n",
    "print(f\"p-value - Grupo B: {shapiro(df['B'])}\")\n",
    "print(f\"p-value - Grupo C: {shapiro(df['C'])}\")\n",
    "print(f\"p-value - Grupo D: {shapiro(df['D'])}\")\n",
    "\n",
    "\n",
    "print(f\"variance - Grupo A: {np.var(df['A'])}\")\n",
    "print(f\"variance - Grupo B: {np.var(df['B'])}\")\n",
    "print(f\"variance - Grupo C: {np.var(df['C'])}\")\n",
    "print(f\"variance - Grupo D: {np.var(df['D'])}\")"
   ]
  },
  {
   "cell_type": "code",
   "execution_count": 39,
   "id": "17dd4edd",
   "metadata": {
    "ExecuteTime": {
     "end_time": "2023-08-08T23:08:42.641584Z",
     "start_time": "2023-08-08T23:08:42.625662Z"
    }
   },
   "outputs": [
    {
     "name": "stdout",
     "output_type": "stream",
     "text": [
      "2.6392411462109217e-05\n",
      "Rejeita a hipotese nula\n"
     ]
    }
   ],
   "source": [
    "stats, pvalue = f_oneway(df['A'],df['B'],df['C'],df['D'])\n",
    "print(pvalue)\n",
    "\n",
    "#Ho = Não há diferença na altura média\n",
    "#H1 = Há diferença entre as alturas médias\n",
    "\n",
    "alpha = 0.05\n",
    "\n",
    "if pvalue < alpha:\n",
    "    print('Rejeita a hipotese nula')\n",
    "    \n",
    "else:\n",
    "    print('Falha em rejeitar a hipotese nula')    "
   ]
  },
  {
   "cell_type": "code",
   "execution_count": 42,
   "id": "790afedf",
   "metadata": {
    "ExecuteTime": {
     "end_time": "2023-08-08T23:17:18.394819Z",
     "start_time": "2023-08-08T23:17:18.052393Z"
    }
   },
   "outputs": [
    {
     "name": "stdout",
     "output_type": "stream",
     "text": [
      "Multiple Comparison of Means - Tukey HSD, FWER=0.05\n",
      "===================================================\n",
      "group1 group2 meandiff p-adj   lower  upper  reject\n",
      "---------------------------------------------------\n",
      "     A      B     15.4 0.0251   1.694 29.106   True\n",
      "     A      C      1.6 0.9867 -12.106 15.306  False\n",
      "     A      D     30.4 0.0001  16.694 44.106   True\n",
      "     B      C    -13.8 0.0482 -27.506 -0.094   True\n",
      "     B      D     15.0 0.0296   1.294 28.706   True\n",
      "     C      D     28.8 0.0001  15.094 42.506   True\n",
      "---------------------------------------------------\n"
     ]
    }
   ],
   "source": [
    "tukey = pairwise_tukeyhsd(\n",
    "            endog=df_melt['value'],\n",
    "            groups=df_melt['treatment'],\n",
    "            alpha=0.05\n",
    ")\n",
    "\n",
    "print(tukey)"
   ]
  },
  {
   "cell_type": "code",
   "execution_count": null,
   "id": "967efc23",
   "metadata": {},
   "outputs": [],
   "source": []
  },
  {
   "cell_type": "code",
   "execution_count": null,
   "id": "e41b02dc",
   "metadata": {},
   "outputs": [],
   "source": []
  },
  {
   "cell_type": "code",
   "execution_count": null,
   "id": "b517d462",
   "metadata": {},
   "outputs": [],
   "source": []
  }
 ],
 "metadata": {
  "kernelspec": {
   "display_name": "Python 3 (ipykernel)",
   "language": "python",
   "name": "python3"
  },
  "language_info": {
   "codemirror_mode": {
    "name": "ipython",
    "version": 3
   },
   "file_extension": ".py",
   "mimetype": "text/x-python",
   "name": "python",
   "nbconvert_exporter": "python",
   "pygments_lexer": "ipython3",
   "version": "3.10.12"
  }
 },
 "nbformat": 4,
 "nbformat_minor": 5
}
