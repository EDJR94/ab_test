{
 "cells": [
  {
   "cell_type": "markdown",
   "id": "6c43fc24",
   "metadata": {},
   "source": [
    "# 0.0 Imports"
   ]
  },
  {
   "cell_type": "code",
   "execution_count": 1,
   "id": "7a740ac5",
   "metadata": {
    "ExecuteTime": {
     "end_time": "2023-08-09T09:11:19.852984Z",
     "start_time": "2023-08-09T09:11:18.230091Z"
    }
   },
   "outputs": [],
   "source": [
    "import pandas as pd\n",
    "import numpy as np\n",
    "import math\n",
    "\n",
    "from statsmodels.stats import api as sms\n",
    "from scipy.stats import chi2_contingency"
   ]
  },
  {
   "cell_type": "markdown",
   "id": "421bc555",
   "metadata": {},
   "source": [
    "## 0.1 Loading"
   ]
  },
  {
   "cell_type": "code",
   "execution_count": 2,
   "id": "af53a893",
   "metadata": {
    "ExecuteTime": {
     "end_time": "2023-08-09T09:11:20.130263Z",
     "start_time": "2023-08-09T09:11:19.855220Z"
    }
   },
   "outputs": [],
   "source": [
    "path = 'C:/Users/edils/repos/teste_ab/data/'\n",
    "\n",
    "df_raw = pd.read_csv(path + 'ab_data.csv')"
   ]
  },
  {
   "cell_type": "code",
   "execution_count": 3,
   "id": "d28d78d7",
   "metadata": {
    "ExecuteTime": {
     "end_time": "2023-08-09T09:11:20.177171Z",
     "start_time": "2023-08-09T09:11:20.134867Z"
    }
   },
   "outputs": [
    {
     "data": {
      "text/html": [
       "<div>\n",
       "<style scoped>\n",
       "    .dataframe tbody tr th:only-of-type {\n",
       "        vertical-align: middle;\n",
       "    }\n",
       "\n",
       "    .dataframe tbody tr th {\n",
       "        vertical-align: top;\n",
       "    }\n",
       "\n",
       "    .dataframe thead th {\n",
       "        text-align: right;\n",
       "    }\n",
       "</style>\n",
       "<table border=\"1\" class=\"dataframe\">\n",
       "  <thead>\n",
       "    <tr style=\"text-align: right;\">\n",
       "      <th></th>\n",
       "      <th>user_id</th>\n",
       "      <th>timestamp</th>\n",
       "      <th>group</th>\n",
       "      <th>landing_page</th>\n",
       "      <th>converted</th>\n",
       "    </tr>\n",
       "  </thead>\n",
       "  <tbody>\n",
       "    <tr>\n",
       "      <th>0</th>\n",
       "      <td>851104</td>\n",
       "      <td>2017-01-21 22:11:48.556739</td>\n",
       "      <td>control</td>\n",
       "      <td>old_page</td>\n",
       "      <td>0</td>\n",
       "    </tr>\n",
       "    <tr>\n",
       "      <th>1</th>\n",
       "      <td>804228</td>\n",
       "      <td>2017-01-12 08:01:45.159739</td>\n",
       "      <td>control</td>\n",
       "      <td>old_page</td>\n",
       "      <td>0</td>\n",
       "    </tr>\n",
       "    <tr>\n",
       "      <th>2</th>\n",
       "      <td>661590</td>\n",
       "      <td>2017-01-11 16:55:06.154213</td>\n",
       "      <td>treatment</td>\n",
       "      <td>new_page</td>\n",
       "      <td>0</td>\n",
       "    </tr>\n",
       "    <tr>\n",
       "      <th>3</th>\n",
       "      <td>853541</td>\n",
       "      <td>2017-01-08 18:28:03.143765</td>\n",
       "      <td>treatment</td>\n",
       "      <td>new_page</td>\n",
       "      <td>0</td>\n",
       "    </tr>\n",
       "    <tr>\n",
       "      <th>4</th>\n",
       "      <td>864975</td>\n",
       "      <td>2017-01-21 01:52:26.210827</td>\n",
       "      <td>control</td>\n",
       "      <td>old_page</td>\n",
       "      <td>1</td>\n",
       "    </tr>\n",
       "  </tbody>\n",
       "</table>\n",
       "</div>"
      ],
      "text/plain": [
       "   user_id                   timestamp      group landing_page  converted\n",
       "0   851104  2017-01-21 22:11:48.556739    control     old_page          0\n",
       "1   804228  2017-01-12 08:01:45.159739    control     old_page          0\n",
       "2   661590  2017-01-11 16:55:06.154213  treatment     new_page          0\n",
       "3   853541  2017-01-08 18:28:03.143765  treatment     new_page          0\n",
       "4   864975  2017-01-21 01:52:26.210827    control     old_page          1"
      ]
     },
     "execution_count": 3,
     "metadata": {},
     "output_type": "execute_result"
    }
   ],
   "source": [
    "df_raw.head()"
   ]
  },
  {
   "cell_type": "markdown",
   "id": "42461002",
   "metadata": {},
   "source": [
    "# 1.0 Design do Experimento"
   ]
  },
  {
   "cell_type": "markdown",
   "id": "aef8e5de",
   "metadata": {},
   "source": [
    "## 1.1 Formulação das Hipóteses"
   ]
  },
  {
   "cell_type": "code",
   "execution_count": 4,
   "id": "508136ce",
   "metadata": {
    "ExecuteTime": {
     "end_time": "2023-08-09T09:11:20.191813Z",
     "start_time": "2023-08-09T09:11:20.180128Z"
    }
   },
   "outputs": [],
   "source": [
    "# H0 : A conversão da nova página é de 13%\n",
    "# H1 : A conversão da nova página é diferente de 15%"
   ]
  },
  {
   "cell_type": "markdown",
   "id": "8085782d",
   "metadata": {},
   "source": [
    "# 2.0 Parametros do Experimento"
   ]
  },
  {
   "cell_type": "code",
   "execution_count": 9,
   "id": "b5fc488e",
   "metadata": {
    "ExecuteTime": {
     "end_time": "2023-08-09T09:11:58.382638Z",
     "start_time": "2023-08-09T09:11:58.370030Z"
    }
   },
   "outputs": [],
   "source": [
    "df2 = df_raw.copy()"
   ]
  },
  {
   "cell_type": "code",
   "execution_count": 10,
   "id": "0c523861",
   "metadata": {
    "ExecuteTime": {
     "end_time": "2023-08-09T09:12:01.568882Z",
     "start_time": "2023-08-09T09:12:01.557183Z"
    }
   },
   "outputs": [],
   "source": [
    "#nivel de confiança\n",
    "confidence_level = 0.95\n",
    "\n",
    "#nivel de significancia\n",
    "significance_level = 0.05\n",
    "\n",
    "#conversoes da pagina atual e nova\n",
    "p1 = 0.13\n",
    "p2 = 0.15\n",
    "\n",
    "#tamanho do efeito\n",
    "effect_size = sms.proportion_effectsize(p1, p2)\n",
    "\n",
    "#poder Estatistico\n",
    "power = 0.80"
   ]
  },
  {
   "cell_type": "code",
   "execution_count": 11,
   "id": "17625344",
   "metadata": {
    "ExecuteTime": {
     "end_time": "2023-08-09T09:12:01.818802Z",
     "start_time": "2023-08-09T09:12:01.793733Z"
    }
   },
   "outputs": [],
   "source": [
    "#Tamanho da amostra\n",
    "sample_n = sms.NormalIndPower().solve_power(\n",
    "            effect_size,\n",
    "            power=power,\n",
    "            alpha=significance_level\n",
    ")\n",
    "\n",
    "sample_n = math.ceil(sample_n)"
   ]
  },
  {
   "cell_type": "code",
   "execution_count": 12,
   "id": "8816d41b",
   "metadata": {
    "ExecuteTime": {
     "end_time": "2023-08-09T09:12:02.008828Z",
     "start_time": "2023-08-09T09:12:01.994638Z"
    }
   },
   "outputs": [
    {
     "name": "stdout",
     "output_type": "stream",
     "text": [
      "O tamanho total da amostra é: 9440\n",
      "O tamanho da amostra do grupo de controle é: 4720\n",
      "O tamanho da amostra do grupo de tratamento é: 4720\n"
     ]
    }
   ],
   "source": [
    "print(f\"O tamanho total da amostra é: {2*sample_n}\")\n",
    "print(f\"O tamanho da amostra do grupo de controle é: {sample_n}\")\n",
    "print(f\"O tamanho da amostra do grupo de tratamento é: {sample_n}\")"
   ]
  },
  {
   "cell_type": "code",
   "execution_count": 13,
   "id": "59b23a63",
   "metadata": {
    "ExecuteTime": {
     "end_time": "2023-08-09T09:12:02.507958Z",
     "start_time": "2023-08-09T09:12:02.219203Z"
    }
   },
   "outputs": [
    {
     "name": "stdout",
     "output_type": "stream",
     "text": [
      "Size of control Group: 4720\n",
      "Size of treatment Group: 4720\n",
      "Control Convertion Rate: 0.11546610169491525\n",
      "Treatment Convertion Rate: 0.11313559322033899\n",
      "p-value: 0.78\n",
      "Falha em Rejeitar a Hipótese Nula\n"
     ]
    }
   ],
   "source": [
    "# Preparar dos dados\n",
    "# Divide duplicate users based on group and landing_page\n",
    "df_query1 = df2.loc[:, ['user_id', 'group', 'landing_page']].groupby('user_id').nunique().query('landing_page > 1 or group > 1').reset_index()\n",
    "\n",
    "# Filter only non_duplicate_users\n",
    "df3 = df2[~df2['user_id'].isin(df_query1['user_id'])]\n",
    "\n",
    "#Amostragem\n",
    "df_treatment = df3.loc[df3['group'] == 'treatment',:].sample(sample_n, random_state=42)\n",
    "df_control = df3.loc[df3['group'] == 'control',:].sample(sample_n, random_state=42)\n",
    "\n",
    "print(f'Size of control Group: {df_control.shape[0]}')\n",
    "print(f'Size of treatment Group: {df_treatment.shape[0]}')\n",
    "\n",
    "df_ab = pd.concat([df_control, df_treatment])\n",
    "\n",
    "#Taxa de conversão\n",
    "converted = df_control['converted'].sum()\n",
    "converted_ratio_control = converted/len(df_control)\n",
    "\n",
    "print(f'Control Convertion Rate: {converted_ratio_control}')\n",
    "\n",
    "converted = df_treatment['converted'].sum()\n",
    "converted_ratio_treatment = converted/len(df_treatment)\n",
    "\n",
    "print(f'Treatment Convertion Rate: {converted_ratio_treatment}')\n",
    "\n",
    "#Teste de Hipótese\n",
    "df_table = df_ab.loc[:,['group','converted']].groupby('group').agg({'converted':['sum','count']})\n",
    "df_table.columns = ['converted','non_converted']\n",
    "\n",
    "\n",
    "chi_val, pval, dof, expected = chi2_contingency(df_table)\n",
    "\n",
    "print(f'p-value: {pval:.2f}')\n",
    "\n",
    "\n",
    "#Conclusão\n",
    "if pval < significance_level:\n",
    "    print('Rejeita a Hipótese Nula')\n",
    "else:\n",
    "    print('Falha em Rejeitar a Hipótese Nula')"
   ]
  },
  {
   "cell_type": "code",
   "execution_count": 14,
   "id": "d681dda8",
   "metadata": {
    "ExecuteTime": {
     "end_time": "2023-08-09T09:12:07.423616Z",
     "start_time": "2023-08-09T09:12:07.407617Z"
    }
   },
   "outputs": [
    {
     "ename": "SyntaxError",
     "evalue": "invalid syntax (1006606746.py, line 2)",
     "output_type": "error",
     "traceback": [
      "\u001b[1;36m  Cell \u001b[1;32mIn[14], line 2\u001b[1;36m\u001b[0m\n\u001b[1;33m    pagina_atual = 13%\u001b[0m\n\u001b[1;37m                      ^\u001b[0m\n\u001b[1;31mSyntaxError\u001b[0m\u001b[1;31m:\u001b[0m invalid syntax\n"
     ]
    }
   ],
   "source": [
    "#Conversão de Resultado para R$\n",
    "pagina_atual = 13%\n",
    "pagina_nova = 15%"
   ]
  },
  {
   "cell_type": "code",
   "execution_count": 15,
   "id": "85c47847",
   "metadata": {
    "ExecuteTime": {
     "end_time": "2023-08-09T09:12:09.005959Z",
     "start_time": "2023-08-09T09:12:08.982132Z"
    }
   },
   "outputs": [
    {
     "ename": "NameError",
     "evalue": "name 'numero_visitante' is not defined",
     "output_type": "error",
     "traceback": [
      "\u001b[1;31m---------------------------------------------------------------------------\u001b[0m",
      "\u001b[1;31mNameError\u001b[0m                                 Traceback (most recent call last)",
      "Cell \u001b[1;32mIn[15], line 1\u001b[0m\n\u001b[1;32m----> 1\u001b[0m compradores \u001b[38;5;241m=\u001b[39m \u001b[43mnumero_visitante\u001b[49m \u001b[38;5;241m*\u001b[39m \u001b[38;5;241m0.13\u001b[39m\n\u001b[0;32m      2\u001b[0m GMV \u001b[38;5;241m=\u001b[39m compradores\u001b[38;5;241m*\u001b[39m\u001b[38;5;241m4500\u001b[39m\n",
      "\u001b[1;31mNameError\u001b[0m: name 'numero_visitante' is not defined"
     ]
    }
   ],
   "source": [
    "compradores = numero_visitante * 0.13\n",
    "GMV = compradores*4500"
   ]
  },
  {
   "cell_type": "code",
   "execution_count": 19,
   "id": "2c46e5dc",
   "metadata": {
    "ExecuteTime": {
     "end_time": "2023-08-09T09:14:16.407827Z",
     "start_time": "2023-08-09T09:14:16.394549Z"
    }
   },
   "outputs": [
    {
     "data": {
      "text/html": [
       "<div>\n",
       "<style scoped>\n",
       "    .dataframe tbody tr th:only-of-type {\n",
       "        vertical-align: middle;\n",
       "    }\n",
       "\n",
       "    .dataframe tbody tr th {\n",
       "        vertical-align: top;\n",
       "    }\n",
       "\n",
       "    .dataframe thead th {\n",
       "        text-align: right;\n",
       "    }\n",
       "</style>\n",
       "<table border=\"1\" class=\"dataframe\">\n",
       "  <thead>\n",
       "    <tr style=\"text-align: right;\">\n",
       "      <th></th>\n",
       "      <th>user_id</th>\n",
       "      <th>timestamp</th>\n",
       "      <th>group</th>\n",
       "      <th>landing_page</th>\n",
       "      <th>converted</th>\n",
       "    </tr>\n",
       "  </thead>\n",
       "  <tbody>\n",
       "    <tr>\n",
       "      <th>0</th>\n",
       "      <td>851104</td>\n",
       "      <td>2017-01-21</td>\n",
       "      <td>control</td>\n",
       "      <td>old_page</td>\n",
       "      <td>0</td>\n",
       "    </tr>\n",
       "    <tr>\n",
       "      <th>1</th>\n",
       "      <td>804228</td>\n",
       "      <td>2017-01-12</td>\n",
       "      <td>control</td>\n",
       "      <td>old_page</td>\n",
       "      <td>0</td>\n",
       "    </tr>\n",
       "    <tr>\n",
       "      <th>2</th>\n",
       "      <td>661590</td>\n",
       "      <td>2017-01-11</td>\n",
       "      <td>treatment</td>\n",
       "      <td>new_page</td>\n",
       "      <td>0</td>\n",
       "    </tr>\n",
       "    <tr>\n",
       "      <th>3</th>\n",
       "      <td>853541</td>\n",
       "      <td>2017-01-08</td>\n",
       "      <td>treatment</td>\n",
       "      <td>new_page</td>\n",
       "      <td>0</td>\n",
       "    </tr>\n",
       "    <tr>\n",
       "      <th>4</th>\n",
       "      <td>864975</td>\n",
       "      <td>2017-01-21</td>\n",
       "      <td>control</td>\n",
       "      <td>old_page</td>\n",
       "      <td>1</td>\n",
       "    </tr>\n",
       "  </tbody>\n",
       "</table>\n",
       "</div>"
      ],
      "text/plain": [
       "   user_id   timestamp      group landing_page  converted\n",
       "0   851104  2017-01-21    control     old_page          0\n",
       "1   804228  2017-01-12    control     old_page          0\n",
       "2   661590  2017-01-11  treatment     new_page          0\n",
       "3   853541  2017-01-08  treatment     new_page          0\n",
       "4   864975  2017-01-21    control     old_page          1"
      ]
     },
     "execution_count": 19,
     "metadata": {},
     "output_type": "execute_result"
    }
   ],
   "source": [
    "df4.head()"
   ]
  },
  {
   "cell_type": "code",
   "execution_count": 21,
   "id": "b09c39e7",
   "metadata": {
    "ExecuteTime": {
     "end_time": "2023-08-09T09:14:58.910925Z",
     "start_time": "2023-08-09T09:14:56.853979Z"
    }
   },
   "outputs": [],
   "source": [
    "df4 = df3.copy()\n",
    "\n",
    "df4['timestamp'] = pd.to_datetime(df4['timestamp']).apply(lambda x: x.strftime('%Y-%m-%d')) \n",
    "\n",
    "df5 = df4[['timestamp','user_id']].groupby('timestamp').count().reset_index()"
   ]
  },
  {
   "cell_type": "code",
   "execution_count": 29,
   "id": "950f52e5",
   "metadata": {
    "ExecuteTime": {
     "end_time": "2023-08-09T09:25:29.507945Z",
     "start_time": "2023-08-09T09:25:29.487589Z"
    }
   },
   "outputs": [
    {
     "name": "stdout",
     "output_type": "stream",
     "text": [
      "Current GMV: 167656500\n",
      "New GMV: 193459500\n",
      "Lift Difference: 25803000\n",
      "Expected Lift: 15.39%\n"
     ]
    }
   ],
   "source": [
    "# Current GMV\n",
    "df5['current_purchases'] = (df5['user_id']*0.13).astype(int)\n",
    "\n",
    "df5['current_GMV'] = df5['current_purchases'] * 4500\n",
    "\n",
    "current_gmv = df5['current_GMV'].sum()\n",
    "\n",
    "print(f\"Current GMV: {current_gmv}\")\n",
    "\n",
    "#Expected GMV\n",
    "df5['new_purchases'] = (df5['user_id']*0.15).astype(int)\n",
    "\n",
    "df5['new_GMV'] = df5['new_purchases'] * 4500\n",
    "\n",
    "new_gmv = df5['new_GMV'].sum()\n",
    "\n",
    "print(f\"New GMV: {new_gmv}\")\n",
    "\n",
    "lift = (new_gmv - current_gmv)/current_gmv\n",
    "lift_abs = new_gmv - current_gmv\n",
    "\n",
    "print(f\"Lift Difference: {lift_abs}\")\n",
    "\n",
    "print(f\"Expected Lift: {100*lift:.2f}%\")"
   ]
  }
 ],
 "metadata": {
  "kernelspec": {
   "display_name": "Python 3 (ipykernel)",
   "language": "python",
   "name": "python3"
  },
  "language_info": {
   "codemirror_mode": {
    "name": "ipython",
    "version": 3
   },
   "file_extension": ".py",
   "mimetype": "text/x-python",
   "name": "python",
   "nbconvert_exporter": "python",
   "pygments_lexer": "ipython3",
   "version": "3.10.12"
  }
 },
 "nbformat": 4,
 "nbformat_minor": 5
}
