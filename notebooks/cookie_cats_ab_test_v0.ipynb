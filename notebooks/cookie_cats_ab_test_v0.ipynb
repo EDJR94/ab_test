{
 "cells": [
  {
   "cell_type": "markdown",
   "id": "ae12ec33",
   "metadata": {},
   "source": [
    "# Business Problem\n",
    "\n",
    "Cookie Cats is a hugely popular mobile puzzle game developed by Tactile Entertainment. It's a classic \"connect three\" style puzzle game where the player must connect tiles of the same color in order to clear the board and win the level. It also features singing cats. We're not kidding!\n",
    "\n",
    "As players progress through the game they will encounter gates that force them to wait some time before they can progress or make an in-app purchase. In this project, we will analyze the result of an A/B test where the first gate in Cookie Cats was moved from level 30 to level 40. In particular, we will analyze the impact on player retention.\n",
    "\n",
    "<center><iframe width=\"560\" height=\"315\" src=\"https://www.datacamp.com/projects/184\" frameborder=\"0\" allow=\"accelerometer; autoplay; clipboard-write; encrypted-media; gyroscope; picture-in-picture\" allowfullscreen></iframe></iframe></center>\n",
    "\n",
    "\n",
    "### Data Description from (https://www.datacamp.com/projects/184)\n",
    "\n",
    "<p>The data is from 90,189 players that installed the game while the AB-test was running. The variables are:</p>\n",
    "<ul>\n",
    "<li><code>userid</code> - a unique number that identifies each player.</li>\n",
    "<li><code>version</code> - whether the player was put in the control group (<code>gate_30</code> - a gate at level 30) or the test group (<code>gate_40</code> - a gate at level 40).</li>\n",
    "<li><code>sum_gamerounds</code> - the number of game rounds played by the player during the first week after installation\n",
    "<li><code>retention_1</code> - did the player come back and play 1 day after installing?</li>\n",
    "<li><code>retention_7</code> - did the player come back and play 7 days after installing?</li>\n",
    "</ul>\n",
    "<p>When a player installed the game, he or she was randomly assigned to either <code>gate_30</code> or <code>gate_40</code>. </p>"
   ]
  },
  {
   "cell_type": "markdown",
   "id": "1c675d2f",
   "metadata": {},
   "source": [
    "# 0.0 Imports"
   ]
  },
  {
   "cell_type": "code",
   "execution_count": 1,
   "id": "83e0182a",
   "metadata": {
    "ExecuteTime": {
     "end_time": "2023-08-13T18:36:59.874446Z",
     "start_time": "2023-08-13T18:36:57.564586Z"
    }
   },
   "outputs": [],
   "source": [
    "import pandas as pd\n",
    "import numpy as np\n",
    "import matplotlib.pyplot as plt\n",
    "import seaborn as sns\n",
    "\n",
    "from scipy.stats import chi2_contingency"
   ]
  },
  {
   "cell_type": "markdown",
   "id": "1e41bcb4",
   "metadata": {},
   "source": [
    "## 0.1 Load Data"
   ]
  },
  {
   "cell_type": "code",
   "execution_count": 2,
   "id": "4dbc6441",
   "metadata": {
    "ExecuteTime": {
     "end_time": "2023-08-13T18:36:59.953241Z",
     "start_time": "2023-08-13T18:36:59.877976Z"
    }
   },
   "outputs": [],
   "source": [
    "path = 'C:/Users/edils/repos/teste_ab/data/'\n",
    "\n",
    "df_raw = pd.read_csv(path + 'cookie_cats.csv')"
   ]
  },
  {
   "cell_type": "code",
   "execution_count": 3,
   "id": "adcfdc42",
   "metadata": {
    "ExecuteTime": {
     "end_time": "2023-08-13T18:36:59.984531Z",
     "start_time": "2023-08-13T18:36:59.954802Z"
    }
   },
   "outputs": [
    {
     "name": "stdout",
     "output_type": "stream",
     "text": [
      "<class 'pandas.core.frame.DataFrame'>\n",
      "RangeIndex: 90189 entries, 0 to 90188\n",
      "Data columns (total 5 columns):\n",
      " #   Column          Non-Null Count  Dtype \n",
      "---  ------          --------------  ----- \n",
      " 0   userid          90189 non-null  int64 \n",
      " 1   version         90189 non-null  object\n",
      " 2   sum_gamerounds  90189 non-null  int64 \n",
      " 3   retention_1     90189 non-null  bool  \n",
      " 4   retention_7     90189 non-null  bool  \n",
      "dtypes: bool(2), int64(2), object(1)\n",
      "memory usage: 2.2+ MB\n"
     ]
    }
   ],
   "source": [
    "df_raw.info()"
   ]
  },
  {
   "cell_type": "markdown",
   "id": "3ce4c2f9",
   "metadata": {},
   "source": [
    "# 1.0 Data Understanding"
   ]
  },
  {
   "cell_type": "code",
   "execution_count": 73,
   "id": "703eb38c",
   "metadata": {
    "ExecuteTime": {
     "end_time": "2023-08-13T19:36:32.827663Z",
     "start_time": "2023-08-13T19:36:32.818228Z"
    }
   },
   "outputs": [],
   "source": [
    "df1 = df_raw.copy()"
   ]
  },
  {
   "cell_type": "code",
   "execution_count": 74,
   "id": "8cd989ac",
   "metadata": {
    "ExecuteTime": {
     "end_time": "2023-08-13T19:36:32.998909Z",
     "start_time": "2023-08-13T19:36:32.982251Z"
    }
   },
   "outputs": [
    {
     "data": {
      "text/html": [
       "<div>\n",
       "<style scoped>\n",
       "    .dataframe tbody tr th:only-of-type {\n",
       "        vertical-align: middle;\n",
       "    }\n",
       "\n",
       "    .dataframe tbody tr th {\n",
       "        vertical-align: top;\n",
       "    }\n",
       "\n",
       "    .dataframe thead th {\n",
       "        text-align: right;\n",
       "    }\n",
       "</style>\n",
       "<table border=\"1\" class=\"dataframe\">\n",
       "  <thead>\n",
       "    <tr style=\"text-align: right;\">\n",
       "      <th></th>\n",
       "      <th>userid</th>\n",
       "      <th>version</th>\n",
       "      <th>sum_gamerounds</th>\n",
       "      <th>retention_1</th>\n",
       "      <th>retention_7</th>\n",
       "    </tr>\n",
       "  </thead>\n",
       "  <tbody>\n",
       "    <tr>\n",
       "      <th>0</th>\n",
       "      <td>116</td>\n",
       "      <td>gate_30</td>\n",
       "      <td>3</td>\n",
       "      <td>False</td>\n",
       "      <td>False</td>\n",
       "    </tr>\n",
       "    <tr>\n",
       "      <th>1</th>\n",
       "      <td>337</td>\n",
       "      <td>gate_30</td>\n",
       "      <td>38</td>\n",
       "      <td>True</td>\n",
       "      <td>False</td>\n",
       "    </tr>\n",
       "    <tr>\n",
       "      <th>2</th>\n",
       "      <td>377</td>\n",
       "      <td>gate_40</td>\n",
       "      <td>165</td>\n",
       "      <td>True</td>\n",
       "      <td>False</td>\n",
       "    </tr>\n",
       "    <tr>\n",
       "      <th>3</th>\n",
       "      <td>483</td>\n",
       "      <td>gate_40</td>\n",
       "      <td>1</td>\n",
       "      <td>False</td>\n",
       "      <td>False</td>\n",
       "    </tr>\n",
       "    <tr>\n",
       "      <th>4</th>\n",
       "      <td>488</td>\n",
       "      <td>gate_40</td>\n",
       "      <td>179</td>\n",
       "      <td>True</td>\n",
       "      <td>True</td>\n",
       "    </tr>\n",
       "  </tbody>\n",
       "</table>\n",
       "</div>"
      ],
      "text/plain": [
       "   userid  version  sum_gamerounds  retention_1  retention_7\n",
       "0     116  gate_30               3        False        False\n",
       "1     337  gate_30              38         True        False\n",
       "2     377  gate_40             165         True        False\n",
       "3     483  gate_40               1        False        False\n",
       "4     488  gate_40             179         True         True"
      ]
     },
     "execution_count": 74,
     "metadata": {},
     "output_type": "execute_result"
    }
   ],
   "source": [
    "df1.head()"
   ]
  },
  {
   "cell_type": "markdown",
   "id": "8357b249",
   "metadata": {},
   "source": [
    "## 1.1 Check Homogeinity"
   ]
  },
  {
   "cell_type": "code",
   "execution_count": 75,
   "id": "6a8480bb",
   "metadata": {
    "ExecuteTime": {
     "end_time": "2023-08-13T19:36:33.312149Z",
     "start_time": "2023-08-13T19:36:33.268423Z"
    }
   },
   "outputs": [
    {
     "data": {
      "text/html": [
       "<div>\n",
       "<style scoped>\n",
       "    .dataframe tbody tr th:only-of-type {\n",
       "        vertical-align: middle;\n",
       "    }\n",
       "\n",
       "    .dataframe tbody tr th {\n",
       "        vertical-align: top;\n",
       "    }\n",
       "\n",
       "    .dataframe thead tr th {\n",
       "        text-align: left;\n",
       "    }\n",
       "</style>\n",
       "<table border=\"1\" class=\"dataframe\">\n",
       "  <thead>\n",
       "    <tr>\n",
       "      <th></th>\n",
       "      <th colspan=\"2\" halign=\"left\">version</th>\n",
       "      <th colspan=\"4\" halign=\"left\">sum_gamerounds</th>\n",
       "      <th>retention_1</th>\n",
       "      <th>retention_7</th>\n",
       "    </tr>\n",
       "    <tr>\n",
       "      <th></th>\n",
       "      <th></th>\n",
       "      <th>count</th>\n",
       "      <th>min</th>\n",
       "      <th>max</th>\n",
       "      <th>mean</th>\n",
       "      <th>std</th>\n",
       "      <th>count</th>\n",
       "      <th>count</th>\n",
       "    </tr>\n",
       "  </thead>\n",
       "  <tbody>\n",
       "    <tr>\n",
       "      <th>0</th>\n",
       "      <td>gate_30</td>\n",
       "      <td>44700</td>\n",
       "      <td>0</td>\n",
       "      <td>49854</td>\n",
       "      <td>52.456264</td>\n",
       "      <td>256.716423</td>\n",
       "      <td>44700</td>\n",
       "      <td>44700</td>\n",
       "    </tr>\n",
       "    <tr>\n",
       "      <th>1</th>\n",
       "      <td>gate_40</td>\n",
       "      <td>45489</td>\n",
       "      <td>0</td>\n",
       "      <td>2640</td>\n",
       "      <td>51.298776</td>\n",
       "      <td>103.294416</td>\n",
       "      <td>45489</td>\n",
       "      <td>45489</td>\n",
       "    </tr>\n",
       "  </tbody>\n",
       "</table>\n",
       "</div>"
      ],
      "text/plain": [
       "   version        sum_gamerounds                               retention_1  \\\n",
       "            count            min    max       mean         std       count   \n",
       "0  gate_30  44700              0  49854  52.456264  256.716423       44700   \n",
       "1  gate_40  45489              0   2640  51.298776  103.294416       45489   \n",
       "\n",
       "  retention_7  \n",
       "        count  \n",
       "0       44700  \n",
       "1       45489  "
      ]
     },
     "execution_count": 75,
     "metadata": {},
     "output_type": "execute_result"
    }
   ],
   "source": [
    "df1.groupby('version').agg({\n",
    "        'version':['count'],\n",
    "        'sum_gamerounds':['min','max','mean','std'],\n",
    "        'retention_1':['count'],\n",
    "        'retention_7':['count']\n",
    "    \n",
    "}).reset_index()\n"
   ]
  },
  {
   "cell_type": "markdown",
   "id": "b0032404",
   "metadata": {},
   "source": [
    "There is a strange value on sum_gamerounds max value, I will investigate with a boxplot."
   ]
  },
  {
   "cell_type": "markdown",
   "id": "42e16e5b",
   "metadata": {},
   "source": [
    "## 1.2 Check Outliers"
   ]
  },
  {
   "cell_type": "code",
   "execution_count": 76,
   "id": "df3d9409",
   "metadata": {
    "ExecuteTime": {
     "end_time": "2023-08-13T19:36:33.812098Z",
     "start_time": "2023-08-13T19:36:33.668067Z"
    }
   },
   "outputs": [
    {
     "data": {
      "text/plain": [
       "<Axes: >"
      ]
     },
     "execution_count": 76,
     "metadata": {},
     "output_type": "execute_result"
    },
    {
     "data": {
      "image/png": "[encoded data removed]",
      "text/plain": [
       "<Figure size 640x480 with 1 Axes>"
      ]
     },
     "metadata": {},
     "output_type": "display_data"
    }
   ],
   "source": [
    "sns.boxplot(df1['sum_gamerounds'])"
   ]
  },
  {
   "cell_type": "markdown",
   "id": "55724a22",
   "metadata": {},
   "source": [
    "We have an outlier with sum_gamerounds = 49854. Let's remove it."
   ]
  },
  {
   "cell_type": "code",
   "execution_count": 77,
   "id": "b5718b9c",
   "metadata": {
    "ExecuteTime": {
     "end_time": "2023-08-13T19:36:33.953265Z",
     "start_time": "2023-08-13T19:36:33.942721Z"
    }
   },
   "outputs": [],
   "source": [
    "df1 = df1.loc[df1['sum_gamerounds'] != 49854,:]"
   ]
  },
  {
   "cell_type": "markdown",
   "id": "df09ff13",
   "metadata": {},
   "source": [
    "## 1.3 Check Na / Zeros"
   ]
  },
  {
   "cell_type": "code",
   "execution_count": 78,
   "id": "57f2c48d",
   "metadata": {
    "ExecuteTime": {
     "end_time": "2023-08-13T19:36:34.464358Z",
     "start_time": "2023-08-13T19:36:34.218356Z"
    }
   },
   "outputs": [
    {
     "name": "stdout",
     "output_type": "stream",
     "text": [
      "     sum_gamerounds  percentage\n",
      "0                 1    0.061405\n",
      "1                 2    0.051071\n",
      "2                 0    0.044285\n",
      "3                 3    0.043886\n",
      "4                 4    0.040238\n",
      "..              ...         ...\n",
      "936             933    0.000011\n",
      "937             617    0.000011\n",
      "938            1462    0.000011\n",
      "939             578    0.000011\n",
      "940             708    0.000011\n",
      "\n",
      "[941 rows x 2 columns]\n"
     ]
    },
    {
     "data": {
      "text/plain": [
       "<Axes: xlabel='sum_gamerounds', ylabel='Count'>"
      ]
     },
     "execution_count": 78,
     "metadata": {},
     "output_type": "execute_result"
    },
    {
     "data": {
      "image/png": "[encoded data removed]",
      "text/plain": [
       "<Figure size 640x480 with 1 Axes>"
      ]
     },
     "metadata": {},
     "output_type": "display_data"
    }
   ],
   "source": [
    "# Criar uma tabela de frequência para sum_gamerounds\n",
    "game_rounds = df1['sum_gamerounds'].value_counts(normalize=True).reset_index()\n",
    "game_rounds.columns = ['sum_gamerounds', 'percentage']\n",
    "\n",
    "# Exibir a distribuição de porcentagem de sum_gamerounds\n",
    "print(game_rounds)\n",
    "\n",
    "sns.histplot(df1['sum_gamerounds'], bins=25)"
   ]
  },
  {
   "cell_type": "markdown",
   "id": "58cbc3c5",
   "metadata": {},
   "source": [
    "About 4% of my customers did not play the game (0 Game Rounds). Let's remove them.\n",
    "\n",
    "We also know that most of customers played only a few rounds"
   ]
  },
  {
   "cell_type": "code",
   "execution_count": 79,
   "id": "80c6d304",
   "metadata": {
    "ExecuteTime": {
     "end_time": "2023-08-13T19:36:34.838105Z",
     "start_time": "2023-08-13T19:36:34.829539Z"
    }
   },
   "outputs": [],
   "source": [
    "df1 = df1.loc[df1['sum_gamerounds'] != 0,:]"
   ]
  },
  {
   "cell_type": "code",
   "execution_count": 80,
   "id": "c0df8f7d",
   "metadata": {
    "ExecuteTime": {
     "end_time": "2023-08-13T19:36:35.591573Z",
     "start_time": "2023-08-13T19:36:35.581088Z"
    }
   },
   "outputs": [
    {
     "data": {
      "text/plain": [
       "userid            0\n",
       "version           0\n",
       "sum_gamerounds    0\n",
       "retention_1       0\n",
       "retention_7       0\n",
       "dtype: int64"
      ]
     },
     "execution_count": 80,
     "metadata": {},
     "output_type": "execute_result"
    }
   ],
   "source": [
    "df1.isna().sum()"
   ]
  },
  {
   "cell_type": "markdown",
   "id": "6ae4f006",
   "metadata": {},
   "source": [
    "## 1.4 Retention Proportion"
   ]
  },
  {
   "cell_type": "code",
   "execution_count": 81,
   "id": "5a31f730",
   "metadata": {
    "ExecuteTime": {
     "end_time": "2023-08-13T19:36:36.269120Z",
     "start_time": "2023-08-13T19:36:35.918080Z"
    }
   },
   "outputs": [
    {
     "name": "stderr",
     "output_type": "stream",
     "text": [
      "C:\\Users\\edils\\AppData\\Local\\Temp\\ipykernel_4992\\3858841341.py:9: SettingWithCopyWarning: \n",
      "A value is trying to be set on a copy of a slice from a DataFrame.\n",
      "Try using .loc[row_indexer,col_indexer] = value instead\n",
      "\n",
      "See the caveats in the documentation: https://pandas.pydata.org/pandas-docs/stable/user_guide/indexing.html#returning-a-view-versus-a-copy\n",
      "  less_50['retention_1'] = less_50['retention_1'].apply(lambda x: 1 if x == True else 0)\n",
      "C:\\Users\\edils\\AppData\\Local\\Temp\\ipykernel_4992\\3858841341.py:10: SettingWithCopyWarning: \n",
      "A value is trying to be set on a copy of a slice from a DataFrame.\n",
      "Try using .loc[row_indexer,col_indexer] = value instead\n",
      "\n",
      "See the caveats in the documentation: https://pandas.pydata.org/pandas-docs/stable/user_guide/indexing.html#returning-a-view-versus-a-copy\n",
      "  less_50['retention_7'] = less_50['retention_7'].apply(lambda x: 1 if x == True else 0)\n",
      "C:\\Users\\edils\\AppData\\Local\\Temp\\ipykernel_4992\\3858841341.py:20: SettingWithCopyWarning: \n",
      "A value is trying to be set on a copy of a slice from a DataFrame.\n",
      "Try using .loc[row_indexer,col_indexer] = value instead\n",
      "\n",
      "See the caveats in the documentation: https://pandas.pydata.org/pandas-docs/stable/user_guide/indexing.html#returning-a-view-versus-a-copy\n",
      "  more_50['retention_1'] = more_50['retention_1'].apply(lambda x: 1 if x == True else 0)\n",
      "C:\\Users\\edils\\AppData\\Local\\Temp\\ipykernel_4992\\3858841341.py:21: SettingWithCopyWarning: \n",
      "A value is trying to be set on a copy of a slice from a DataFrame.\n",
      "Try using .loc[row_indexer,col_indexer] = value instead\n",
      "\n",
      "See the caveats in the documentation: https://pandas.pydata.org/pandas-docs/stable/user_guide/indexing.html#returning-a-view-versus-a-copy\n",
      "  more_50['retention_7'] = more_50['retention_7'].apply(lambda x: 1 if x == True else 0)\n",
      "C:\\Users\\edils\\AppData\\Local\\Temp\\ipykernel_4992\\3858841341.py:30: UserWarning: Matplotlib is currently using module://matplotlib_inline.backend_inline, which is a non-GUI backend, so cannot show the figure.\n",
      "  fig.show()\n"
     ]
    },
    {
     "data": {
      "image/png": "[encoded data removed]",
      "text/plain": [
       "<Figure size 1000x800 with 2 Axes>"
      ]
     },
     "metadata": {},
     "output_type": "display_data"
    }
   ],
   "source": [
    "#Lets analyze retention for < 50 game rounds and >50 game rounds\n",
    "\n",
    "#transform false/true in 0 and 1\n",
    "\n",
    "fig, axes = plt.subplots(2,1, figsize=(10,8))\n",
    "\n",
    "less_50 = df1.loc[df1['sum_gamerounds'] <= 50, :]\n",
    "\n",
    "less_50['retention_1'] = less_50['retention_1'].apply(lambda x: 1 if x == True else 0)\n",
    "less_50['retention_7'] = less_50['retention_7'].apply(lambda x: 1 if x == True else 0)\n",
    "\n",
    "\n",
    "retention_proportion_50 = less_50[['version', 'retention_1','retention_7']].groupby('version').sum().reset_index()\n",
    "\n",
    "sns.barplot(retention_proportion_50, ax=axes[0], errorbar=None)\n",
    "axes[0].set_title('Retention Proportion for Less than 50 Game Rounds')\n",
    "\n",
    "more_50 = df1.loc[df1['sum_gamerounds'] > 50, :]\n",
    "\n",
    "more_50['retention_1'] = more_50['retention_1'].apply(lambda x: 1 if x == True else 0)\n",
    "more_50['retention_7'] = more_50['retention_7'].apply(lambda x: 1 if x == True else 0)\n",
    "\n",
    "\n",
    "retention_proportion_more_50 = more_50[['version', 'retention_1','retention_7']].groupby('version').sum()\n",
    "\n",
    "sns.barplot(retention_proportion_more_50, ax=axes[1], errorbar=None)\n",
    "axes[1].set_title('Retention Proportion for More than 50 Game Rounds')\n",
    "\n",
    "plt.tight_layout()\n",
    "fig.show()"
   ]
  },
  {
   "cell_type": "markdown",
   "id": "cde99407",
   "metadata": {},
   "source": [
    "We can see that retention is higher for 7 days as players starts playing more than the average 50 Game Rounds."
   ]
  },
  {
   "cell_type": "markdown",
   "id": "ec7b527c",
   "metadata": {},
   "source": [
    "## Retention Rate for Each Group"
   ]
  },
  {
   "cell_type": "code",
   "execution_count": 82,
   "id": "86c0e335",
   "metadata": {
    "ExecuteTime": {
     "end_time": "2023-08-13T19:36:37.717507Z",
     "start_time": "2023-08-13T19:36:37.703986Z"
    }
   },
   "outputs": [],
   "source": [
    "df_rate = df1.copy()"
   ]
  },
  {
   "cell_type": "code",
   "execution_count": 83,
   "id": "579aee33",
   "metadata": {
    "ExecuteTime": {
     "end_time": "2023-08-13T19:36:38.122050Z",
     "start_time": "2023-08-13T19:36:38.054162Z"
    }
   },
   "outputs": [],
   "source": [
    "df_rate['retention_1'] = df1['retention_1'].apply(lambda x: 1 if x == True else 0)\n",
    "df_rate['retention_7'] = df1['retention_7'].apply(lambda x: 1 if x == True else 0)"
   ]
  },
  {
   "cell_type": "code",
   "execution_count": 85,
   "id": "a096183a",
   "metadata": {
    "ExecuteTime": {
     "end_time": "2023-08-13T19:40:13.324936Z",
     "start_time": "2023-08-13T19:40:13.274278Z"
    }
   },
   "outputs": [
    {
     "name": "stdout",
     "output_type": "stream",
     "text": [
      "Retention Rate After 1 day Installing for Gate 30: 0.232\n",
      "Retention Rate After 1 day Installing for Gate 40: 0.233\n",
      "Retention Rate After 7 day Installing for Gate 30: 0.098\n",
      "Retention Rate After 7 day Installing for Gate 40: 0.096\n"
     ]
    }
   ],
   "source": [
    "df_rate[['version', 'retention_1','retention_7']].groupby('version').sum().reset_index()\n",
    "\n",
    "total_gate_30 = len(df_rate.loc[df_rate['version'] == 'gate_30',:])\n",
    "total_gate_40 = len(df_rate.loc[df_rate['version'] == 'gate_40',:])\n",
    "total_players = len(df_rate)\n",
    "\n",
    "gate_30_ret_1 = df_rate.loc[df_rate['version'] == 'gate_30','retention_1'].sum()\n",
    "gate_40_ret_1 = df_rate.loc[df_rate['version'] == 'gate_40','retention_1'].sum()\n",
    "gate_30_ret_7 = df_rate.loc[df_rate['version'] == 'gate_30','retention_7'].sum()\n",
    "gate_40_ret_7 = df_rate.loc[df_rate['version'] == 'gate_40','retention_7'].sum()\n",
    "\n",
    "print(f'Retention Rate After 1 day Installing for Gate 30: {gate_30_ret_1/total_players:.3f}')\n",
    "print(f'Retention Rate After 1 day Installing for Gate 40: {gate_40_ret_1/total_players:.3f}')\n",
    "print(f'Retention Rate After 7 days Installing for Gate 30: {gate_30_ret_7/total_players:.3f}')\n",
    "print(f'Retention Rate After 7 days Installing for Gate 40: {gate_40_ret_7/total_players:.3f}')"
   ]
  },
  {
   "cell_type": "markdown",
   "id": "f53d0dc2",
   "metadata": {},
   "source": [
    "## 1.5 Check for Bad Users(both Group and Control at the same time)"
   ]
  },
  {
   "cell_type": "code",
   "execution_count": 68,
   "id": "cde75dc9",
   "metadata": {
    "ExecuteTime": {
     "end_time": "2023-08-13T19:27:24.349992Z",
     "start_time": "2023-08-13T19:27:24.317116Z"
    }
   },
   "outputs": [
    {
     "data": {
      "text/html": [
       "<div>\n",
       "<style scoped>\n",
       "    .dataframe tbody tr th:only-of-type {\n",
       "        vertical-align: middle;\n",
       "    }\n",
       "\n",
       "    .dataframe tbody tr th {\n",
       "        vertical-align: top;\n",
       "    }\n",
       "\n",
       "    .dataframe thead th {\n",
       "        text-align: right;\n",
       "    }\n",
       "</style>\n",
       "<table border=\"1\" class=\"dataframe\">\n",
       "  <thead>\n",
       "    <tr style=\"text-align: right;\">\n",
       "      <th></th>\n",
       "      <th>userid</th>\n",
       "      <th>version</th>\n",
       "    </tr>\n",
       "  </thead>\n",
       "  <tbody>\n",
       "  </tbody>\n",
       "</table>\n",
       "</div>"
      ],
      "text/plain": [
       "Empty DataFrame\n",
       "Columns: [userid, version]\n",
       "Index: []"
      ]
     },
     "execution_count": 68,
     "metadata": {},
     "output_type": "execute_result"
    }
   ],
   "source": [
    "# Check if There's same user for both group and treatment\n",
    "df1[['version','userid']].groupby('userid').nunique().query('version > 1').reset_index()"
   ]
  },
  {
   "cell_type": "markdown",
   "id": "08486b6c",
   "metadata": {},
   "source": [
    "# 2.0 Experiment Design"
   ]
  },
  {
   "cell_type": "markdown",
   "id": "4872c636",
   "metadata": {},
   "source": [
    "--- \n",
    "\n",
    "# Objective\n",
    "\n",
    "Analyze customer retention by moving the gate to level 30 to level 40.\n",
    "\n",
    " - Gate 30 = Control Group\n",
    " - Gate 40 = Treatment Group\n",
    "\n",
    " - H0: Moving the gate does not make a difference in retention\n",
    " - H1: Moving the gate makes a difference in retention\n",
    " \n",
    " - Significance Level: 0.05"
   ]
  },
  {
   "cell_type": "markdown",
   "id": "03c588cc",
   "metadata": {},
   "source": [
    "## 2.1 Sample Size"
   ]
  },
  {
   "cell_type": "code",
   "execution_count": 69,
   "id": "33a1a241",
   "metadata": {
    "ExecuteTime": {
     "end_time": "2023-08-13T19:27:25.689647Z",
     "start_time": "2023-08-13T19:27:25.654752Z"
    }
   },
   "outputs": [
    {
     "data": {
      "text/html": [
       "<div>\n",
       "<style scoped>\n",
       "    .dataframe tbody tr th:only-of-type {\n",
       "        vertical-align: middle;\n",
       "    }\n",
       "\n",
       "    .dataframe tbody tr th {\n",
       "        vertical-align: top;\n",
       "    }\n",
       "\n",
       "    .dataframe thead th {\n",
       "        text-align: right;\n",
       "    }\n",
       "</style>\n",
       "<table border=\"1\" class=\"dataframe\">\n",
       "  <thead>\n",
       "    <tr style=\"text-align: right;\">\n",
       "      <th>retention_1</th>\n",
       "      <th>False</th>\n",
       "      <th>True</th>\n",
       "    </tr>\n",
       "    <tr>\n",
       "      <th>version</th>\n",
       "      <th></th>\n",
       "      <th></th>\n",
       "    </tr>\n",
       "  </thead>\n",
       "  <tbody>\n",
       "    <tr>\n",
       "      <th>gate_30</th>\n",
       "      <td>24665</td>\n",
       "      <td>20034</td>\n",
       "    </tr>\n",
       "    <tr>\n",
       "      <th>gate_40</th>\n",
       "      <td>25370</td>\n",
       "      <td>20119</td>\n",
       "    </tr>\n",
       "  </tbody>\n",
       "</table>\n",
       "</div>"
      ],
      "text/plain": [
       "retention_1  False  True \n",
       "version                  \n",
       "gate_30      24665  20034\n",
       "gate_40      25370  20119"
      ]
     },
     "execution_count": 69,
     "metadata": {},
     "output_type": "execute_result"
    }
   ],
   "source": [
    "pd.crosstab(df1['version'], df1['retention_1'])"
   ]
  },
  {
   "cell_type": "markdown",
   "id": "eabd52aa",
   "metadata": {},
   "source": [
    "## 2.2 Chi-Squared Test"
   ]
  },
  {
   "cell_type": "markdown",
   "id": "975efca3",
   "metadata": {},
   "source": [
    "### 2.2.1 Test for 1 Day Retention"
   ]
  },
  {
   "cell_type": "code",
   "execution_count": 70,
   "id": "f3647dad",
   "metadata": {
    "ExecuteTime": {
     "end_time": "2023-08-13T19:27:27.536539Z",
     "start_time": "2023-08-13T19:27:27.504657Z"
    }
   },
   "outputs": [
    {
     "name": "stdout",
     "output_type": "stream",
     "text": [
      "Retention 1-day:\n",
      "Chi-squared Statistic: 3.169835543170799\n",
      "P-value: 0.07500999897705692\n",
      "Degrees of Freedom: 1\n",
      "Contingency Table:\n",
      "retention_1  False  True \n",
      "version                  \n",
      "gate_30      24665  20034\n",
      "gate_40      25370  20119\n",
      "Expected Frequencies:\n",
      "[[24798.35970417 19900.64029583]\n",
      " [25236.64029583 20252.35970417]]\n"
     ]
    }
   ],
   "source": [
    "# Create contingency table for retention_1\n",
    "contingency_table_1 = pd.crosstab(df1['version'], df1['retention_1'])\n",
    "\n",
    "# Chi-squared test for retention_1\n",
    "chi2_stat_1, p_value_1, dof_1, expected_1 = chi2_contingency(contingency_table_1)\n",
    "\n",
    "# Results for retention_1\n",
    "print(\"Retention 1-day:\")\n",
    "print(f\"Chi-squared Statistic: {chi2_stat_1}\")\n",
    "print(f\"P-value: {p_value_1}\")\n",
    "print(f\"Degrees of Freedom: {dof_1}\")\n",
    "print(\"Contingency Table:\")\n",
    "print(contingency_table_1)\n",
    "print(\"Expected Frequencies:\")\n",
    "print(expected_1)"
   ]
  },
  {
   "cell_type": "markdown",
   "id": "c1355edc",
   "metadata": {},
   "source": [
    "---\n",
    "\n",
    "# Retention After 1 day playing:\n",
    "\n",
    "### P-value: 0.075 (greater than 0.05)\n",
    "\n",
    "Conclusion: There is **not sufficient statistical** evidence to reject the null hypothesis. This suggests that, based on the observed data, there is no significant association between the game version (gate_30 or gate_40) and player retention after 1 day. This might happens because the player had no time to get to gate 30/40 in the first day playing.\n",
    "\n",
    "---"
   ]
  },
  {
   "cell_type": "markdown",
   "id": "c2e090f6",
   "metadata": {},
   "source": [
    "### 2.2.2 Test for 7 days Retention"
   ]
  },
  {
   "cell_type": "code",
   "execution_count": 71,
   "id": "1b84a6a4",
   "metadata": {
    "ExecuteTime": {
     "end_time": "2023-08-13T19:27:29.560764Z",
     "start_time": "2023-08-13T19:27:29.530323Z"
    }
   },
   "outputs": [
    {
     "name": "stdout",
     "output_type": "stream",
     "text": [
      "Retention 7-day:\n",
      "Chi-squared Statistic: 9.91527552890567\n",
      "P-value: 0.0016391259678654425\n",
      "Degrees of Freedom: 1\n",
      "Contingency Table:\n",
      "retention_7  False  True \n",
      "version                  \n",
      "gate_30      36198   8501\n",
      "gate_40      37210   8279\n",
      "Expected Frequencies:\n",
      "[[36382.49203885  8316.50796115]\n",
      " [37025.50796115  8463.49203885]]\n"
     ]
    }
   ],
   "source": [
    "contingency_table_7 = pd.crosstab(df1['version'], df1['retention_7'])\n",
    "\n",
    "\n",
    "chi2_stat_7, p_value_7, dof_7, expected_7 = chi2_contingency(contingency_table_7)\n",
    "\n",
    "# Results for retention_7\n",
    "print(\"Retention 7-day:\")\n",
    "print(f\"Chi-squared Statistic: {chi2_stat_7}\")\n",
    "print(f\"P-value: {p_value_7}\")\n",
    "print(f\"Degrees of Freedom: {dof_7}\")\n",
    "print(\"Contingency Table:\")\n",
    "print(contingency_table_7)\n",
    "print(\"Expected Frequencies:\")\n",
    "print(expected_7)"
   ]
  },
  {
   "cell_type": "markdown",
   "id": "c2c2d874",
   "metadata": {},
   "source": [
    "---\n",
    "\n",
    "# Retention After 7 days playing:\n",
    "\n",
    "### P-Value: P-value: 0.0016 (less than 0.05) \n",
    "\n",
    "Conclusion: Based on the observed data, **there is statistical evidence to reject the null hypothesis.** This suggests that a **significant association exists** between the game version and player retention after 7 days.\n",
    "\n",
    "---"
   ]
  },
  {
   "cell_type": "markdown",
   "id": "b03d4d38",
   "metadata": {},
   "source": [
    "# 3.0 Business Performance"
   ]
  },
  {
   "cell_type": "code",
   "execution_count": 88,
   "id": "4c439817",
   "metadata": {
    "ExecuteTime": {
     "end_time": "2023-08-13T19:42:49.206928Z",
     "start_time": "2023-08-13T19:42:49.189558Z"
    }
   },
   "outputs": [
    {
     "name": "stdout",
     "output_type": "stream",
     "text": [
      "Projected Retained Players (gate_30): 8447\n",
      "Projected Retained Players (gate_40): 8275\n",
      "Additional Revenue (gate_30): $844701.20\n",
      "Additional Revenue (gate_40): $827462.40\n",
      "Potential Increase in Revenue: $-17238.80\n"
     ]
    }
   ],
   "source": [
    "# Retention rates from your results\n",
    "retention_rate_1_day_gate_30 = 0.232\n",
    "retention_rate_1_day_gate_40 = 0.233\n",
    "retention_rate_7_days_gate_30 = 0.098\n",
    "retention_rate_7_days_gate_40 = 0.096\n",
    "\n",
    "# Initial number of players\n",
    "initial_players = len(df1)\n",
    "\n",
    "# Estimated LTV \n",
    "estimated_ltv = 100 \n",
    "\n",
    "# Calculate projected retained players after 7 days for both groups\n",
    "projected_retained_players_gate_30 = initial_players * retention_rate_7_days_gate_30\n",
    "projected_retained_players_gate_40 = initial_players * retention_rate_7_days_gate_40\n",
    "\n",
    "# Calculate additional revenue\n",
    "additional_revenue_gate_30 = projected_retained_players_gate_30 * estimated_ltv\n",
    "additional_revenue_gate_40 = projected_retained_players_gate_40 * estimated_ltv\n",
    "\n",
    "# Calculate the potential increase in revenue\n",
    "potential_increase_in_revenue = additional_revenue_gate_40 - additional_revenue_gate_30\n",
    "\n",
    "print(f\"Projected Retained Players (gate_30): {projected_retained_players_gate_30:.0f}\")\n",
    "print(f\"Projected Retained Players (gate_40): {projected_retained_players_gate_40:.0f}\")\n",
    "print(f\"Additional Revenue (gate_30): ${additional_revenue_gate_30:.2f}\")\n",
    "print(f\"Additional Revenue (gate_40): ${additional_revenue_gate_40:.2f}\")\n",
    "print(f\"Potential Increase in Revenue: ${potential_increase_in_revenue:.2f}\")"
   ]
  },
  {
   "cell_type": "markdown",
   "id": "ae2c4f4a",
   "metadata": {},
   "source": [
    "--- \n",
    "\n",
    "# Conclusion\n",
    "\n",
    "We have a difference in moving the gate to level 30 to 40, but it actually decreases the potential revenue, because the players retention is lower after 7 days.\n",
    "\n",
    "It's appropriate to conclude that, according to the data and analysis performed, the change in gate placement has **not yielded a positive impact on player retention and potential revenue**.\n",
    "\n",
    "Considering the LTV of each player of 100$, the company will lose $17238.80 in the long run."
   ]
  },
  {
   "cell_type": "code",
   "execution_count": null,
   "id": "a3b0fe79",
   "metadata": {},
   "outputs": [],
   "source": []
  }
 ],
 "metadata": {
  "kernelspec": {
   "display_name": "Python 3 (ipykernel)",
   "language": "python",
   "name": "python3"
  },
  "language_info": {
   "codemirror_mode": {
    "name": "ipython",
    "version": 3
   },
   "file_extension": ".py",
   "mimetype": "text/x-python",
   "name": "python",
   "nbconvert_exporter": "python",
   "pygments_lexer": "ipython3",
   "version": "3.10.12"
  }
 },
 "nbformat": 4,
 "nbformat_minor": 5
}
